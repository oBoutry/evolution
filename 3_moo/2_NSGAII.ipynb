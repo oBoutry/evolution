{
 "cells": [
  {
   "cell_type": "markdown",
   "metadata": {
    "slideshow": {
     "slide_type": "slide"
    }
   },
   "source": [
    "<img src=\"../imgs/logo.png\" width=\"20%\" align=\"right\" style=\"margin:0px 20px\">\n",
    "\n",
    "\n",
    "# Evolutionary Computation\n",
    "\n",
    "## 3.2 NSGA-II\n",
    "\n",
    "<a rel=\"license\" href=\"http://creativecommons.org/licenses/by-sa/4.0/\"><img alt=\"Creative Commons License\" align=\"left\" src=\"https://i.creativecommons.org/l/by-sa/4.0/80x15.png\" /></a>&nbsp;| Dennis G. Wilson | <a href=\"https://d9w.github.io/evolution/\">https://d9w.github.io/evolution/</a>"
   ]
  },
  {
   "cell_type": "markdown",
   "metadata": {
    "slideshow": {
     "slide_type": "slide"
    }
   },
   "source": [
    "## Outline\n",
    "\n",
    "1. [The Knapsack Problem](#knapsack)\n",
    "2. [Evolution](#evolution)\n",
    "3. [Visualization](#visualization)"
   ]
  },
  {
   "cell_type": "code",
   "execution_count": 4,
   "metadata": {
    "slideshow": {
     "slide_type": "slide"
    }
   },
   "outputs": [],
   "source": [
    "using NSGAII\n",
    "using JuMP, Cbc\n",
    "using Plots\n",
    "default(show=:ijulia)"
   ]
  },
  {
   "cell_type": "markdown",
   "metadata": {
    "slideshow": {
     "slide_type": "fragment"
    }
   },
   "source": [
    "To experiment with NSGAII we'll be using a rather new implementation of it from Github: https://github.com/gsoleilhac/NSGAII.jl/.\n",
    "\n",
    "This implementation isn't so complicated and if we look at the code, we can see that much of it resembles our [notebook code](https://github.com/d9w/evolution/blob/master/2_ga/1_GAs.ipynb) on Genetic Algorithms. Let's look at the [functions](https://github.com/gsoleilhac/NSGAII.jl/blob/master/src/functions.jl) code which contains the main Genetic Algorithm loop, as well as the [NSGA-II](http://repository.ias.ac.in/83498/1/2-a.pdf) Fast Non-Dominated Sort and Crowding Distance Algorithm."
   ]
  },
  {
   "cell_type": "markdown",
   "metadata": {
    "slideshow": {
     "slide_type": "slide"
    }
   },
   "source": [
    "## <a id=\"knapsack\"></a>The Knapsack Problem"
   ]
  },
  {
   "cell_type": "markdown",
   "metadata": {
    "slideshow": {
     "slide_type": "fragment"
    }
   },
   "source": [
    "<img src=\"https://imgs.xkcd.com/comics/np_complete.png\">\n",
    "<div style=\"text-align:center\"><a href=\"https://xkcd.com/287/\">XKCD on the Knapsack Problem</a></div>\n"
   ]
  },
  {
   "cell_type": "markdown",
   "metadata": {
    "slideshow": {
     "slide_type": "slide"
    }
   },
   "source": [
    "Imagine we're travelling and our bag has a maximum weight limit. We want to fill this bag with items of different value and maximize the total value in our bag, as long as it stays in the weight limit. This is known as the \"knapsack problem\".\n",
    "<img src=\"../imgs/knapsack.png\" width=\"30%\" height=\"auto\">\n",
    "Instead of a bag with items, you could imagine a scenario like the comic. You want to order different appetizers, but you only want to spend a fixed maximum amount. How can you get the best appetizers?"
   ]
  },
  {
   "cell_type": "markdown",
   "metadata": {
    "slideshow": {
     "slide_type": "slide"
    }
   },
   "source": [
    "Let's look at an example, specifically using the version of the Knapsack problem known as the \"0-1 knapsack problem\" where we can have at most 1 copy of each item. We'll use 5 items and randomly geneate values for them."
   ]
  },
  {
   "cell_type": "code",
   "execution_count": 5,
   "metadata": {
    "slideshow": {
     "slide_type": "fragment"
    }
   },
   "outputs": [
    {
     "name": "stdout",
     "output_type": "stream",
     "text": [
      "[76, 68, 54, 42, 5] total value: 245\n"
     ]
    }
   ],
   "source": [
    "n = 5\n",
    "values = rand(0:100, n)\n",
    "println(values, \" total value: \", sum(values))"
   ]
  },
  {
   "cell_type": "code",
   "execution_count": 28,
   "metadata": {
    "slideshow": {
     "slide_type": "fragment"
    }
   },
   "outputs": [
    {
     "name": "stdout",
     "output_type": "stream",
     "text": [
      "[20, 15, 17, 10, 16] total weight: 78\n"
     ]
    }
   ],
   "source": [
    "weights = rand(10:20, n)\n",
    "max_weight = 55\n",
    "println(weights, \" total weight: \", sum(weights))"
   ]
  },
  {
   "cell_type": "markdown",
   "metadata": {
    "slideshow": {
     "slide_type": "fragment"
    }
   },
   "source": [
    "We won't be able to take all items because of the maximum weight of 55. We'll express our choice of items using a binary string, 1 if we take the item and 0 otherwise."
   ]
  },
  {
   "cell_type": "code",
   "execution_count": 29,
   "metadata": {
    "slideshow": {
     "slide_type": "fragment"
    }
   },
   "outputs": [
    {
     "name": "stdout",
     "output_type": "stream",
     "text": [
      "Bool[0, 1, 0, 1, 0]\n"
     ]
    }
   ],
   "source": [
    "using Random: bitrand\n",
    "choices = bitrand(n)\n",
    "println(choices)"
   ]
  },
  {
   "cell_type": "markdown",
   "metadata": {
    "slideshow": {
     "slide_type": "slide"
    }
   },
   "source": [
    "The total value of our knapsack is therefore the sum of the element-wise multiplication of our choices and the individual item values."
   ]
  },
  {
   "cell_type": "code",
   "execution_count": 30,
   "metadata": {
    "slideshow": {
     "slide_type": "fragment"
    }
   },
   "outputs": [
    {
     "data": {
      "text/plain": [
       "110"
      ]
     },
     "execution_count": 30,
     "metadata": {},
     "output_type": "execute_result"
    }
   ],
   "source": [
    "sum(choices .* values)"
   ]
  },
  {
   "cell_type": "markdown",
   "metadata": {
    "slideshow": {
     "slide_type": "fragment"
    }
   },
   "source": [
    "In other words, the dot product of the two vectors."
   ]
  },
  {
   "cell_type": "code",
   "execution_count": 31,
   "metadata": {
    "slideshow": {
     "slide_type": "fragment"
    }
   },
   "outputs": [
    {
     "data": {
      "text/plain": [
       "110"
      ]
     },
     "execution_count": 31,
     "metadata": {},
     "output_type": "execute_result"
    }
   ],
   "source": [
    "using LinearAlgebra: dot\n",
    "dot(choices, values)"
   ]
  },
  {
   "cell_type": "markdown",
   "metadata": {
    "slideshow": {
     "slide_type": "fragment"
    }
   },
   "source": [
    "We can also use the dot product to check if our choices fall under the weight limit"
   ]
  },
  {
   "cell_type": "code",
   "execution_count": 34,
   "metadata": {
    "slideshow": {
     "slide_type": "fragment"
    }
   },
   "outputs": [
    {
     "data": {
      "text/plain": [
       "(25, 55)"
      ]
     },
     "execution_count": 34,
     "metadata": {},
     "output_type": "execute_result"
    }
   ],
   "source": [
    "dot(choices, weights), max_weight"
   ]
  },
  {
   "cell_type": "markdown",
   "metadata": {
    "slideshow": {
     "slide_type": "slide"
    }
   },
   "source": [
    "Let's say you and a friend are travelling together and to make it cheaper, you're sharing a bag. You and your friend assign different values to each item based on what you want to bring on the trip. Your preferences are in `values` and your friends preferences are:"
   ]
  },
  {
   "cell_type": "code",
   "execution_count": 52,
   "metadata": {
    "slideshow": {
     "slide_type": "fragment"
    }
   },
   "outputs": [
    {
     "name": "stdout",
     "output_type": "stream",
     "text": [
      "You:\t[76, 68, 54, 42, 5] total value: 245\n",
      "Friend:\t[20, 45, 76, 47, 42] total value: 230\n"
     ]
    }
   ],
   "source": [
    "values2 = rand(0:100, n)\n",
    "println(\"You:\\t\", values, \" total value: \", sum(values))\n",
    "println(\"Friend:\\t\", values2, \" total value: \", sum(values2))"
   ]
  },
  {
   "cell_type": "markdown",
   "metadata": {
    "slideshow": {
     "slide_type": "fragment"
    }
   },
   "source": [
    "Let's see who is happier with the choices we made"
   ]
  },
  {
   "cell_type": "code",
   "execution_count": 74,
   "metadata": {
    "slideshow": {
     "slide_type": "fragment"
    }
   },
   "outputs": [
    {
     "name": "stdout",
     "output_type": "stream",
     "text": [
      "Bool[1, 1, 1, 1, 0]\n",
      "weight: 62\n",
      "You: 240 Friend: 188\n"
     ]
    }
   ],
   "source": [
    "choices = bitrand(n)\n",
    "println(choices)\n",
    "println(\"weight: \", dot(choices, weights))\n",
    "println(\"You: \", dot(choices, values), \" Friend: \", dot(choices, values2))"
   ]
  },
  {
   "cell_type": "markdown",
   "metadata": {
    "slideshow": {
     "slide_type": "fragment"
    }
   },
   "source": [
    "This is the multi-objective version of the Knapsack problem where we use $K$ different value vectors for $K$ objectives."
   ]
  },
  {
   "cell_type": "markdown",
   "metadata": {
    "slideshow": {
     "slide_type": "slide"
    }
   },
   "source": [
    "[The Knapsack problem](https://en.wikipedia.org/wiki/Knapsack_problem) has been thoroughly studied in theoretical computer science and evolutionary computation is not the only choice for solving it; dynamic programming and mixed integer programming are what [JuMP](https://github.com/JuliaOpt/JuMP.jl), an optimization library, uses."
   ]
  },
  {
   "cell_type": "code",
   "execution_count": 75,
   "metadata": {
    "slideshow": {
     "slide_type": "fragment"
    }
   },
   "outputs": [
    {
     "ename": "ErrorException",
     "evalue": "The solver= keyword is no longer available in JuMP 0.19 and later. See the JuMP documentation (http://www.juliaopt.org/JuMP.jl/latest/) for latest syntax.",
     "output_type": "error",
     "traceback": [
      "The solver= keyword is no longer available in JuMP 0.19 and later. See the JuMP documentation (http://www.juliaopt.org/JuMP.jl/latest/) for latest syntax.",
      "",
      "Stacktrace:",
      " [1] error(::String) at ./error.jl:33",
      " [2] Model(; caching_mode::MathOptInterface.Utilities.CachingOptimizerMode, solver::CbcSolver) at /Users/boutryoscar/.julia/packages/JuMP/MnJQc/src/JuMP.jl:198",
      " [3] top-level scope at In[75]:1"
     ]
    }
   ],
   "source": [
    "# Note that this uses JuMP 0.18.6 format, different in JuMP 0.19\n",
    "m = Model(solver=CbcSolver())\n",
    "@variable(m, x[1:n], Bin)\n",
    "# Objective: maximize profit\n",
    "@objective(m, Max, dot(values, x))\n",
    "@objective(m, Max, dot(values2, x))\n",
    "# Constraint: can carry all\n",
    "@constraint(m, dot(weights, x) <= max_weight)\n",
    "# Solve problem using MIP solver\n",
    "status = solve(m);"
   ]
  },
  {
   "cell_type": "code",
   "execution_count": 83,
   "metadata": {
    "scrolled": true
   },
   "outputs": [
    {
     "name": "stdout",
     "output_type": "stream",
     "text": [
      "Objective is: 168.0\n",
      "Solution is:\n",
      "x[1] = 0.0, p[1]/w[1] = 3.8\n",
      "x[2] = 1.0, p[2]/w[2] = 4.533333333333333\n",
      "x[3] = 1.0, p[3]/w[3] = 3.176470588235294\n",
      "x[4] = 1.0, p[4]/w[4] = 4.2\n",
      "x[5] = 0.0, p[5]/w[5] = 0.3125\n"
     ]
    }
   ],
   "source": [
    "using JuMP, GLPK\n",
    "m = Model(GLPK.Optimizer)\n",
    "@variable(m, x[1:n], Bin)\n",
    "# Objective: maximize profit\n",
    "@objective(m, Max, dot(values, x))\n",
    "@objective(m, Max, dot(values2, x))\n",
    "# Constraint: can carry all\n",
    "@constraint(m, dot(weights, x) <= max_weight)\n",
    "# Solve problem using MIP solver\n",
    "JuMP.optimize!(m);\n",
    "println(\"Objective is: \", JuMP.objective_value(m))\n",
    "println(\"Solution is:\")\n",
    "for i in 1:5\n",
    "    print(\"x[$i] = \", JuMP.value(x[i]))\n",
    "    println(\", p[$i]/w[$i] = \", values[i] / weights[i])\n",
    "end\n"
   ]
  },
  {
   "cell_type": "markdown",
   "metadata": {
    "slideshow": {
     "slide_type": "slide"
    }
   },
   "source": [
    "## <a id=\"evolution\"></a>Evolution"
   ]
  },
  {
   "cell_type": "markdown",
   "metadata": {
    "slideshow": {
     "slide_type": "fragment"
    }
   },
   "source": [
    "To apply NSGA-II to this problem, let's scale up the number of items to 100. "
   ]
  },
  {
   "cell_type": "code",
   "execution_count": 84,
   "metadata": {
    "slideshow": {
     "slide_type": "fragment"
    }
   },
   "outputs": [
    {
     "data": {
      "text/plain": [
       "100×2 Array{Float64,2}:\n",
       " 0.320299    0.238546\n",
       " 0.00394808  0.479086\n",
       " 0.510274    0.359976\n",
       " 0.949682    0.357873\n",
       " 0.728367    0.993372\n",
       " 0.692649    0.0491533\n",
       " 0.210103    0.233454\n",
       " 0.240521    0.435404\n",
       " 0.917716    0.389308\n",
       " 0.760881    0.174276\n",
       " 0.92402     0.815114\n",
       " 0.0708688   0.438818\n",
       " 0.459867    0.776521\n",
       " ⋮           \n",
       " 0.143114    0.154988\n",
       " 0.0320154   0.202967\n",
       " 0.0141015   0.343749\n",
       " 0.14205     0.340075\n",
       " 0.311038    0.681951\n",
       " 0.560157    0.348991\n",
       " 0.711029    0.99991\n",
       " 0.258042    0.122998\n",
       " 0.729842    0.441024\n",
       " 0.854474    0.741615\n",
       " 0.531297    0.0181568\n",
       " 0.0605698   0.282823"
      ]
     },
     "execution_count": 84,
     "metadata": {},
     "output_type": "execute_result"
    }
   ],
   "source": [
    "n = 100\n",
    "n_objectives = 2\n",
    "values = rand(n, n_objectives)"
   ]
  },
  {
   "cell_type": "markdown",
   "metadata": {
    "slideshow": {
     "slide_type": "slide"
    }
   },
   "source": [
    "Let's normalize our fitness values by their sum, so that the total maximum value is 1.0 which will help with plotting later."
   ]
  },
  {
   "cell_type": "code",
   "execution_count": 85,
   "metadata": {
    "slideshow": {
     "slide_type": "fragment"
    }
   },
   "outputs": [
    {
     "data": {
      "text/plain": [
       "1×2 Array{Float64,2}:\n",
       " 1.0  1.0"
      ]
     },
     "execution_count": 85,
     "metadata": {},
     "output_type": "execute_result"
    }
   ],
   "source": [
    "values = values ./ sum(values, dims=1);\n",
    "sum(values, dims=1)"
   ]
  },
  {
   "cell_type": "markdown",
   "metadata": {
    "slideshow": {
     "slide_type": "slide"
    }
   },
   "source": [
    "Similarly, let's normalize the weights to sum to 1 and set a maximum weight of 0.5, meaning we can keep only half the items on average. This will let us change the number of items more easily later on but doesn't impact the problem in any way."
   ]
  },
  {
   "cell_type": "code",
   "execution_count": 86,
   "metadata": {
    "slideshow": {
     "slide_type": "fragment"
    }
   },
   "outputs": [
    {
     "data": {
      "text/plain": [
       "0.5"
      ]
     },
     "execution_count": 86,
     "metadata": {},
     "output_type": "execute_result"
    }
   ],
   "source": [
    "weights = rand(n)\n",
    "weights = weights ./ sum(weights)\n",
    "max_weight = 0.5"
   ]
  },
  {
   "cell_type": "markdown",
   "metadata": {
    "slideshow": {
     "slide_type": "slide"
    }
   },
   "source": [
    "Let's write our objective function which will compute the value of our knapsack using each different column of profit values."
   ]
  },
  {
   "cell_type": "code",
   "execution_count": 87,
   "metadata": {
    "slideshow": {
     "slide_type": "fragment"
    }
   },
   "outputs": [
    {
     "data": {
      "text/plain": [
       "objective (generic function with 1 method)"
      ]
     },
     "execution_count": 87,
     "metadata": {},
     "output_type": "execute_result"
    }
   ],
   "source": [
    "function objective(genes::AbstractArray)\n",
    "    fits = zeros(n_objectives)\n",
    "    for i in 1:n_objectives\n",
    "        fits[i] = dot(genes, values[:, i])\n",
    "    end\n",
    "    tuple(fits...)\n",
    "end"
   ]
  },
  {
   "cell_type": "markdown",
   "metadata": {
    "slideshow": {
     "slide_type": "slide"
    }
   },
   "source": [
    "We'll add in our weight constraint separately. This is used in the evaluation of individuals and is considered a part of our objective function, but is handled separately. Our lecture on evolution with constraints will go into more detail on that. For this NSGA-II implementation, we return 0 if the condition passes and the distance from meeting the condition otherwise."
   ]
  },
  {
   "cell_type": "code",
   "execution_count": 88,
   "metadata": {
    "slideshow": {
     "slide_type": "fragment"
    }
   },
   "outputs": [
    {
     "data": {
      "text/plain": [
       "constraint (generic function with 1 method)"
      ]
     },
     "execution_count": 88,
     "metadata": {},
     "output_type": "execute_result"
    }
   ],
   "source": [
    "function constraint(genes::AbstractArray)\n",
    "    sum_weights = dot(genes, weights)\n",
    "    return sum_weights <= max_weight ? 0 : sum_weights - max_weight\n",
    "end"
   ]
  },
  {
   "cell_type": "markdown",
   "metadata": {
    "slideshow": {
     "slide_type": "slide"
    }
   },
   "source": [
    "That's all, so now we're ready to run NSGA-II. Let's run it for 100 generations on a population of 100. The function returns the set of non-dominated individuals at the end"
   ]
  },
  {
   "cell_type": "code",
   "execution_count": 91,
   "metadata": {
    "slideshow": {
     "slide_type": "fragment"
    }
   },
   "outputs": [
    {
     "data": {
      "text/plain": [
       "indiv([101010001110110...110101101101100] : (0.6836263338084417, 0.7387577273829747) | rank : 1)"
      ]
     },
     "execution_count": 91,
     "metadata": {},
     "output_type": "execute_result"
    }
   ],
   "source": [
    "popsize = 100\n",
    "nbgen = 100\n",
    "init() = bitrand(n)\n",
    "non_dominated =  nsga_max(popsize, nbgen, objective, init, fCV=constraint)\n",
    "non_dominated[1]"
   ]
  },
  {
   "cell_type": "markdown",
   "metadata": {
    "slideshow": {
     "slide_type": "slide"
    }
   },
   "source": [
    "Let's see what type of total profit values we have from our two objectives."
   ]
  },
  {
   "cell_type": "code",
   "execution_count": 92,
   "metadata": {
    "slideshow": {
     "slide_type": "fragment"
    }
   },
   "outputs": [
    {
     "data": {
      "text/plain": [
       "6-element Array{Array{Float64,1},1}:\n",
       " [0.6836263338084417, 0.7387577273829747]\n",
       " [0.7454031328056019, 0.7143310326620819]\n",
       " [0.7136871556690212, 0.7373835261837567]\n",
       " [0.7350522907640993, 0.7228572247170714]\n",
       " [0.7320306903188654, 0.7337206075284622]\n",
       " [0.7330658528504758, 0.7235318928846008]"
      ]
     },
     "execution_count": 92,
     "metadata": {},
     "output_type": "execute_result"
    }
   ],
   "source": [
    "unique([collect(i.y) for i in non_dominated])"
   ]
  },
  {
   "cell_type": "markdown",
   "metadata": {
    "slideshow": {
     "slide_type": "slide"
    }
   },
   "source": [
    "Finally, we can compare this value to a value obtained by JuMP"
   ]
  },
  {
   "cell_type": "code",
   "execution_count": 98,
   "metadata": {},
   "outputs": [
    {
     "name": "stdout",
     "output_type": "stream",
     "text": [
      "JuMP: 0.6790955691753553 0.8075917837380456\n"
     ]
    }
   ],
   "source": [
    "m = Model(GLPK.Optimizer)\n",
    "@variable(m, x[1:n], Bin)\n",
    "@objective(m, Max, dot(values[:, 1], x))\n",
    "@objective(m, Max, dot(values[:, 2], x))\n",
    "@constraint(m, dot(weights, x) <= max_weight)\n",
    "JuMP.optimize!(m)\n",
    "best_solution = [JuMP.value(x[i]) for i in 1:n]\n",
    "println(\"JuMP: \", dot(values[:, 1], best_solution), \" \", dot(values[:, 2], best_solution))"
   ]
  },
  {
   "cell_type": "markdown",
   "metadata": {
    "slideshow": {
     "slide_type": "slide"
    }
   },
   "source": [
    "<div class=\"alert alert-success\">\n",
    "    <b>Exercise 2</b>\n",
    "    <br/>\n",
    "    Increase the problem difficulty by increasing the number of items and reducing the weight limit. How does NSGA-II do?\n",
    "    <br/>\n",
    "</div>"
   ]
  },
  {
   "cell_type": "code",
   "execution_count": 112,
   "metadata": {},
   "outputs": [
    {
     "name": "stdout",
     "output_type": "stream",
     "text": [
      "NSGA-II : indiv([100100100111111...001010011001001] : (0.5759768679201878, 0.541229621838577) | rank : 1)\n",
      "Ensemble non dominated : [[0.5759768679201878, 0.541229621838577], [0.565840566455258, 0.5468255687369149], [0.5744166163575063, 0.5447742116908995]]\n",
      "JuMP: 0.5675248976089745 0.727493160348682\n"
     ]
    }
   ],
   "source": [
    "n = 500 #nb items\n",
    "n_objectives = 2\n",
    "values = rand(n, n_objectives)\n",
    "\n",
    "values = values ./ sum(values, dims=1);\n",
    "sum(values, dims=1)\n",
    "\n",
    "weights = rand(n)\n",
    "weights = weights ./ sum(weights)\n",
    "max_weight = 0.4\n",
    "\n",
    "popsize = 100\n",
    "nbgen = 100\n",
    "init() = bitrand(n)\n",
    "non_dominated =  nsga_max(popsize, nbgen, objective, init, fCV=constraint)\n",
    "println(\"NSGA-II : \",non_dominated[1])\n",
    "\n",
    "println(\"Ensemble non dominated : \", unique([collect(i.y) for i in non_dominated]))\n",
    "\n",
    "m = Model(GLPK.Optimizer)\n",
    "@variable(m, x[1:n], Bin)\n",
    "@objective(m, Max, dot(values[:, 1], x))\n",
    "@objective(m, Max, dot(values[:, 2], x))\n",
    "@constraint(m, dot(weights, x) <= max_weight)\n",
    "JuMP.optimize!(m)\n",
    "best_solution = [JuMP.value(x[i]) for i in 1:n]\n",
    "println(\"JuMP: \", dot(values[:, 1], best_solution), \" \", dot(values[:, 2], best_solution))"
   ]
  },
  {
   "cell_type": "markdown",
   "metadata": {},
   "source": [
    "NSGA-II devient vraiment moins bon que JuMP avec une telle difficulté"
   ]
  },
  {
   "cell_type": "markdown",
   "metadata": {
    "slideshow": {
     "slide_type": "slide"
    }
   },
   "source": [
    "## <a id=\"visualization\"></a>Visualization"
   ]
  },
  {
   "cell_type": "markdown",
   "metadata": {
    "slideshow": {
     "slide_type": "fragment"
    }
   },
   "source": [
    "To better understand NSGA-II's evolution, let's observe the population over time."
   ]
  },
  {
   "cell_type": "code",
   "execution_count": 140,
   "metadata": {
    "slideshow": {
     "slide_type": "slide"
    }
   },
   "outputs": [
    {
     "data": {
      "image/svg+xml": [
       "<?xml version=\"1.0\" encoding=\"utf-8\"?>\n",
       "<svg xmlns=\"http://www.w3.org/2000/svg\" xmlns:xlink=\"http://www.w3.org/1999/xlink\" width=\"600\" height=\"400\" viewBox=\"0 0 2400 1600\">\n",
       "<defs>\n",
       "  <clipPath id=\"clip1600\">\n",
       "    <rect x=\"0\" y=\"0\" width=\"2400\" height=\"1600\"/>\n",
       "  </clipPath>\n",
       "</defs>\n",
       "<path clip-path=\"url(#clip1600)\" d=\"\n",
       "M0 1600 L2400 1600 L2400 0 L0 0  Z\n",
       "  \" fill=\"#ffffff\" fill-rule=\"evenodd\" fill-opacity=\"1\"/>\n",
       "<defs>\n",
       "  <clipPath id=\"clip1601\">\n",
       "    <rect x=\"480\" y=\"0\" width=\"1681\" height=\"1600\"/>\n",
       "  </clipPath>\n",
       "</defs>\n",
       "<path clip-path=\"url(#clip1600)\" d=\"\n",
       "M148.334 1486.45 L2352.76 1486.45 L2352.76 47.2441 L148.334 47.2441  Z\n",
       "  \" fill=\"#ffffff\" fill-rule=\"evenodd\" fill-opacity=\"1\"/>\n",
       "<defs>\n",
       "  <clipPath id=\"clip1602\">\n",
       "    <rect x=\"148\" y=\"47\" width=\"2205\" height=\"1440\"/>\n",
       "  </clipPath>\n",
       "</defs>\n",
       "<polyline clip-path=\"url(#clip1602)\" style=\"stroke:#000000; stroke-width:2; stroke-opacity:0.1; fill:none\" points=\"\n",
       "  148.334,1486.45 148.334,47.2441 \n",
       "  \"/>\n",
       "<polyline clip-path=\"url(#clip1602)\" style=\"stroke:#000000; stroke-width:2; stroke-opacity:0.1; fill:none\" points=\"\n",
       "  589.219,1486.45 589.219,47.2441 \n",
       "  \"/>\n",
       "<polyline clip-path=\"url(#clip1602)\" style=\"stroke:#000000; stroke-width:2; stroke-opacity:0.1; fill:none\" points=\"\n",
       "  1030.1,1486.45 1030.1,47.2441 \n",
       "  \"/>\n",
       "<polyline clip-path=\"url(#clip1602)\" style=\"stroke:#000000; stroke-width:2; stroke-opacity:0.1; fill:none\" points=\"\n",
       "  1470.99,1486.45 1470.99,47.2441 \n",
       "  \"/>\n",
       "<polyline clip-path=\"url(#clip1602)\" style=\"stroke:#000000; stroke-width:2; stroke-opacity:0.1; fill:none\" points=\"\n",
       "  1911.87,1486.45 1911.87,47.2441 \n",
       "  \"/>\n",
       "<polyline clip-path=\"url(#clip1602)\" style=\"stroke:#000000; stroke-width:2; stroke-opacity:0.1; fill:none\" points=\"\n",
       "  2352.76,1486.45 2352.76,47.2441 \n",
       "  \"/>\n",
       "<polyline clip-path=\"url(#clip1602)\" style=\"stroke:#000000; stroke-width:2; stroke-opacity:0.1; fill:none\" points=\"\n",
       "  148.334,1486.45 2352.76,1486.45 \n",
       "  \"/>\n",
       "<polyline clip-path=\"url(#clip1602)\" style=\"stroke:#000000; stroke-width:2; stroke-opacity:0.1; fill:none\" points=\"\n",
       "  148.334,1198.61 2352.76,1198.61 \n",
       "  \"/>\n",
       "<polyline clip-path=\"url(#clip1602)\" style=\"stroke:#000000; stroke-width:2; stroke-opacity:0.1; fill:none\" points=\"\n",
       "  148.334,910.766 2352.76,910.766 \n",
       "  \"/>\n",
       "<polyline clip-path=\"url(#clip1602)\" style=\"stroke:#000000; stroke-width:2; stroke-opacity:0.1; fill:none\" points=\"\n",
       "  148.334,622.926 2352.76,622.926 \n",
       "  \"/>\n",
       "<polyline clip-path=\"url(#clip1602)\" style=\"stroke:#000000; stroke-width:2; stroke-opacity:0.1; fill:none\" points=\"\n",
       "  148.334,335.085 2352.76,335.085 \n",
       "  \"/>\n",
       "<polyline clip-path=\"url(#clip1602)\" style=\"stroke:#000000; stroke-width:2; stroke-opacity:0.1; fill:none\" points=\"\n",
       "  148.334,47.2441 2352.76,47.2441 \n",
       "  \"/>\n",
       "<polyline clip-path=\"url(#clip1600)\" style=\"stroke:#000000; stroke-width:4; stroke-opacity:1; fill:none\" points=\"\n",
       "  148.334,1486.45 2352.76,1486.45 \n",
       "  \"/>\n",
       "<polyline clip-path=\"url(#clip1600)\" style=\"stroke:#000000; stroke-width:4; stroke-opacity:1; fill:none\" points=\"\n",
       "  148.334,1486.45 148.334,47.2441 \n",
       "  \"/>\n",
       "<polyline clip-path=\"url(#clip1600)\" style=\"stroke:#000000; stroke-width:4; stroke-opacity:1; fill:none\" points=\"\n",
       "  148.334,1486.45 148.334,1469.18 \n",
       "  \"/>\n",
       "<polyline clip-path=\"url(#clip1600)\" style=\"stroke:#000000; stroke-width:4; stroke-opacity:1; fill:none\" points=\"\n",
       "  589.219,1486.45 589.219,1469.18 \n",
       "  \"/>\n",
       "<polyline clip-path=\"url(#clip1600)\" style=\"stroke:#000000; stroke-width:4; stroke-opacity:1; fill:none\" points=\"\n",
       "  1030.1,1486.45 1030.1,1469.18 \n",
       "  \"/>\n",
       "<polyline clip-path=\"url(#clip1600)\" style=\"stroke:#000000; stroke-width:4; stroke-opacity:1; fill:none\" points=\"\n",
       "  1470.99,1486.45 1470.99,1469.18 \n",
       "  \"/>\n",
       "<polyline clip-path=\"url(#clip1600)\" style=\"stroke:#000000; stroke-width:4; stroke-opacity:1; fill:none\" points=\"\n",
       "  1911.87,1486.45 1911.87,1469.18 \n",
       "  \"/>\n",
       "<polyline clip-path=\"url(#clip1600)\" style=\"stroke:#000000; stroke-width:4; stroke-opacity:1; fill:none\" points=\"\n",
       "  2352.76,1486.45 2352.76,1469.18 \n",
       "  \"/>\n",
       "<polyline clip-path=\"url(#clip1600)\" style=\"stroke:#000000; stroke-width:4; stroke-opacity:1; fill:none\" points=\"\n",
       "  148.334,1486.45 174.787,1486.45 \n",
       "  \"/>\n",
       "<polyline clip-path=\"url(#clip1600)\" style=\"stroke:#000000; stroke-width:4; stroke-opacity:1; fill:none\" points=\"\n",
       "  148.334,1198.61 174.787,1198.61 \n",
       "  \"/>\n",
       "<polyline clip-path=\"url(#clip1600)\" style=\"stroke:#000000; stroke-width:4; stroke-opacity:1; fill:none\" points=\"\n",
       "  148.334,910.766 174.787,910.766 \n",
       "  \"/>\n",
       "<polyline clip-path=\"url(#clip1600)\" style=\"stroke:#000000; stroke-width:4; stroke-opacity:1; fill:none\" points=\"\n",
       "  148.334,622.926 174.787,622.926 \n",
       "  \"/>\n",
       "<polyline clip-path=\"url(#clip1600)\" style=\"stroke:#000000; stroke-width:4; stroke-opacity:1; fill:none\" points=\"\n",
       "  148.334,335.085 174.787,335.085 \n",
       "  \"/>\n",
       "<polyline clip-path=\"url(#clip1600)\" style=\"stroke:#000000; stroke-width:4; stroke-opacity:1; fill:none\" points=\"\n",
       "  148.334,47.2441 174.787,47.2441 \n",
       "  \"/>\n",
       "<path clip-path=\"url(#clip1600)\" d=\"M 0 0 M129.851 1508.44 Q126.24 1508.44 124.411 1512 Q122.605 1515.55 122.605 1522.67 Q122.605 1529.78 124.411 1533.35 Q126.24 1536.89 129.851 1536.89 Q133.485 1536.89 135.29 1533.35 Q137.119 1529.78 137.119 1522.67 Q137.119 1515.55 135.29 1512 Q133.485 1508.44 129.851 1508.44 M129.851 1504.73 Q135.661 1504.73 138.716 1509.34 Q141.795 1513.92 141.795 1522.67 Q141.795 1531.4 138.716 1536.01 Q135.661 1540.59 129.851 1540.59 Q124.041 1540.59 120.962 1536.01 Q117.906 1531.4 117.906 1522.67 Q117.906 1513.92 120.962 1509.34 Q124.041 1504.73 129.851 1504.73 Z\" fill=\"#000000\" fill-rule=\"evenodd\" fill-opacity=\"1\" /><path clip-path=\"url(#clip1600)\" d=\"M 0 0 M146.864 1534.04 L151.749 1534.04 L151.749 1539.92 L146.864 1539.92 L146.864 1534.04 Z\" fill=\"#000000\" fill-rule=\"evenodd\" fill-opacity=\"1\" /><path clip-path=\"url(#clip1600)\" d=\"M 0 0 M166.818 1508.44 Q163.207 1508.44 161.378 1512 Q159.573 1515.55 159.573 1522.67 Q159.573 1529.78 161.378 1533.35 Q163.207 1536.89 166.818 1536.89 Q170.452 1536.89 172.258 1533.35 Q174.087 1529.78 174.087 1522.67 Q174.087 1515.55 172.258 1512 Q170.452 1508.44 166.818 1508.44 M166.818 1504.73 Q172.628 1504.73 175.684 1509.34 Q178.762 1513.92 178.762 1522.67 Q178.762 1531.4 175.684 1536.01 Q172.628 1540.59 166.818 1540.59 Q161.008 1540.59 157.929 1536.01 Q154.874 1531.4 154.874 1522.67 Q154.874 1513.92 157.929 1509.34 Q161.008 1504.73 166.818 1504.73 Z\" fill=\"#000000\" fill-rule=\"evenodd\" fill-opacity=\"1\" /><path clip-path=\"url(#clip1600)\" d=\"M 0 0 M571.534 1508.44 Q567.923 1508.44 566.094 1512 Q564.288 1515.55 564.288 1522.67 Q564.288 1529.78 566.094 1533.35 Q567.923 1536.89 571.534 1536.89 Q575.168 1536.89 576.973 1533.35 Q578.802 1529.78 578.802 1522.67 Q578.802 1515.55 576.973 1512 Q575.168 1508.44 571.534 1508.44 M571.534 1504.73 Q577.344 1504.73 580.399 1509.34 Q583.478 1513.92 583.478 1522.67 Q583.478 1531.4 580.399 1536.01 Q577.344 1540.59 571.534 1540.59 Q565.723 1540.59 562.645 1536.01 Q559.589 1531.4 559.589 1522.67 Q559.589 1513.92 562.645 1509.34 Q565.723 1504.73 571.534 1504.73 Z\" fill=\"#000000\" fill-rule=\"evenodd\" fill-opacity=\"1\" /><path clip-path=\"url(#clip1600)\" d=\"M 0 0 M588.547 1534.04 L593.432 1534.04 L593.432 1539.92 L588.547 1539.92 L588.547 1534.04 Z\" fill=\"#000000\" fill-rule=\"evenodd\" fill-opacity=\"1\" /><path clip-path=\"url(#clip1600)\" d=\"M 0 0 M602.529 1535.98 L618.848 1535.98 L618.848 1539.92 L596.904 1539.92 L596.904 1535.98 Q599.566 1533.23 604.149 1528.6 Q608.756 1523.95 609.936 1522.61 Q612.182 1520.08 613.061 1518.35 Q613.964 1516.59 613.964 1514.9 Q613.964 1512.14 612.019 1510.41 Q610.098 1508.67 606.996 1508.67 Q604.797 1508.67 602.344 1509.43 Q599.913 1510.2 597.135 1511.75 L597.135 1507.03 Q599.959 1505.89 602.413 1505.31 Q604.867 1504.73 606.904 1504.73 Q612.274 1504.73 615.469 1507.42 Q618.663 1510.11 618.663 1514.6 Q618.663 1516.73 617.853 1518.65 Q617.066 1520.54 614.959 1523.14 Q614.381 1523.81 611.279 1527.03 Q608.177 1530.22 602.529 1535.98 Z\" fill=\"#000000\" fill-rule=\"evenodd\" fill-opacity=\"1\" /><path clip-path=\"url(#clip1600)\" d=\"M 0 0 M1011.38 1508.44 Q1007.77 1508.44 1005.94 1512 Q1004.13 1515.55 1004.13 1522.67 Q1004.13 1529.78 1005.94 1533.35 Q1007.77 1536.89 1011.38 1536.89 Q1015.01 1536.89 1016.82 1533.35 Q1018.64 1529.78 1018.64 1522.67 Q1018.64 1515.55 1016.82 1512 Q1015.01 1508.44 1011.38 1508.44 M1011.38 1504.73 Q1017.19 1504.73 1020.24 1509.34 Q1023.32 1513.92 1023.32 1522.67 Q1023.32 1531.4 1020.24 1536.01 Q1017.19 1540.59 1011.38 1540.59 Q1005.57 1540.59 1002.49 1536.01 Q999.432 1531.4 999.432 1522.67 Q999.432 1513.92 1002.49 1509.34 Q1005.57 1504.73 1011.38 1504.73 Z\" fill=\"#000000\" fill-rule=\"evenodd\" fill-opacity=\"1\" /><path clip-path=\"url(#clip1600)\" d=\"M 0 0 M1028.39 1534.04 L1033.27 1534.04 L1033.27 1539.92 L1028.39 1539.92 L1028.39 1534.04 Z\" fill=\"#000000\" fill-rule=\"evenodd\" fill-opacity=\"1\" /><path clip-path=\"url(#clip1600)\" d=\"M 0 0 M1051.19 1509.43 L1039.39 1527.88 L1051.19 1527.88 L1051.19 1509.43 M1049.96 1505.36 L1055.84 1505.36 L1055.84 1527.88 L1060.77 1527.88 L1060.77 1531.77 L1055.84 1531.77 L1055.84 1539.92 L1051.19 1539.92 L1051.19 1531.77 L1035.59 1531.77 L1035.59 1527.26 L1049.96 1505.36 Z\" fill=\"#000000\" fill-rule=\"evenodd\" fill-opacity=\"1\" /><path clip-path=\"url(#clip1600)\" d=\"M 0 0 M1452.42 1508.44 Q1448.81 1508.44 1446.98 1512 Q1445.18 1515.55 1445.18 1522.67 Q1445.18 1529.78 1446.98 1533.35 Q1448.81 1536.89 1452.42 1536.89 Q1456.06 1536.89 1457.86 1533.35 Q1459.69 1529.78 1459.69 1522.67 Q1459.69 1515.55 1457.86 1512 Q1456.06 1508.44 1452.42 1508.44 M1452.42 1504.73 Q1458.23 1504.73 1461.29 1509.34 Q1464.37 1513.92 1464.37 1522.67 Q1464.37 1531.4 1461.29 1536.01 Q1458.23 1540.59 1452.42 1540.59 Q1446.61 1540.59 1443.53 1536.01 Q1440.48 1531.4 1440.48 1522.67 Q1440.48 1513.92 1443.53 1509.34 Q1446.61 1504.73 1452.42 1504.73 Z\" fill=\"#000000\" fill-rule=\"evenodd\" fill-opacity=\"1\" /><path clip-path=\"url(#clip1600)\" d=\"M 0 0 M1469.44 1534.04 L1474.32 1534.04 L1474.32 1539.92 L1469.44 1539.92 L1469.44 1534.04 Z\" fill=\"#000000\" fill-rule=\"evenodd\" fill-opacity=\"1\" /><path clip-path=\"url(#clip1600)\" d=\"M 0 0 M1489.97 1520.78 Q1486.82 1520.78 1484.97 1522.93 Q1483.14 1525.08 1483.14 1528.83 Q1483.14 1532.56 1484.97 1534.73 Q1486.82 1536.89 1489.97 1536.89 Q1493.12 1536.89 1494.95 1534.73 Q1496.8 1532.56 1496.8 1528.83 Q1496.8 1525.08 1494.95 1522.93 Q1493.12 1520.78 1489.97 1520.78 M1499.25 1506.12 L1499.25 1510.38 Q1497.49 1509.55 1495.69 1509.11 Q1493.9 1508.67 1492.14 1508.67 Q1487.51 1508.67 1485.06 1511.8 Q1482.63 1514.92 1482.28 1521.24 Q1483.65 1519.23 1485.71 1518.16 Q1487.77 1517.07 1490.25 1517.07 Q1495.45 1517.07 1498.46 1520.24 Q1501.5 1523.39 1501.5 1528.83 Q1501.5 1534.16 1498.35 1537.37 Q1495.2 1540.59 1489.97 1540.59 Q1483.97 1540.59 1480.8 1536.01 Q1477.63 1531.4 1477.63 1522.67 Q1477.63 1514.48 1481.52 1509.62 Q1485.41 1504.73 1491.96 1504.73 Q1493.72 1504.73 1495.5 1505.08 Q1497.31 1505.43 1499.25 1506.12 Z\" fill=\"#000000\" fill-rule=\"evenodd\" fill-opacity=\"1\" /><path clip-path=\"url(#clip1600)\" d=\"M 0 0 M1893.43 1508.44 Q1889.82 1508.44 1887.99 1512 Q1886.19 1515.55 1886.19 1522.67 Q1886.19 1529.78 1887.99 1533.35 Q1889.82 1536.89 1893.43 1536.89 Q1897.07 1536.89 1898.87 1533.35 Q1900.7 1529.78 1900.7 1522.67 Q1900.7 1515.55 1898.87 1512 Q1897.07 1508.44 1893.43 1508.44 M1893.43 1504.73 Q1899.24 1504.73 1902.3 1509.34 Q1905.38 1513.92 1905.38 1522.67 Q1905.38 1531.4 1902.3 1536.01 Q1899.24 1540.59 1893.43 1540.59 Q1887.62 1540.59 1884.55 1536.01 Q1881.49 1531.4 1881.49 1522.67 Q1881.49 1513.92 1884.55 1509.34 Q1887.62 1504.73 1893.43 1504.73 Z\" fill=\"#000000\" fill-rule=\"evenodd\" fill-opacity=\"1\" /><path clip-path=\"url(#clip1600)\" d=\"M 0 0 M1910.45 1534.04 L1915.33 1534.04 L1915.33 1539.92 L1910.45 1539.92 L1910.45 1534.04 Z\" fill=\"#000000\" fill-rule=\"evenodd\" fill-opacity=\"1\" /><path clip-path=\"url(#clip1600)\" d=\"M 0 0 M1930.4 1523.51 Q1927.07 1523.51 1925.15 1525.29 Q1923.25 1527.07 1923.25 1530.2 Q1923.25 1533.32 1925.15 1535.11 Q1927.07 1536.89 1930.4 1536.89 Q1933.73 1536.89 1935.66 1535.11 Q1937.58 1533.3 1937.58 1530.2 Q1937.58 1527.07 1935.66 1525.29 Q1933.76 1523.51 1930.4 1523.51 M1925.73 1521.52 Q1922.72 1520.78 1921.03 1518.72 Q1919.36 1516.66 1919.36 1513.69 Q1919.36 1509.55 1922.3 1507.14 Q1925.26 1504.73 1930.4 1504.73 Q1935.56 1504.73 1938.5 1507.14 Q1941.44 1509.55 1941.44 1513.69 Q1941.44 1516.66 1939.75 1518.72 Q1938.09 1520.78 1935.1 1521.52 Q1938.48 1522.3 1940.36 1524.6 Q1942.25 1526.89 1942.25 1530.2 Q1942.25 1535.22 1939.17 1537.91 Q1936.12 1540.59 1930.4 1540.59 Q1924.68 1540.59 1921.61 1537.91 Q1918.55 1535.22 1918.55 1530.2 Q1918.55 1526.89 1920.45 1524.6 Q1922.35 1522.3 1925.73 1521.52 M1924.01 1514.13 Q1924.01 1516.82 1925.68 1518.32 Q1927.37 1519.83 1930.4 1519.83 Q1933.41 1519.83 1935.1 1518.32 Q1936.81 1516.82 1936.81 1514.13 Q1936.81 1511.45 1935.1 1509.94 Q1933.41 1508.44 1930.4 1508.44 Q1927.37 1508.44 1925.68 1509.94 Q1924.01 1511.45 1924.01 1514.13 Z\" fill=\"#000000\" fill-rule=\"evenodd\" fill-opacity=\"1\" /><path clip-path=\"url(#clip1600)\" d=\"M 0 0 M2324.65 1535.98 L2332.29 1535.98 L2332.29 1509.62 L2323.98 1511.29 L2323.98 1507.03 L2332.25 1505.36 L2336.92 1505.36 L2336.92 1535.98 L2344.56 1535.98 L2344.56 1539.92 L2324.65 1539.92 L2324.65 1535.98 Z\" fill=\"#000000\" fill-rule=\"evenodd\" fill-opacity=\"1\" /><path clip-path=\"url(#clip1600)\" d=\"M 0 0 M2349.63 1534.04 L2354.52 1534.04 L2354.52 1539.92 L2349.63 1539.92 L2349.63 1534.04 Z\" fill=\"#000000\" fill-rule=\"evenodd\" fill-opacity=\"1\" /><path clip-path=\"url(#clip1600)\" d=\"M 0 0 M2369.58 1508.44 Q2365.97 1508.44 2364.14 1512 Q2362.34 1515.55 2362.34 1522.67 Q2362.34 1529.78 2364.14 1533.35 Q2365.97 1536.89 2369.58 1536.89 Q2373.22 1536.89 2375.02 1533.35 Q2376.85 1529.78 2376.85 1522.67 Q2376.85 1515.55 2375.02 1512 Q2373.22 1508.44 2369.58 1508.44 M2369.58 1504.73 Q2375.39 1504.73 2378.45 1509.34 Q2381.53 1513.92 2381.53 1522.67 Q2381.53 1531.4 2378.45 1536.01 Q2375.39 1540.59 2369.58 1540.59 Q2363.77 1540.59 2360.7 1536.01 Q2357.64 1531.4 2357.64 1522.67 Q2357.64 1513.92 2360.7 1509.34 Q2363.77 1504.73 2369.58 1504.73 Z\" fill=\"#000000\" fill-rule=\"evenodd\" fill-opacity=\"1\" /><path clip-path=\"url(#clip1600)\" d=\"M 0 0 M75.4226 1472.25 Q71.8115 1472.25 69.9828 1475.81 Q68.1773 1479.35 68.1773 1486.48 Q68.1773 1493.59 69.9828 1497.15 Q71.8115 1500.7 75.4226 1500.7 Q79.0569 1500.7 80.8624 1497.15 Q82.6911 1493.59 82.6911 1486.48 Q82.6911 1479.35 80.8624 1475.81 Q79.0569 1472.25 75.4226 1472.25 M75.4226 1468.54 Q81.2328 1468.54 84.2883 1473.15 Q87.367 1477.73 87.367 1486.48 Q87.367 1495.21 84.2883 1499.82 Q81.2328 1504.4 75.4226 1504.4 Q69.6125 1504.4 66.5338 1499.82 Q63.4782 1495.21 63.4782 1486.48 Q63.4782 1477.73 66.5338 1473.15 Q69.6125 1468.54 75.4226 1468.54 Z\" fill=\"#000000\" fill-rule=\"evenodd\" fill-opacity=\"1\" /><path clip-path=\"url(#clip1600)\" d=\"M 0 0 M92.4364 1497.85 L97.3206 1497.85 L97.3206 1503.73 L92.4364 1503.73 L92.4364 1497.85 Z\" fill=\"#000000\" fill-rule=\"evenodd\" fill-opacity=\"1\" /><path clip-path=\"url(#clip1600)\" d=\"M 0 0 M112.39 1472.25 Q108.779 1472.25 106.95 1475.81 Q105.145 1479.35 105.145 1486.48 Q105.145 1493.59 106.95 1497.15 Q108.779 1500.7 112.39 1500.7 Q116.024 1500.7 117.83 1497.15 Q119.658 1493.59 119.658 1486.48 Q119.658 1479.35 117.83 1475.81 Q116.024 1472.25 112.39 1472.25 M112.39 1468.54 Q118.2 1468.54 121.256 1473.15 Q124.334 1477.73 124.334 1486.48 Q124.334 1495.21 121.256 1499.82 Q118.2 1504.4 112.39 1504.4 Q106.58 1504.4 103.501 1499.82 Q100.446 1495.21 100.446 1486.48 Q100.446 1477.73 103.501 1473.15 Q106.58 1468.54 112.39 1468.54 Z\" fill=\"#000000\" fill-rule=\"evenodd\" fill-opacity=\"1\" /><path clip-path=\"url(#clip1600)\" d=\"M 0 0 M77.0198 1184.41 Q73.4087 1184.41 71.58 1187.97 Q69.7745 1191.51 69.7745 1198.64 Q69.7745 1205.75 71.58 1209.31 Q73.4087 1212.85 77.0198 1212.85 Q80.6541 1212.85 82.4596 1209.31 Q84.2883 1205.75 84.2883 1198.64 Q84.2883 1191.51 82.4596 1187.97 Q80.6541 1184.41 77.0198 1184.41 M77.0198 1180.7 Q82.83 1180.7 85.8855 1185.31 Q88.9642 1189.89 88.9642 1198.64 Q88.9642 1207.37 85.8855 1211.98 Q82.83 1216.56 77.0198 1216.56 Q71.2097 1216.56 68.131 1211.98 Q65.0754 1207.37 65.0754 1198.64 Q65.0754 1189.89 68.131 1185.31 Q71.2097 1180.7 77.0198 1180.7 Z\" fill=\"#000000\" fill-rule=\"evenodd\" fill-opacity=\"1\" /><path clip-path=\"url(#clip1600)\" d=\"M 0 0 M94.0336 1210.01 L98.9179 1210.01 L98.9179 1215.89 L94.0336 1215.89 L94.0336 1210.01 Z\" fill=\"#000000\" fill-rule=\"evenodd\" fill-opacity=\"1\" /><path clip-path=\"url(#clip1600)\" d=\"M 0 0 M108.015 1211.95 L124.334 1211.95 L124.334 1215.89 L102.39 1215.89 L102.39 1211.95 Q105.052 1209.2 109.635 1204.57 Q114.242 1199.91 115.422 1198.57 Q117.668 1196.05 118.547 1194.31 Q119.45 1192.55 119.45 1190.86 Q119.45 1188.11 117.506 1186.37 Q115.584 1184.64 112.483 1184.64 Q110.284 1184.64 107.83 1185.4 Q105.399 1186.17 102.622 1187.72 L102.622 1182.99 Q105.446 1181.86 107.899 1181.28 Q110.353 1180.7 112.39 1180.7 Q117.76 1180.7 120.955 1183.39 Q124.149 1186.07 124.149 1190.56 Q124.149 1192.69 123.339 1194.61 Q122.552 1196.51 120.446 1199.1 Q119.867 1199.78 116.765 1202.99 Q113.663 1206.19 108.015 1211.95 Z\" fill=\"#000000\" fill-rule=\"evenodd\" fill-opacity=\"1\" /><path clip-path=\"url(#clip1600)\" d=\"M 0 0 M74.9365 896.565 Q71.3254 896.565 69.4967 900.13 Q67.6912 903.671 67.6912 910.801 Q67.6912 917.908 69.4967 921.472 Q71.3254 925.014 74.9365 925.014 Q78.5707 925.014 80.3763 921.472 Q82.205 917.908 82.205 910.801 Q82.205 903.671 80.3763 900.13 Q78.5707 896.565 74.9365 896.565 M74.9365 892.861 Q80.7467 892.861 83.8022 897.468 Q86.8809 902.051 86.8809 910.801 Q86.8809 919.528 83.8022 924.134 Q80.7467 928.718 74.9365 928.718 Q69.1264 928.718 66.0477 924.134 Q62.9921 919.528 62.9921 910.801 Q62.9921 902.051 66.0477 897.468 Q69.1264 892.861 74.9365 892.861 Z\" fill=\"#000000\" fill-rule=\"evenodd\" fill-opacity=\"1\" /><path clip-path=\"url(#clip1600)\" d=\"M 0 0 M91.9503 922.167 L96.8345 922.167 L96.8345 928.046 L91.9503 928.046 L91.9503 922.167 Z\" fill=\"#000000\" fill-rule=\"evenodd\" fill-opacity=\"1\" /><path clip-path=\"url(#clip1600)\" d=\"M 0 0 M114.751 897.56 L102.946 916.009 L114.751 916.009 L114.751 897.56 M113.524 893.486 L119.404 893.486 L119.404 916.009 L124.334 916.009 L124.334 919.898 L119.404 919.898 L119.404 928.046 L114.751 928.046 L114.751 919.898 L99.1493 919.898 L99.1493 915.384 L113.524 893.486 Z\" fill=\"#000000\" fill-rule=\"evenodd\" fill-opacity=\"1\" /><path clip-path=\"url(#clip1600)\" d=\"M 0 0 M75.2606 608.724 Q71.6495 608.724 69.8208 612.289 Q68.0152 615.831 68.0152 622.96 Q68.0152 630.067 69.8208 633.632 Q71.6495 637.173 75.2606 637.173 Q78.8948 637.173 80.7004 633.632 Q82.5291 630.067 82.5291 622.96 Q82.5291 615.831 80.7004 612.289 Q78.8948 608.724 75.2606 608.724 M75.2606 605.021 Q81.0707 605.021 84.1263 609.627 Q87.205 614.21 87.205 622.96 Q87.205 631.687 84.1263 636.294 Q81.0707 640.877 75.2606 640.877 Q69.4504 640.877 66.3717 636.294 Q63.3162 631.687 63.3162 622.96 Q63.3162 614.21 66.3717 609.627 Q69.4504 605.021 75.2606 605.021 Z\" fill=\"#000000\" fill-rule=\"evenodd\" fill-opacity=\"1\" /><path clip-path=\"url(#clip1600)\" d=\"M 0 0 M92.2744 634.326 L97.1586 634.326 L97.1586 640.206 L92.2744 640.206 L92.2744 634.326 Z\" fill=\"#000000\" fill-rule=\"evenodd\" fill-opacity=\"1\" /><path clip-path=\"url(#clip1600)\" d=\"M 0 0 M112.807 621.062 Q109.659 621.062 107.807 623.215 Q105.978 625.368 105.978 629.118 Q105.978 632.845 107.807 635.02 Q109.659 637.173 112.807 637.173 Q115.955 637.173 117.783 635.02 Q119.635 632.845 119.635 629.118 Q119.635 625.368 117.783 623.215 Q115.955 621.062 112.807 621.062 M122.089 606.409 L122.089 610.669 Q120.33 609.835 118.524 609.396 Q116.742 608.956 114.983 608.956 Q110.353 608.956 107.899 612.081 Q105.469 615.206 105.122 621.525 Q106.487 619.511 108.547 618.446 Q110.608 617.359 113.084 617.359 Q118.293 617.359 121.302 620.53 Q124.334 623.678 124.334 629.118 Q124.334 634.442 121.186 637.659 Q118.038 640.877 112.807 640.877 Q106.811 640.877 103.64 636.294 Q100.469 631.687 100.469 622.96 Q100.469 614.766 104.358 609.905 Q108.247 605.021 114.797 605.021 Q116.557 605.021 118.339 605.368 Q120.145 605.715 122.089 606.409 Z\" fill=\"#000000\" fill-rule=\"evenodd\" fill-opacity=\"1\" /><path clip-path=\"url(#clip1600)\" d=\"M 0 0 M75.5152 320.884 Q71.9041 320.884 70.0754 324.448 Q68.2699 327.99 68.2699 335.12 Q68.2699 342.226 70.0754 345.791 Q71.9041 349.332 75.5152 349.332 Q79.1494 349.332 80.955 345.791 Q82.7837 342.226 82.7837 335.12 Q82.7837 327.99 80.955 324.448 Q79.1494 320.884 75.5152 320.884 M75.5152 317.18 Q81.3254 317.18 84.3809 321.786 Q87.4596 326.37 87.4596 335.12 Q87.4596 343.846 84.3809 348.453 Q81.3254 353.036 75.5152 353.036 Q69.7051 353.036 66.6264 348.453 Q63.5708 343.846 63.5708 335.12 Q63.5708 326.37 66.6264 321.786 Q69.7051 317.18 75.5152 317.18 Z\" fill=\"#000000\" fill-rule=\"evenodd\" fill-opacity=\"1\" /><path clip-path=\"url(#clip1600)\" d=\"M 0 0 M92.529 346.485 L97.4132 346.485 L97.4132 352.365 L92.529 352.365 L92.529 346.485 Z\" fill=\"#000000\" fill-rule=\"evenodd\" fill-opacity=\"1\" /><path clip-path=\"url(#clip1600)\" d=\"M 0 0 M112.483 335.953 Q109.149 335.953 107.228 337.735 Q105.33 339.518 105.33 342.643 Q105.33 345.768 107.228 347.55 Q109.149 349.332 112.483 349.332 Q115.816 349.332 117.737 347.55 Q119.658 345.745 119.658 342.643 Q119.658 339.518 117.737 337.735 Q115.839 335.953 112.483 335.953 M107.807 333.962 Q104.797 333.221 103.108 331.161 Q101.441 329.101 101.441 326.138 Q101.441 321.995 104.381 319.587 Q107.344 317.18 112.483 317.18 Q117.645 317.18 120.584 319.587 Q123.524 321.995 123.524 326.138 Q123.524 329.101 121.834 331.161 Q120.168 333.221 117.182 333.962 Q120.561 334.749 122.436 337.041 Q124.334 339.333 124.334 342.643 Q124.334 347.666 121.256 350.351 Q118.2 353.036 112.483 353.036 Q106.765 353.036 103.686 350.351 Q100.631 347.666 100.631 342.643 Q100.631 339.333 102.529 337.041 Q104.427 334.749 107.807 333.962 M106.094 326.578 Q106.094 329.263 107.76 330.768 Q109.45 332.272 112.483 332.272 Q115.492 332.272 117.182 330.768 Q118.895 329.263 118.895 326.578 Q118.895 323.893 117.182 322.388 Q115.492 320.884 112.483 320.884 Q109.45 320.884 107.76 322.388 Q106.094 323.893 106.094 326.578 Z\" fill=\"#000000\" fill-rule=\"evenodd\" fill-opacity=\"1\" /><path clip-path=\"url(#clip1600)\" d=\"M 0 0 M67.4597 60.5889 L75.0985 60.5889 L75.0985 34.2233 L66.7884 35.89 L66.7884 31.6308 L75.0522 29.9641 L79.7281 29.9641 L79.7281 60.5889 L87.367 60.5889 L87.367 64.5241 L67.4597 64.5241 L67.4597 60.5889 Z\" fill=\"#000000\" fill-rule=\"evenodd\" fill-opacity=\"1\" /><path clip-path=\"url(#clip1600)\" d=\"M 0 0 M92.4364 58.6445 L97.3206 58.6445 L97.3206 64.5241 L92.4364 64.5241 L92.4364 58.6445 Z\" fill=\"#000000\" fill-rule=\"evenodd\" fill-opacity=\"1\" /><path clip-path=\"url(#clip1600)\" d=\"M 0 0 M112.39 33.0428 Q108.779 33.0428 106.95 36.6076 Q105.145 40.1492 105.145 47.2788 Q105.145 54.3853 106.95 57.9501 Q108.779 61.4917 112.39 61.4917 Q116.024 61.4917 117.83 57.9501 Q119.658 54.3853 119.658 47.2788 Q119.658 40.1492 117.83 36.6076 Q116.024 33.0428 112.39 33.0428 M112.39 29.3391 Q118.2 29.3391 121.256 33.9456 Q124.334 38.5289 124.334 47.2788 Q124.334 56.0056 121.256 60.6121 Q118.2 65.1954 112.39 65.1954 Q106.58 65.1954 103.501 60.6121 Q100.446 56.0056 100.446 47.2788 Q100.446 38.5289 103.501 33.9456 Q106.58 29.3391 112.39 29.3391 Z\" fill=\"#000000\" fill-rule=\"evenodd\" fill-opacity=\"1\" /><circle clip-path=\"url(#clip1602)\" cx=\"1737.57\" cy=\"471.855\" r=\"14\" fill=\"#009af9\" fill-rule=\"evenodd\" fill-opacity=\"1\" stroke=\"#000000\" stroke-opacity=\"1\" stroke-width=\"3.2\"/>\n",
       "<circle clip-path=\"url(#clip1602)\" cx=\"1649.87\" cy=\"507.569\" r=\"14\" fill=\"#009af9\" fill-rule=\"evenodd\" fill-opacity=\"1\" stroke=\"#000000\" stroke-opacity=\"1\" stroke-width=\"3.2\"/>\n",
       "<circle clip-path=\"url(#clip1602)\" cx=\"1616.32\" cy=\"467.54\" r=\"14\" fill=\"#009af9\" fill-rule=\"evenodd\" fill-opacity=\"1\" stroke=\"#000000\" stroke-opacity=\"1\" stroke-width=\"3.2\"/>\n",
       "<circle clip-path=\"url(#clip1602)\" cx=\"1720.36\" cy=\"442.053\" r=\"14\" fill=\"#009af9\" fill-rule=\"evenodd\" fill-opacity=\"1\" stroke=\"#000000\" stroke-opacity=\"1\" stroke-width=\"3.2\"/>\n",
       "<circle clip-path=\"url(#clip1602)\" cx=\"1664.79\" cy=\"428.682\" r=\"14\" fill=\"#009af9\" fill-rule=\"evenodd\" fill-opacity=\"1\" stroke=\"#000000\" stroke-opacity=\"1\" stroke-width=\"3.2\"/>\n",
       "<circle clip-path=\"url(#clip1602)\" cx=\"1632.12\" cy=\"484.003\" r=\"14\" fill=\"#009af9\" fill-rule=\"evenodd\" fill-opacity=\"1\" stroke=\"#000000\" stroke-opacity=\"1\" stroke-width=\"3.2\"/>\n",
       "<circle clip-path=\"url(#clip1602)\" cx=\"1701.24\" cy=\"444.202\" r=\"14\" fill=\"#009af9\" fill-rule=\"evenodd\" fill-opacity=\"1\" stroke=\"#000000\" stroke-opacity=\"1\" stroke-width=\"3.2\"/>\n",
       "<circle clip-path=\"url(#clip1602)\" cx=\"1724.04\" cy=\"455.4\" r=\"14\" fill=\"#009af9\" fill-rule=\"evenodd\" fill-opacity=\"1\" stroke=\"#000000\" stroke-opacity=\"1\" stroke-width=\"3.2\"/>\n",
       "<circle clip-path=\"url(#clip1602)\" cx=\"1631.29\" cy=\"435.027\" r=\"14\" fill=\"#009af9\" fill-rule=\"evenodd\" fill-opacity=\"1\" stroke=\"#000000\" stroke-opacity=\"1\" stroke-width=\"3.2\"/>\n",
       "<circle clip-path=\"url(#clip1602)\" cx=\"1618.61\" cy=\"480.087\" r=\"14\" fill=\"#009af9\" fill-rule=\"evenodd\" fill-opacity=\"1\" stroke=\"#000000\" stroke-opacity=\"1\" stroke-width=\"3.2\"/>\n",
       "<circle clip-path=\"url(#clip1602)\" cx=\"1664.79\" cy=\"428.682\" r=\"14\" fill=\"#009af9\" fill-rule=\"evenodd\" fill-opacity=\"1\" stroke=\"#000000\" stroke-opacity=\"1\" stroke-width=\"3.2\"/>\n",
       "<circle clip-path=\"url(#clip1602)\" cx=\"1670.31\" cy=\"505.074\" r=\"14\" fill=\"#009af9\" fill-rule=\"evenodd\" fill-opacity=\"1\" stroke=\"#000000\" stroke-opacity=\"1\" stroke-width=\"3.2\"/>\n",
       "<circle clip-path=\"url(#clip1602)\" cx=\"1726.65\" cy=\"472.931\" r=\"14\" fill=\"#009af9\" fill-rule=\"evenodd\" fill-opacity=\"1\" stroke=\"#000000\" stroke-opacity=\"1\" stroke-width=\"3.2\"/>\n",
       "<circle clip-path=\"url(#clip1602)\" cx=\"1691.75\" cy=\"480.645\" r=\"14\" fill=\"#009af9\" fill-rule=\"evenodd\" fill-opacity=\"1\" stroke=\"#000000\" stroke-opacity=\"1\" stroke-width=\"3.2\"/>\n",
       "<circle clip-path=\"url(#clip1602)\" cx=\"1691.41\" cy=\"496.078\" r=\"14\" fill=\"#009af9\" fill-rule=\"evenodd\" fill-opacity=\"1\" stroke=\"#000000\" stroke-opacity=\"1\" stroke-width=\"3.2\"/>\n",
       "<circle clip-path=\"url(#clip1602)\" cx=\"1646.48\" cy=\"470.377\" r=\"14\" fill=\"#009af9\" fill-rule=\"evenodd\" fill-opacity=\"1\" stroke=\"#000000\" stroke-opacity=\"1\" stroke-width=\"3.2\"/>\n",
       "<circle clip-path=\"url(#clip1602)\" cx=\"1737.57\" cy=\"471.855\" r=\"14\" fill=\"#009af9\" fill-rule=\"evenodd\" fill-opacity=\"1\" stroke=\"#000000\" stroke-opacity=\"1\" stroke-width=\"3.2\"/>\n",
       "<circle clip-path=\"url(#clip1602)\" cx=\"1649.31\" cy=\"484.493\" r=\"14\" fill=\"#009af9\" fill-rule=\"evenodd\" fill-opacity=\"1\" stroke=\"#000000\" stroke-opacity=\"1\" stroke-width=\"3.2\"/>\n",
       "<circle clip-path=\"url(#clip1602)\" cx=\"1637.43\" cy=\"458.544\" r=\"14\" fill=\"#009af9\" fill-rule=\"evenodd\" fill-opacity=\"1\" stroke=\"#000000\" stroke-opacity=\"1\" stroke-width=\"3.2\"/>\n",
       "<circle clip-path=\"url(#clip1602)\" cx=\"1702.76\" cy=\"459.285\" r=\"14\" fill=\"#009af9\" fill-rule=\"evenodd\" fill-opacity=\"1\" stroke=\"#000000\" stroke-opacity=\"1\" stroke-width=\"3.2\"/>\n",
       "<circle clip-path=\"url(#clip1602)\" cx=\"1667.59\" cy=\"461.381\" r=\"14\" fill=\"#009af9\" fill-rule=\"evenodd\" fill-opacity=\"1\" stroke=\"#000000\" stroke-opacity=\"1\" stroke-width=\"3.2\"/>\n",
       "<circle clip-path=\"url(#clip1602)\" cx=\"1664.88\" cy=\"489.78\" r=\"14\" fill=\"#009af9\" fill-rule=\"evenodd\" fill-opacity=\"1\" stroke=\"#000000\" stroke-opacity=\"1\" stroke-width=\"3.2\"/>\n",
       "<circle clip-path=\"url(#clip1602)\" cx=\"1714.71\" cy=\"477.848\" r=\"14\" fill=\"#009af9\" fill-rule=\"evenodd\" fill-opacity=\"1\" stroke=\"#000000\" stroke-opacity=\"1\" stroke-width=\"3.2\"/>\n",
       "<circle clip-path=\"url(#clip1602)\" cx=\"1714.04\" cy=\"449.649\" r=\"14\" fill=\"#009af9\" fill-rule=\"evenodd\" fill-opacity=\"1\" stroke=\"#000000\" stroke-opacity=\"1\" stroke-width=\"3.2\"/>\n",
       "<circle clip-path=\"url(#clip1602)\" cx=\"1682.92\" cy=\"464.518\" r=\"14\" fill=\"#009af9\" fill-rule=\"evenodd\" fill-opacity=\"1\" stroke=\"#000000\" stroke-opacity=\"1\" stroke-width=\"3.2\"/>\n",
       "<circle clip-path=\"url(#clip1602)\" cx=\"1658.32\" cy=\"441.894\" r=\"14\" fill=\"#009af9\" fill-rule=\"evenodd\" fill-opacity=\"1\" stroke=\"#000000\" stroke-opacity=\"1\" stroke-width=\"3.2\"/>\n",
       "<circle clip-path=\"url(#clip1602)\" cx=\"1678.75\" cy=\"439.399\" r=\"14\" fill=\"#009af9\" fill-rule=\"evenodd\" fill-opacity=\"1\" stroke=\"#000000\" stroke-opacity=\"1\" stroke-width=\"3.2\"/>\n",
       "<circle clip-path=\"url(#clip1602)\" cx=\"1675.41\" cy=\"495.028\" r=\"14\" fill=\"#009af9\" fill-rule=\"evenodd\" fill-opacity=\"1\" stroke=\"#000000\" stroke-opacity=\"1\" stroke-width=\"3.2\"/>\n",
       "<circle clip-path=\"url(#clip1602)\" cx=\"1674.8\" cy=\"434.433\" r=\"14\" fill=\"#009af9\" fill-rule=\"evenodd\" fill-opacity=\"1\" stroke=\"#000000\" stroke-opacity=\"1\" stroke-width=\"3.2\"/>\n",
       "<circle clip-path=\"url(#clip1602)\" cx=\"1716.41\" cy=\"477.434\" r=\"14\" fill=\"#009af9\" fill-rule=\"evenodd\" fill-opacity=\"1\" stroke=\"#000000\" stroke-opacity=\"1\" stroke-width=\"3.2\"/>\n",
       "<circle clip-path=\"url(#clip1602)\" cx=\"1714.04\" cy=\"449.649\" r=\"14\" fill=\"#009af9\" fill-rule=\"evenodd\" fill-opacity=\"1\" stroke=\"#000000\" stroke-opacity=\"1\" stroke-width=\"3.2\"/>\n",
       "<circle clip-path=\"url(#clip1602)\" cx=\"1664.88\" cy=\"489.78\" r=\"14\" fill=\"#009af9\" fill-rule=\"evenodd\" fill-opacity=\"1\" stroke=\"#000000\" stroke-opacity=\"1\" stroke-width=\"3.2\"/>\n",
       "<circle clip-path=\"url(#clip1602)\" cx=\"1713.23\" cy=\"461.115\" r=\"14\" fill=\"#009af9\" fill-rule=\"evenodd\" fill-opacity=\"1\" stroke=\"#000000\" stroke-opacity=\"1\" stroke-width=\"3.2\"/>\n",
       "<circle clip-path=\"url(#clip1602)\" cx=\"1678.75\" cy=\"439.399\" r=\"14\" fill=\"#009af9\" fill-rule=\"evenodd\" fill-opacity=\"1\" stroke=\"#000000\" stroke-opacity=\"1\" stroke-width=\"3.2\"/>\n",
       "<circle clip-path=\"url(#clip1602)\" cx=\"1682.92\" cy=\"464.518\" r=\"14\" fill=\"#009af9\" fill-rule=\"evenodd\" fill-opacity=\"1\" stroke=\"#000000\" stroke-opacity=\"1\" stroke-width=\"3.2\"/>\n",
       "<circle clip-path=\"url(#clip1602)\" cx=\"1646.48\" cy=\"470.377\" r=\"14\" fill=\"#009af9\" fill-rule=\"evenodd\" fill-opacity=\"1\" stroke=\"#000000\" stroke-opacity=\"1\" stroke-width=\"3.2\"/>\n",
       "<circle clip-path=\"url(#clip1602)\" cx=\"1635.83\" cy=\"452.279\" r=\"14\" fill=\"#009af9\" fill-rule=\"evenodd\" fill-opacity=\"1\" stroke=\"#000000\" stroke-opacity=\"1\" stroke-width=\"3.2\"/>\n",
       "<circle clip-path=\"url(#clip1602)\" cx=\"1708.67\" cy=\"481.882\" r=\"14\" fill=\"#009af9\" fill-rule=\"evenodd\" fill-opacity=\"1\" stroke=\"#000000\" stroke-opacity=\"1\" stroke-width=\"3.2\"/>\n",
       "<circle clip-path=\"url(#clip1602)\" cx=\"1658.31\" cy=\"483.094\" r=\"14\" fill=\"#009af9\" fill-rule=\"evenodd\" fill-opacity=\"1\" stroke=\"#000000\" stroke-opacity=\"1\" stroke-width=\"3.2\"/>\n",
       "<circle clip-path=\"url(#clip1602)\" cx=\"1690.56\" cy=\"442.485\" r=\"14\" fill=\"#009af9\" fill-rule=\"evenodd\" fill-opacity=\"1\" stroke=\"#000000\" stroke-opacity=\"1\" stroke-width=\"3.2\"/>\n",
       "<circle clip-path=\"url(#clip1602)\" cx=\"1690.56\" cy=\"442.485\" r=\"14\" fill=\"#009af9\" fill-rule=\"evenodd\" fill-opacity=\"1\" stroke=\"#000000\" stroke-opacity=\"1\" stroke-width=\"3.2\"/>\n",
       "<circle clip-path=\"url(#clip1602)\" cx=\"1685.85\" cy=\"479.615\" r=\"14\" fill=\"#009af9\" fill-rule=\"evenodd\" fill-opacity=\"1\" stroke=\"#000000\" stroke-opacity=\"1\" stroke-width=\"3.2\"/>\n",
       "<circle clip-path=\"url(#clip1602)\" cx=\"1649.87\" cy=\"507.569\" r=\"14\" fill=\"#009af9\" fill-rule=\"evenodd\" fill-opacity=\"1\" stroke=\"#000000\" stroke-opacity=\"1\" stroke-width=\"3.2\"/>\n",
       "<circle clip-path=\"url(#clip1602)\" cx=\"1684.35\" cy=\"442.126\" r=\"14\" fill=\"#009af9\" fill-rule=\"evenodd\" fill-opacity=\"1\" stroke=\"#000000\" stroke-opacity=\"1\" stroke-width=\"3.2\"/>\n",
       "<circle clip-path=\"url(#clip1602)\" cx=\"1654.51\" cy=\"475.427\" r=\"14\" fill=\"#009af9\" fill-rule=\"evenodd\" fill-opacity=\"1\" stroke=\"#000000\" stroke-opacity=\"1\" stroke-width=\"3.2\"/>\n",
       "<circle clip-path=\"url(#clip1602)\" cx=\"1635.83\" cy=\"452.279\" r=\"14\" fill=\"#009af9\" fill-rule=\"evenodd\" fill-opacity=\"1\" stroke=\"#000000\" stroke-opacity=\"1\" stroke-width=\"3.2\"/>\n",
       "<circle clip-path=\"url(#clip1602)\" cx=\"1713.23\" cy=\"461.115\" r=\"14\" fill=\"#009af9\" fill-rule=\"evenodd\" fill-opacity=\"1\" stroke=\"#000000\" stroke-opacity=\"1\" stroke-width=\"3.2\"/>\n",
       "<circle clip-path=\"url(#clip1602)\" cx=\"1616.32\" cy=\"467.54\" r=\"14\" fill=\"#009af9\" fill-rule=\"evenodd\" fill-opacity=\"1\" stroke=\"#000000\" stroke-opacity=\"1\" stroke-width=\"3.2\"/>\n",
       "<circle clip-path=\"url(#clip1602)\" cx=\"1651.63\" cy=\"468.742\" r=\"14\" fill=\"#009af9\" fill-rule=\"evenodd\" fill-opacity=\"1\" stroke=\"#000000\" stroke-opacity=\"1\" stroke-width=\"3.2\"/>\n",
       "<circle clip-path=\"url(#clip1602)\" cx=\"1726.65\" cy=\"472.931\" r=\"14\" fill=\"#009af9\" fill-rule=\"evenodd\" fill-opacity=\"1\" stroke=\"#000000\" stroke-opacity=\"1\" stroke-width=\"3.2\"/>\n",
       "<circle clip-path=\"url(#clip1602)\" cx=\"1670.31\" cy=\"505.074\" r=\"14\" fill=\"#009af9\" fill-rule=\"evenodd\" fill-opacity=\"1\" stroke=\"#000000\" stroke-opacity=\"1\" stroke-width=\"3.2\"/>\n",
       "<circle clip-path=\"url(#clip1602)\" cx=\"1632.19\" cy=\"442.67\" r=\"14\" fill=\"#009af9\" fill-rule=\"evenodd\" fill-opacity=\"1\" stroke=\"#000000\" stroke-opacity=\"1\" stroke-width=\"3.2\"/>\n",
       "<circle clip-path=\"url(#clip1602)\" cx=\"1708.67\" cy=\"481.882\" r=\"14\" fill=\"#009af9\" fill-rule=\"evenodd\" fill-opacity=\"1\" stroke=\"#000000\" stroke-opacity=\"1\" stroke-width=\"3.2\"/>\n",
       "<circle clip-path=\"url(#clip1602)\" cx=\"1716.41\" cy=\"477.434\" r=\"14\" fill=\"#009af9\" fill-rule=\"evenodd\" fill-opacity=\"1\" stroke=\"#000000\" stroke-opacity=\"1\" stroke-width=\"3.2\"/>\n",
       "<circle clip-path=\"url(#clip1602)\" cx=\"1701.24\" cy=\"444.202\" r=\"14\" fill=\"#009af9\" fill-rule=\"evenodd\" fill-opacity=\"1\" stroke=\"#000000\" stroke-opacity=\"1\" stroke-width=\"3.2\"/>\n",
       "<circle clip-path=\"url(#clip1602)\" cx=\"1677.57\" cy=\"437.948\" r=\"14\" fill=\"#009af9\" fill-rule=\"evenodd\" fill-opacity=\"1\" stroke=\"#000000\" stroke-opacity=\"1\" stroke-width=\"3.2\"/>\n",
       "<circle clip-path=\"url(#clip1602)\" cx=\"1724.04\" cy=\"455.4\" r=\"14\" fill=\"#009af9\" fill-rule=\"evenodd\" fill-opacity=\"1\" stroke=\"#000000\" stroke-opacity=\"1\" stroke-width=\"3.2\"/>\n",
       "<circle clip-path=\"url(#clip1602)\" cx=\"1674.84\" cy=\"471.951\" r=\"14\" fill=\"#009af9\" fill-rule=\"evenodd\" fill-opacity=\"1\" stroke=\"#000000\" stroke-opacity=\"1\" stroke-width=\"3.2\"/>\n",
       "<circle clip-path=\"url(#clip1602)\" cx=\"1658.32\" cy=\"441.894\" r=\"14\" fill=\"#009af9\" fill-rule=\"evenodd\" fill-opacity=\"1\" stroke=\"#000000\" stroke-opacity=\"1\" stroke-width=\"3.2\"/>\n",
       "<circle clip-path=\"url(#clip1602)\" cx=\"1672.69\" cy=\"451.335\" r=\"14\" fill=\"#009af9\" fill-rule=\"evenodd\" fill-opacity=\"1\" stroke=\"#000000\" stroke-opacity=\"1\" stroke-width=\"3.2\"/>\n",
       "<circle clip-path=\"url(#clip1602)\" cx=\"1720.36\" cy=\"442.053\" r=\"14\" fill=\"#009af9\" fill-rule=\"evenodd\" fill-opacity=\"1\" stroke=\"#000000\" stroke-opacity=\"1\" stroke-width=\"3.2\"/>\n",
       "<circle clip-path=\"url(#clip1602)\" cx=\"1725.69\" cy=\"455.721\" r=\"14\" fill=\"#009af9\" fill-rule=\"evenodd\" fill-opacity=\"1\" stroke=\"#000000\" stroke-opacity=\"1\" stroke-width=\"3.2\"/>\n",
       "<circle clip-path=\"url(#clip1602)\" cx=\"1677.57\" cy=\"437.948\" r=\"14\" fill=\"#009af9\" fill-rule=\"evenodd\" fill-opacity=\"1\" stroke=\"#000000\" stroke-opacity=\"1\" stroke-width=\"3.2\"/>\n",
       "<circle clip-path=\"url(#clip1602)\" cx=\"1650.72\" cy=\"461.099\" r=\"14\" fill=\"#009af9\" fill-rule=\"evenodd\" fill-opacity=\"1\" stroke=\"#000000\" stroke-opacity=\"1\" stroke-width=\"3.2\"/>\n",
       "<circle clip-path=\"url(#clip1602)\" cx=\"1658.31\" cy=\"483.094\" r=\"14\" fill=\"#009af9\" fill-rule=\"evenodd\" fill-opacity=\"1\" stroke=\"#000000\" stroke-opacity=\"1\" stroke-width=\"3.2\"/>\n",
       "<circle clip-path=\"url(#clip1602)\" cx=\"1685.85\" cy=\"479.615\" r=\"14\" fill=\"#009af9\" fill-rule=\"evenodd\" fill-opacity=\"1\" stroke=\"#000000\" stroke-opacity=\"1\" stroke-width=\"3.2\"/>\n",
       "<circle clip-path=\"url(#clip1602)\" cx=\"1702.76\" cy=\"459.285\" r=\"14\" fill=\"#009af9\" fill-rule=\"evenodd\" fill-opacity=\"1\" stroke=\"#000000\" stroke-opacity=\"1\" stroke-width=\"3.2\"/>\n",
       "<circle clip-path=\"url(#clip1602)\" cx=\"1672.69\" cy=\"451.335\" r=\"14\" fill=\"#009af9\" fill-rule=\"evenodd\" fill-opacity=\"1\" stroke=\"#000000\" stroke-opacity=\"1\" stroke-width=\"3.2\"/>\n",
       "<circle clip-path=\"url(#clip1602)\" cx=\"1714.71\" cy=\"477.848\" r=\"14\" fill=\"#009af9\" fill-rule=\"evenodd\" fill-opacity=\"1\" stroke=\"#000000\" stroke-opacity=\"1\" stroke-width=\"3.2\"/>\n",
       "<circle clip-path=\"url(#clip1602)\" cx=\"1654.51\" cy=\"475.427\" r=\"14\" fill=\"#009af9\" fill-rule=\"evenodd\" fill-opacity=\"1\" stroke=\"#000000\" stroke-opacity=\"1\" stroke-width=\"3.2\"/>\n",
       "<circle clip-path=\"url(#clip1602)\" cx=\"1674.8\" cy=\"434.433\" r=\"14\" fill=\"#009af9\" fill-rule=\"evenodd\" fill-opacity=\"1\" stroke=\"#000000\" stroke-opacity=\"1\" stroke-width=\"3.2\"/>\n",
       "<circle clip-path=\"url(#clip1602)\" cx=\"1653.98\" cy=\"440.678\" r=\"14\" fill=\"#009af9\" fill-rule=\"evenodd\" fill-opacity=\"1\" stroke=\"#000000\" stroke-opacity=\"1\" stroke-width=\"3.2\"/>\n",
       "<circle clip-path=\"url(#clip1602)\" cx=\"1690.89\" cy=\"443.151\" r=\"14\" fill=\"#009af9\" fill-rule=\"evenodd\" fill-opacity=\"1\" stroke=\"#000000\" stroke-opacity=\"1\" stroke-width=\"3.2\"/>\n",
       "<circle clip-path=\"url(#clip1602)\" cx=\"1725.69\" cy=\"455.721\" r=\"14\" fill=\"#009af9\" fill-rule=\"evenodd\" fill-opacity=\"1\" stroke=\"#000000\" stroke-opacity=\"1\" stroke-width=\"3.2\"/>\n",
       "<circle clip-path=\"url(#clip1602)\" cx=\"1650.72\" cy=\"461.099\" r=\"14\" fill=\"#009af9\" fill-rule=\"evenodd\" fill-opacity=\"1\" stroke=\"#000000\" stroke-opacity=\"1\" stroke-width=\"3.2\"/>\n",
       "<circle clip-path=\"url(#clip1602)\" cx=\"1690.89\" cy=\"443.151\" r=\"14\" fill=\"#009af9\" fill-rule=\"evenodd\" fill-opacity=\"1\" stroke=\"#000000\" stroke-opacity=\"1\" stroke-width=\"3.2\"/>\n",
       "<circle clip-path=\"url(#clip1602)\" cx=\"1667.59\" cy=\"461.381\" r=\"14\" fill=\"#009af9\" fill-rule=\"evenodd\" fill-opacity=\"1\" stroke=\"#000000\" stroke-opacity=\"1\" stroke-width=\"3.2\"/>\n",
       "<circle clip-path=\"url(#clip1602)\" cx=\"1618.61\" cy=\"480.087\" r=\"14\" fill=\"#009af9\" fill-rule=\"evenodd\" fill-opacity=\"1\" stroke=\"#000000\" stroke-opacity=\"1\" stroke-width=\"3.2\"/>\n",
       "<circle clip-path=\"url(#clip1602)\" cx=\"1674.09\" cy=\"495.374\" r=\"14\" fill=\"#009af9\" fill-rule=\"evenodd\" fill-opacity=\"1\" stroke=\"#000000\" stroke-opacity=\"1\" stroke-width=\"3.2\"/>\n",
       "<circle clip-path=\"url(#clip1602)\" cx=\"1674.09\" cy=\"495.374\" r=\"14\" fill=\"#009af9\" fill-rule=\"evenodd\" fill-opacity=\"1\" stroke=\"#000000\" stroke-opacity=\"1\" stroke-width=\"3.2\"/>\n",
       "<circle clip-path=\"url(#clip1602)\" cx=\"1653.98\" cy=\"440.678\" r=\"14\" fill=\"#009af9\" fill-rule=\"evenodd\" fill-opacity=\"1\" stroke=\"#000000\" stroke-opacity=\"1\" stroke-width=\"3.2\"/>\n",
       "<circle clip-path=\"url(#clip1602)\" cx=\"1637.43\" cy=\"458.544\" r=\"14\" fill=\"#009af9\" fill-rule=\"evenodd\" fill-opacity=\"1\" stroke=\"#000000\" stroke-opacity=\"1\" stroke-width=\"3.2\"/>\n",
       "<circle clip-path=\"url(#clip1602)\" cx=\"1651.63\" cy=\"468.742\" r=\"14\" fill=\"#009af9\" fill-rule=\"evenodd\" fill-opacity=\"1\" stroke=\"#000000\" stroke-opacity=\"1\" stroke-width=\"3.2\"/>\n",
       "<circle clip-path=\"url(#clip1602)\" cx=\"1651.58\" cy=\"460.331\" r=\"14\" fill=\"#009af9\" fill-rule=\"evenodd\" fill-opacity=\"1\" stroke=\"#000000\" stroke-opacity=\"1\" stroke-width=\"3.2\"/>\n",
       "<circle clip-path=\"url(#clip1602)\" cx=\"1651.58\" cy=\"460.331\" r=\"14\" fill=\"#009af9\" fill-rule=\"evenodd\" fill-opacity=\"1\" stroke=\"#000000\" stroke-opacity=\"1\" stroke-width=\"3.2\"/>\n",
       "<circle clip-path=\"url(#clip1602)\" cx=\"1631.29\" cy=\"435.027\" r=\"14\" fill=\"#009af9\" fill-rule=\"evenodd\" fill-opacity=\"1\" stroke=\"#000000\" stroke-opacity=\"1\" stroke-width=\"3.2\"/>\n",
       "<circle clip-path=\"url(#clip1602)\" cx=\"1691.41\" cy=\"496.078\" r=\"14\" fill=\"#009af9\" fill-rule=\"evenodd\" fill-opacity=\"1\" stroke=\"#000000\" stroke-opacity=\"1\" stroke-width=\"3.2\"/>\n",
       "<circle clip-path=\"url(#clip1602)\" cx=\"1632.12\" cy=\"484.003\" r=\"14\" fill=\"#009af9\" fill-rule=\"evenodd\" fill-opacity=\"1\" stroke=\"#000000\" stroke-opacity=\"1\" stroke-width=\"3.2\"/>\n",
       "<circle clip-path=\"url(#clip1602)\" cx=\"1675.41\" cy=\"495.028\" r=\"14\" fill=\"#009af9\" fill-rule=\"evenodd\" fill-opacity=\"1\" stroke=\"#000000\" stroke-opacity=\"1\" stroke-width=\"3.2\"/>\n",
       "<circle clip-path=\"url(#clip1602)\" cx=\"1649.31\" cy=\"484.493\" r=\"14\" fill=\"#009af9\" fill-rule=\"evenodd\" fill-opacity=\"1\" stroke=\"#000000\" stroke-opacity=\"1\" stroke-width=\"3.2\"/>\n",
       "<circle clip-path=\"url(#clip1602)\" cx=\"1632.19\" cy=\"442.67\" r=\"14\" fill=\"#009af9\" fill-rule=\"evenodd\" fill-opacity=\"1\" stroke=\"#000000\" stroke-opacity=\"1\" stroke-width=\"3.2\"/>\n",
       "<circle clip-path=\"url(#clip1602)\" cx=\"1618.61\" cy=\"480.087\" r=\"14\" fill=\"#009af9\" fill-rule=\"evenodd\" fill-opacity=\"1\" stroke=\"#000000\" stroke-opacity=\"1\" stroke-width=\"3.2\"/>\n",
       "<circle clip-path=\"url(#clip1602)\" cx=\"1618.61\" cy=\"480.087\" r=\"14\" fill=\"#009af9\" fill-rule=\"evenodd\" fill-opacity=\"1\" stroke=\"#000000\" stroke-opacity=\"1\" stroke-width=\"3.2\"/>\n",
       "<circle clip-path=\"url(#clip1602)\" cx=\"1618.61\" cy=\"480.087\" r=\"14\" fill=\"#009af9\" fill-rule=\"evenodd\" fill-opacity=\"1\" stroke=\"#000000\" stroke-opacity=\"1\" stroke-width=\"3.2\"/>\n",
       "<circle clip-path=\"url(#clip1602)\" cx=\"1632.12\" cy=\"484.003\" r=\"14\" fill=\"#009af9\" fill-rule=\"evenodd\" fill-opacity=\"1\" stroke=\"#000000\" stroke-opacity=\"1\" stroke-width=\"3.2\"/>\n",
       "<circle clip-path=\"url(#clip1602)\" cx=\"1618.61\" cy=\"480.087\" r=\"14\" fill=\"#009af9\" fill-rule=\"evenodd\" fill-opacity=\"1\" stroke=\"#000000\" stroke-opacity=\"1\" stroke-width=\"3.2\"/>\n",
       "<circle clip-path=\"url(#clip1602)\" cx=\"1618.61\" cy=\"480.087\" r=\"14\" fill=\"#009af9\" fill-rule=\"evenodd\" fill-opacity=\"1\" stroke=\"#000000\" stroke-opacity=\"1\" stroke-width=\"3.2\"/>\n",
       "<circle clip-path=\"url(#clip1602)\" cx=\"1618.61\" cy=\"480.087\" r=\"14\" fill=\"#009af9\" fill-rule=\"evenodd\" fill-opacity=\"1\" stroke=\"#000000\" stroke-opacity=\"1\" stroke-width=\"3.2\"/>\n",
       "<circle clip-path=\"url(#clip1602)\" cx=\"1618.61\" cy=\"480.087\" r=\"14\" fill=\"#009af9\" fill-rule=\"evenodd\" fill-opacity=\"1\" stroke=\"#000000\" stroke-opacity=\"1\" stroke-width=\"3.2\"/>\n",
       "<circle clip-path=\"url(#clip1602)\" cx=\"1618.61\" cy=\"480.087\" r=\"14\" fill=\"#009af9\" fill-rule=\"evenodd\" fill-opacity=\"1\" stroke=\"#000000\" stroke-opacity=\"1\" stroke-width=\"3.2\"/>\n",
       "<circle clip-path=\"url(#clip1602)\" cx=\"1618.61\" cy=\"480.087\" r=\"14\" fill=\"#009af9\" fill-rule=\"evenodd\" fill-opacity=\"1\" stroke=\"#000000\" stroke-opacity=\"1\" stroke-width=\"3.2\"/>\n",
       "<circle clip-path=\"url(#clip1602)\" cx=\"1618.61\" cy=\"480.087\" r=\"14\" fill=\"#009af9\" fill-rule=\"evenodd\" fill-opacity=\"1\" stroke=\"#000000\" stroke-opacity=\"1\" stroke-width=\"3.2\"/>\n",
       "<circle clip-path=\"url(#clip1602)\" cx=\"1618.61\" cy=\"480.087\" r=\"14\" fill=\"#009af9\" fill-rule=\"evenodd\" fill-opacity=\"1\" stroke=\"#000000\" stroke-opacity=\"1\" stroke-width=\"3.2\"/>\n",
       "<circle clip-path=\"url(#clip1602)\" cx=\"1725.69\" cy=\"455.721\" r=\"14\" fill=\"#009af9\" fill-rule=\"evenodd\" fill-opacity=\"1\" stroke=\"#000000\" stroke-opacity=\"1\" stroke-width=\"3.2\"/>\n",
       "<circle clip-path=\"url(#clip1602)\" cx=\"1649.87\" cy=\"507.569\" r=\"14\" fill=\"#009af9\" fill-rule=\"evenodd\" fill-opacity=\"1\" stroke=\"#000000\" stroke-opacity=\"1\" stroke-width=\"3.2\"/>\n",
       "<circle clip-path=\"url(#clip1602)\" cx=\"1649.31\" cy=\"484.493\" r=\"14\" fill=\"#009af9\" fill-rule=\"evenodd\" fill-opacity=\"1\" stroke=\"#000000\" stroke-opacity=\"1\" stroke-width=\"3.2\"/>\n",
       "<circle clip-path=\"url(#clip1602)\" cx=\"1701.24\" cy=\"444.202\" r=\"14\" fill=\"#009af9\" fill-rule=\"evenodd\" fill-opacity=\"1\" stroke=\"#000000\" stroke-opacity=\"1\" stroke-width=\"3.2\"/>\n",
       "<circle clip-path=\"url(#clip1602)\" cx=\"1649.31\" cy=\"484.493\" r=\"14\" fill=\"#009af9\" fill-rule=\"evenodd\" fill-opacity=\"1\" stroke=\"#000000\" stroke-opacity=\"1\" stroke-width=\"3.2\"/>\n",
       "<circle clip-path=\"url(#clip1602)\" cx=\"1653.98\" cy=\"440.678\" r=\"14\" fill=\"#009af9\" fill-rule=\"evenodd\" fill-opacity=\"1\" stroke=\"#000000\" stroke-opacity=\"1\" stroke-width=\"3.2\"/>\n",
       "<circle clip-path=\"url(#clip1602)\" cx=\"1658.32\" cy=\"441.894\" r=\"14\" fill=\"#009af9\" fill-rule=\"evenodd\" fill-opacity=\"1\" stroke=\"#000000\" stroke-opacity=\"1\" stroke-width=\"3.2\"/>\n",
       "<circle clip-path=\"url(#clip1602)\" cx=\"1726.65\" cy=\"472.931\" r=\"14\" fill=\"#009af9\" fill-rule=\"evenodd\" fill-opacity=\"1\" stroke=\"#000000\" stroke-opacity=\"1\" stroke-width=\"3.2\"/>\n",
       "<circle clip-path=\"url(#clip1602)\" cx=\"1646.48\" cy=\"470.377\" r=\"14\" fill=\"#009af9\" fill-rule=\"evenodd\" fill-opacity=\"1\" stroke=\"#000000\" stroke-opacity=\"1\" stroke-width=\"3.2\"/>\n",
       "<circle clip-path=\"url(#clip1602)\" cx=\"1726.65\" cy=\"472.931\" r=\"14\" fill=\"#009af9\" fill-rule=\"evenodd\" fill-opacity=\"1\" stroke=\"#000000\" stroke-opacity=\"1\" stroke-width=\"3.2\"/>\n",
       "<circle clip-path=\"url(#clip1602)\" cx=\"1716.41\" cy=\"477.434\" r=\"14\" fill=\"#009af9\" fill-rule=\"evenodd\" fill-opacity=\"1\" stroke=\"#000000\" stroke-opacity=\"1\" stroke-width=\"3.2\"/>\n",
       "<circle clip-path=\"url(#clip1602)\" cx=\"1637.43\" cy=\"458.544\" r=\"14\" fill=\"#009af9\" fill-rule=\"evenodd\" fill-opacity=\"1\" stroke=\"#000000\" stroke-opacity=\"1\" stroke-width=\"3.2\"/>\n",
       "<circle clip-path=\"url(#clip1602)\" cx=\"1674.8\" cy=\"434.433\" r=\"14\" fill=\"#009af9\" fill-rule=\"evenodd\" fill-opacity=\"1\" stroke=\"#000000\" stroke-opacity=\"1\" stroke-width=\"3.2\"/>\n",
       "<circle clip-path=\"url(#clip1602)\" cx=\"1654.51\" cy=\"475.427\" r=\"14\" fill=\"#009af9\" fill-rule=\"evenodd\" fill-opacity=\"1\" stroke=\"#000000\" stroke-opacity=\"1\" stroke-width=\"3.2\"/>\n",
       "<circle clip-path=\"url(#clip1602)\" cx=\"1654.51\" cy=\"475.427\" r=\"14\" fill=\"#009af9\" fill-rule=\"evenodd\" fill-opacity=\"1\" stroke=\"#000000\" stroke-opacity=\"1\" stroke-width=\"3.2\"/>\n",
       "<circle clip-path=\"url(#clip1602)\" cx=\"1674.8\" cy=\"434.433\" r=\"14\" fill=\"#009af9\" fill-rule=\"evenodd\" fill-opacity=\"1\" stroke=\"#000000\" stroke-opacity=\"1\" stroke-width=\"3.2\"/>\n",
       "<circle clip-path=\"url(#clip1602)\" cx=\"1664.88\" cy=\"489.78\" r=\"14\" fill=\"#009af9\" fill-rule=\"evenodd\" fill-opacity=\"1\" stroke=\"#000000\" stroke-opacity=\"1\" stroke-width=\"3.2\"/>\n",
       "<circle clip-path=\"url(#clip1602)\" cx=\"1677.57\" cy=\"437.948\" r=\"14\" fill=\"#009af9\" fill-rule=\"evenodd\" fill-opacity=\"1\" stroke=\"#000000\" stroke-opacity=\"1\" stroke-width=\"3.2\"/>\n",
       "<circle clip-path=\"url(#clip1602)\" cx=\"1670.31\" cy=\"505.074\" r=\"14\" fill=\"#009af9\" fill-rule=\"evenodd\" fill-opacity=\"1\" stroke=\"#000000\" stroke-opacity=\"1\" stroke-width=\"3.2\"/>\n",
       "<circle clip-path=\"url(#clip1602)\" cx=\"1670.31\" cy=\"505.074\" r=\"14\" fill=\"#009af9\" fill-rule=\"evenodd\" fill-opacity=\"1\" stroke=\"#000000\" stroke-opacity=\"1\" stroke-width=\"3.2\"/>\n",
       "<circle clip-path=\"url(#clip1602)\" cx=\"1670.31\" cy=\"505.074\" r=\"14\" fill=\"#009af9\" fill-rule=\"evenodd\" fill-opacity=\"1\" stroke=\"#000000\" stroke-opacity=\"1\" stroke-width=\"3.2\"/>\n",
       "<circle clip-path=\"url(#clip1602)\" cx=\"1677.57\" cy=\"437.948\" r=\"14\" fill=\"#009af9\" fill-rule=\"evenodd\" fill-opacity=\"1\" stroke=\"#000000\" stroke-opacity=\"1\" stroke-width=\"3.2\"/>\n",
       "<circle clip-path=\"url(#clip1602)\" cx=\"1651.58\" cy=\"460.331\" r=\"14\" fill=\"#009af9\" fill-rule=\"evenodd\" fill-opacity=\"1\" stroke=\"#000000\" stroke-opacity=\"1\" stroke-width=\"3.2\"/>\n",
       "<circle clip-path=\"url(#clip1602)\" cx=\"1667.59\" cy=\"461.381\" r=\"14\" fill=\"#009af9\" fill-rule=\"evenodd\" fill-opacity=\"1\" stroke=\"#000000\" stroke-opacity=\"1\" stroke-width=\"3.2\"/>\n",
       "<circle clip-path=\"url(#clip1602)\" cx=\"1690.56\" cy=\"442.485\" r=\"14\" fill=\"#009af9\" fill-rule=\"evenodd\" fill-opacity=\"1\" stroke=\"#000000\" stroke-opacity=\"1\" stroke-width=\"3.2\"/>\n",
       "<circle clip-path=\"url(#clip1602)\" cx=\"1632.19\" cy=\"442.67\" r=\"14\" fill=\"#009af9\" fill-rule=\"evenodd\" fill-opacity=\"1\" stroke=\"#000000\" stroke-opacity=\"1\" stroke-width=\"3.2\"/>\n",
       "<circle clip-path=\"url(#clip1602)\" cx=\"1631.29\" cy=\"435.027\" r=\"14\" fill=\"#009af9\" fill-rule=\"evenodd\" fill-opacity=\"1\" stroke=\"#000000\" stroke-opacity=\"1\" stroke-width=\"3.2\"/>\n",
       "<circle clip-path=\"url(#clip1602)\" cx=\"1664.79\" cy=\"428.682\" r=\"14\" fill=\"#009af9\" fill-rule=\"evenodd\" fill-opacity=\"1\" stroke=\"#000000\" stroke-opacity=\"1\" stroke-width=\"3.2\"/>\n",
       "<circle clip-path=\"url(#clip1602)\" cx=\"1685.85\" cy=\"479.615\" r=\"14\" fill=\"#009af9\" fill-rule=\"evenodd\" fill-opacity=\"1\" stroke=\"#000000\" stroke-opacity=\"1\" stroke-width=\"3.2\"/>\n",
       "<circle clip-path=\"url(#clip1602)\" cx=\"1661.64\" cy=\"457.241\" r=\"14\" fill=\"#009af9\" fill-rule=\"evenodd\" fill-opacity=\"1\" stroke=\"#000000\" stroke-opacity=\"1\" stroke-width=\"3.2\"/>\n",
       "<circle clip-path=\"url(#clip1602)\" cx=\"1658.88\" cy=\"453.726\" r=\"14\" fill=\"#009af9\" fill-rule=\"evenodd\" fill-opacity=\"1\" stroke=\"#000000\" stroke-opacity=\"1\" stroke-width=\"3.2\"/>\n",
       "<circle clip-path=\"url(#clip1602)\" cx=\"1678.08\" cy=\"464.529\" r=\"14\" fill=\"#009af9\" fill-rule=\"evenodd\" fill-opacity=\"1\" stroke=\"#000000\" stroke-opacity=\"1\" stroke-width=\"3.2\"/>\n",
       "<circle clip-path=\"url(#clip1602)\" cx=\"1593.25\" cy=\"458.766\" r=\"14\" fill=\"#009af9\" fill-rule=\"evenodd\" fill-opacity=\"1\" stroke=\"#000000\" stroke-opacity=\"1\" stroke-width=\"3.2\"/>\n",
       "<circle clip-path=\"url(#clip1602)\" cx=\"1611.27\" cy=\"508.231\" r=\"14\" fill=\"#009af9\" fill-rule=\"evenodd\" fill-opacity=\"1\" stroke=\"#000000\" stroke-opacity=\"1\" stroke-width=\"3.2\"/>\n",
       "<circle clip-path=\"url(#clip1602)\" cx=\"1679.96\" cy=\"480.543\" r=\"14\" fill=\"#009af9\" fill-rule=\"evenodd\" fill-opacity=\"1\" stroke=\"#000000\" stroke-opacity=\"1\" stroke-width=\"3.2\"/>\n",
       "<circle clip-path=\"url(#clip1602)\" cx=\"1685.31\" cy=\"463.495\" r=\"14\" fill=\"#009af9\" fill-rule=\"evenodd\" fill-opacity=\"1\" stroke=\"#000000\" stroke-opacity=\"1\" stroke-width=\"3.2\"/>\n",
       "<circle clip-path=\"url(#clip1602)\" cx=\"1688.05\" cy=\"473.593\" r=\"14\" fill=\"#009af9\" fill-rule=\"evenodd\" fill-opacity=\"1\" stroke=\"#000000\" stroke-opacity=\"1\" stroke-width=\"3.2\"/>\n",
       "<circle clip-path=\"url(#clip1602)\" cx=\"1696.51\" cy=\"486.032\" r=\"14\" fill=\"#009af9\" fill-rule=\"evenodd\" fill-opacity=\"1\" stroke=\"#000000\" stroke-opacity=\"1\" stroke-width=\"3.2\"/>\n",
       "<circle clip-path=\"url(#clip1602)\" cx=\"1673.25\" cy=\"492.581\" r=\"14\" fill=\"#009af9\" fill-rule=\"evenodd\" fill-opacity=\"1\" stroke=\"#000000\" stroke-opacity=\"1\" stroke-width=\"3.2\"/>\n",
       "<circle clip-path=\"url(#clip1602)\" cx=\"1668.97\" cy=\"457.242\" r=\"14\" fill=\"#009af9\" fill-rule=\"evenodd\" fill-opacity=\"1\" stroke=\"#000000\" stroke-opacity=\"1\" stroke-width=\"3.2\"/>\n",
       "<circle clip-path=\"url(#clip1602)\" cx=\"1642.79\" cy=\"454.279\" r=\"14\" fill=\"#009af9\" fill-rule=\"evenodd\" fill-opacity=\"1\" stroke=\"#000000\" stroke-opacity=\"1\" stroke-width=\"3.2\"/>\n",
       "<circle clip-path=\"url(#clip1602)\" cx=\"1674.63\" cy=\"461.777\" r=\"14\" fill=\"#009af9\" fill-rule=\"evenodd\" fill-opacity=\"1\" stroke=\"#000000\" stroke-opacity=\"1\" stroke-width=\"3.2\"/>\n",
       "<circle clip-path=\"url(#clip1602)\" cx=\"1654.54\" cy=\"463.755\" r=\"14\" fill=\"#009af9\" fill-rule=\"evenodd\" fill-opacity=\"1\" stroke=\"#000000\" stroke-opacity=\"1\" stroke-width=\"3.2\"/>\n",
       "<circle clip-path=\"url(#clip1602)\" cx=\"1655.52\" cy=\"466.677\" r=\"14\" fill=\"#009af9\" fill-rule=\"evenodd\" fill-opacity=\"1\" stroke=\"#000000\" stroke-opacity=\"1\" stroke-width=\"3.2\"/>\n",
       "<circle clip-path=\"url(#clip1602)\" cx=\"1685.31\" cy=\"463.495\" r=\"14\" fill=\"#009af9\" fill-rule=\"evenodd\" fill-opacity=\"1\" stroke=\"#000000\" stroke-opacity=\"1\" stroke-width=\"3.2\"/>\n",
       "<circle clip-path=\"url(#clip1602)\" cx=\"1608.39\" cy=\"490.698\" r=\"14\" fill=\"#009af9\" fill-rule=\"evenodd\" fill-opacity=\"1\" stroke=\"#000000\" stroke-opacity=\"1\" stroke-width=\"3.2\"/>\n",
       "<circle clip-path=\"url(#clip1602)\" cx=\"1652.81\" cy=\"496.74\" r=\"14\" fill=\"#009af9\" fill-rule=\"evenodd\" fill-opacity=\"1\" stroke=\"#000000\" stroke-opacity=\"1\" stroke-width=\"3.2\"/>\n",
       "<circle clip-path=\"url(#clip1602)\" cx=\"1683.72\" cy=\"484.124\" r=\"14\" fill=\"#009af9\" fill-rule=\"evenodd\" fill-opacity=\"1\" stroke=\"#000000\" stroke-opacity=\"1\" stroke-width=\"3.2\"/>\n",
       "<circle clip-path=\"url(#clip1602)\" cx=\"1632.02\" cy=\"491.903\" r=\"14\" fill=\"#009af9\" fill-rule=\"evenodd\" fill-opacity=\"1\" stroke=\"#000000\" stroke-opacity=\"1\" stroke-width=\"3.2\"/>\n",
       "<circle clip-path=\"url(#clip1602)\" cx=\"1676.28\" cy=\"467.195\" r=\"14\" fill=\"#009af9\" fill-rule=\"evenodd\" fill-opacity=\"1\" stroke=\"#000000\" stroke-opacity=\"1\" stroke-width=\"3.2\"/>\n",
       "<circle clip-path=\"url(#clip1602)\" cx=\"1606.11\" cy=\"478.151\" r=\"14\" fill=\"#009af9\" fill-rule=\"evenodd\" fill-opacity=\"1\" stroke=\"#000000\" stroke-opacity=\"1\" stroke-width=\"3.2\"/>\n",
       "<circle clip-path=\"url(#clip1602)\" cx=\"1674.68\" cy=\"470.189\" r=\"14\" fill=\"#009af9\" fill-rule=\"evenodd\" fill-opacity=\"1\" stroke=\"#000000\" stroke-opacity=\"1\" stroke-width=\"3.2\"/>\n",
       "<circle clip-path=\"url(#clip1602)\" cx=\"1615.14\" cy=\"490.334\" r=\"14\" fill=\"#009af9\" fill-rule=\"evenodd\" fill-opacity=\"1\" stroke=\"#000000\" stroke-opacity=\"1\" stroke-width=\"3.2\"/>\n",
       "<circle clip-path=\"url(#clip1602)\" cx=\"1676.5\" cy=\"490.789\" r=\"14\" fill=\"#009af9\" fill-rule=\"evenodd\" fill-opacity=\"1\" stroke=\"#000000\" stroke-opacity=\"1\" stroke-width=\"3.2\"/>\n",
       "<circle clip-path=\"url(#clip1602)\" cx=\"1648.17\" cy=\"478.989\" r=\"14\" fill=\"#009af9\" fill-rule=\"evenodd\" fill-opacity=\"1\" stroke=\"#000000\" stroke-opacity=\"1\" stroke-width=\"3.2\"/>\n",
       "<circle clip-path=\"url(#clip1602)\" cx=\"1691.96\" cy=\"504.057\" r=\"14\" fill=\"#009af9\" fill-rule=\"evenodd\" fill-opacity=\"1\" stroke=\"#000000\" stroke-opacity=\"1\" stroke-width=\"3.2\"/>\n",
       "<circle clip-path=\"url(#clip1602)\" cx=\"1653.37\" cy=\"519.816\" r=\"14\" fill=\"#009af9\" fill-rule=\"evenodd\" fill-opacity=\"1\" stroke=\"#000000\" stroke-opacity=\"1\" stroke-width=\"3.2\"/>\n",
       "<circle clip-path=\"url(#clip1602)\" cx=\"1614.52\" cy=\"485.06\" r=\"14\" fill=\"#009af9\" fill-rule=\"evenodd\" fill-opacity=\"1\" stroke=\"#000000\" stroke-opacity=\"1\" stroke-width=\"3.2\"/>\n",
       "<circle clip-path=\"url(#clip1602)\" cx=\"1628.44\" cy=\"492.889\" r=\"14\" fill=\"#009af9\" fill-rule=\"evenodd\" fill-opacity=\"1\" stroke=\"#000000\" stroke-opacity=\"1\" stroke-width=\"3.2\"/>\n",
       "<circle clip-path=\"url(#clip1602)\" cx=\"1607.58\" cy=\"492.134\" r=\"14\" fill=\"#009af9\" fill-rule=\"evenodd\" fill-opacity=\"1\" stroke=\"#000000\" stroke-opacity=\"1\" stroke-width=\"3.2\"/>\n",
       "<circle clip-path=\"url(#clip1602)\" cx=\"1673.55\" cy=\"488.185\" r=\"14\" fill=\"#009af9\" fill-rule=\"evenodd\" fill-opacity=\"1\" stroke=\"#000000\" stroke-opacity=\"1\" stroke-width=\"3.2\"/>\n",
       "<circle clip-path=\"url(#clip1602)\" cx=\"1624.25\" cy=\"483.528\" r=\"14\" fill=\"#009af9\" fill-rule=\"evenodd\" fill-opacity=\"1\" stroke=\"#000000\" stroke-opacity=\"1\" stroke-width=\"3.2\"/>\n",
       "<circle clip-path=\"url(#clip1602)\" cx=\"1651.04\" cy=\"503.852\" r=\"14\" fill=\"#009af9\" fill-rule=\"evenodd\" fill-opacity=\"1\" stroke=\"#000000\" stroke-opacity=\"1\" stroke-width=\"3.2\"/>\n",
       "<circle clip-path=\"url(#clip1602)\" cx=\"1670.08\" cy=\"498.431\" r=\"14\" fill=\"#009af9\" fill-rule=\"evenodd\" fill-opacity=\"1\" stroke=\"#000000\" stroke-opacity=\"1\" stroke-width=\"3.2\"/>\n",
       "<circle clip-path=\"url(#clip1602)\" cx=\"1615.76\" cy=\"493.808\" r=\"14\" fill=\"#009af9\" fill-rule=\"evenodd\" fill-opacity=\"1\" stroke=\"#000000\" stroke-opacity=\"1\" stroke-width=\"3.2\"/>\n",
       "<circle clip-path=\"url(#clip1602)\" cx=\"1702.12\" cy=\"494.827\" r=\"14\" fill=\"#009af9\" fill-rule=\"evenodd\" fill-opacity=\"1\" stroke=\"#000000\" stroke-opacity=\"1\" stroke-width=\"3.2\"/>\n",
       "<circle clip-path=\"url(#clip1602)\" cx=\"1714.71\" cy=\"477.848\" r=\"14\" fill=\"#009af9\" fill-rule=\"evenodd\" fill-opacity=\"1\" stroke=\"#000000\" stroke-opacity=\"1\" stroke-width=\"3.2\"/>\n",
       "<circle clip-path=\"url(#clip1602)\" cx=\"1701.24\" cy=\"444.202\" r=\"14\" fill=\"#009af9\" fill-rule=\"evenodd\" fill-opacity=\"1\" stroke=\"#000000\" stroke-opacity=\"1\" stroke-width=\"3.2\"/>\n",
       "<circle clip-path=\"url(#clip1602)\" cx=\"1618.61\" cy=\"480.087\" r=\"14\" fill=\"#009af9\" fill-rule=\"evenodd\" fill-opacity=\"1\" stroke=\"#000000\" stroke-opacity=\"1\" stroke-width=\"3.2\"/>\n",
       "<circle clip-path=\"url(#clip1602)\" cx=\"1618.61\" cy=\"480.087\" r=\"14\" fill=\"#009af9\" fill-rule=\"evenodd\" fill-opacity=\"1\" stroke=\"#000000\" stroke-opacity=\"1\" stroke-width=\"3.2\"/>\n",
       "<circle clip-path=\"url(#clip1602)\" cx=\"1624.3\" cy=\"467.217\" r=\"14\" fill=\"#009af9\" fill-rule=\"evenodd\" fill-opacity=\"1\" stroke=\"#000000\" stroke-opacity=\"1\" stroke-width=\"3.2\"/>\n",
       "<circle clip-path=\"url(#clip1602)\" cx=\"1701.24\" cy=\"444.202\" r=\"14\" fill=\"#009af9\" fill-rule=\"evenodd\" fill-opacity=\"1\" stroke=\"#000000\" stroke-opacity=\"1\" stroke-width=\"3.2\"/>\n",
       "<circle clip-path=\"url(#clip1602)\" cx=\"1649.31\" cy=\"484.493\" r=\"14\" fill=\"#009af9\" fill-rule=\"evenodd\" fill-opacity=\"1\" stroke=\"#000000\" stroke-opacity=\"1\" stroke-width=\"3.2\"/>\n",
       "<circle clip-path=\"url(#clip1602)\" cx=\"1618.61\" cy=\"480.087\" r=\"14\" fill=\"#009af9\" fill-rule=\"evenodd\" fill-opacity=\"1\" stroke=\"#000000\" stroke-opacity=\"1\" stroke-width=\"3.2\"/>\n",
       "<circle clip-path=\"url(#clip1602)\" cx=\"1716.41\" cy=\"477.434\" r=\"14\" fill=\"#009af9\" fill-rule=\"evenodd\" fill-opacity=\"1\" stroke=\"#000000\" stroke-opacity=\"1\" stroke-width=\"3.2\"/>\n",
       "<circle clip-path=\"url(#clip1602)\" cx=\"1618.61\" cy=\"480.087\" r=\"14\" fill=\"#009af9\" fill-rule=\"evenodd\" fill-opacity=\"1\" stroke=\"#000000\" stroke-opacity=\"1\" stroke-width=\"3.2\"/>\n",
       "<circle clip-path=\"url(#clip1602)\" cx=\"1670.08\" cy=\"498.431\" r=\"14\" fill=\"#009af9\" fill-rule=\"evenodd\" fill-opacity=\"1\" stroke=\"#000000\" stroke-opacity=\"1\" stroke-width=\"3.2\"/>\n",
       "<circle clip-path=\"url(#clip1602)\" cx=\"1658.31\" cy=\"483.094\" r=\"14\" fill=\"#009af9\" fill-rule=\"evenodd\" fill-opacity=\"1\" stroke=\"#000000\" stroke-opacity=\"1\" stroke-width=\"3.2\"/>\n",
       "<circle clip-path=\"url(#clip1602)\" cx=\"1682.92\" cy=\"464.518\" r=\"14\" fill=\"#009af9\" fill-rule=\"evenodd\" fill-opacity=\"1\" stroke=\"#000000\" stroke-opacity=\"1\" stroke-width=\"3.2\"/>\n",
       "<circle clip-path=\"url(#clip1602)\" cx=\"1628.66\" cy=\"494.25\" r=\"14\" fill=\"#009af9\" fill-rule=\"evenodd\" fill-opacity=\"1\" stroke=\"#000000\" stroke-opacity=\"1\" stroke-width=\"3.2\"/>\n",
       "<circle clip-path=\"url(#clip1602)\" cx=\"1641.7\" cy=\"478.22\" r=\"14\" fill=\"#009af9\" fill-rule=\"evenodd\" fill-opacity=\"1\" stroke=\"#000000\" stroke-opacity=\"1\" stroke-width=\"3.2\"/>\n",
       "<circle clip-path=\"url(#clip1602)\" cx=\"1661.94\" cy=\"499.523\" r=\"14\" fill=\"#009af9\" fill-rule=\"evenodd\" fill-opacity=\"1\" stroke=\"#000000\" stroke-opacity=\"1\" stroke-width=\"3.2\"/>\n",
       "<circle clip-path=\"url(#clip1602)\" cx=\"1638.11\" cy=\"464.826\" r=\"14\" fill=\"#009af9\" fill-rule=\"evenodd\" fill-opacity=\"1\" stroke=\"#000000\" stroke-opacity=\"1\" stroke-width=\"3.2\"/>\n",
       "<circle clip-path=\"url(#clip1602)\" cx=\"1690.56\" cy=\"442.485\" r=\"14\" fill=\"#009af9\" fill-rule=\"evenodd\" fill-opacity=\"1\" stroke=\"#000000\" stroke-opacity=\"1\" stroke-width=\"3.2\"/>\n",
       "<circle clip-path=\"url(#clip1602)\" cx=\"1676.5\" cy=\"490.789\" r=\"14\" fill=\"#009af9\" fill-rule=\"evenodd\" fill-opacity=\"1\" stroke=\"#000000\" stroke-opacity=\"1\" stroke-width=\"3.2\"/>\n",
       "<circle clip-path=\"url(#clip1602)\" cx=\"1649.87\" cy=\"507.569\" r=\"14\" fill=\"#009af9\" fill-rule=\"evenodd\" fill-opacity=\"1\" stroke=\"#000000\" stroke-opacity=\"1\" stroke-width=\"3.2\"/>\n",
       "<circle clip-path=\"url(#clip1602)\" cx=\"1616.32\" cy=\"467.54\" r=\"14\" fill=\"#009af9\" fill-rule=\"evenodd\" fill-opacity=\"1\" stroke=\"#000000\" stroke-opacity=\"1\" stroke-width=\"3.2\"/>\n",
       "<circle clip-path=\"url(#clip1602)\" cx=\"1648.65\" cy=\"469.957\" r=\"14\" fill=\"#009af9\" fill-rule=\"evenodd\" fill-opacity=\"1\" stroke=\"#000000\" stroke-opacity=\"1\" stroke-width=\"3.2\"/>\n",
       "<circle clip-path=\"url(#clip1602)\" cx=\"1610.83\" cy=\"471.713\" r=\"14\" fill=\"#009af9\" fill-rule=\"evenodd\" fill-opacity=\"1\" stroke=\"#000000\" stroke-opacity=\"1\" stroke-width=\"3.2\"/>\n",
       "<circle clip-path=\"url(#clip1602)\" cx=\"1701.24\" cy=\"444.202\" r=\"14\" fill=\"#009af9\" fill-rule=\"evenodd\" fill-opacity=\"1\" stroke=\"#000000\" stroke-opacity=\"1\" stroke-width=\"3.2\"/>\n",
       "<circle clip-path=\"url(#clip1602)\" cx=\"1664.79\" cy=\"428.682\" r=\"14\" fill=\"#009af9\" fill-rule=\"evenodd\" fill-opacity=\"1\" stroke=\"#000000\" stroke-opacity=\"1\" stroke-width=\"3.2\"/>\n",
       "<circle clip-path=\"url(#clip1602)\" cx=\"1635.83\" cy=\"452.279\" r=\"14\" fill=\"#009af9\" fill-rule=\"evenodd\" fill-opacity=\"1\" stroke=\"#000000\" stroke-opacity=\"1\" stroke-width=\"3.2\"/>\n",
       "<circle clip-path=\"url(#clip1602)\" cx=\"1701.24\" cy=\"444.202\" r=\"14\" fill=\"#009af9\" fill-rule=\"evenodd\" fill-opacity=\"1\" stroke=\"#000000\" stroke-opacity=\"1\" stroke-width=\"3.2\"/>\n",
       "<circle clip-path=\"url(#clip1602)\" cx=\"1694.21\" cy=\"486.483\" r=\"14\" fill=\"#009af9\" fill-rule=\"evenodd\" fill-opacity=\"1\" stroke=\"#000000\" stroke-opacity=\"1\" stroke-width=\"3.2\"/>\n",
       "<circle clip-path=\"url(#clip1602)\" cx=\"1649.87\" cy=\"507.569\" r=\"14\" fill=\"#009af9\" fill-rule=\"evenodd\" fill-opacity=\"1\" stroke=\"#000000\" stroke-opacity=\"1\" stroke-width=\"3.2\"/>\n",
       "<circle clip-path=\"url(#clip1602)\" cx=\"1664.79\" cy=\"428.682\" r=\"14\" fill=\"#009af9\" fill-rule=\"evenodd\" fill-opacity=\"1\" stroke=\"#000000\" stroke-opacity=\"1\" stroke-width=\"3.2\"/>\n",
       "<circle clip-path=\"url(#clip1602)\" cx=\"1640.06\" cy=\"475.269\" r=\"14\" fill=\"#009af9\" fill-rule=\"evenodd\" fill-opacity=\"1\" stroke=\"#000000\" stroke-opacity=\"1\" stroke-width=\"3.2\"/>\n",
       "<circle clip-path=\"url(#clip1602)\" cx=\"1737.57\" cy=\"471.855\" r=\"14\" fill=\"#e26f46\" fill-rule=\"evenodd\" fill-opacity=\"1\" stroke=\"#000000\" stroke-opacity=\"1\" stroke-width=\"3.2\"/>\n",
       "<circle clip-path=\"url(#clip1602)\" cx=\"1649.87\" cy=\"507.569\" r=\"14\" fill=\"#e26f46\" fill-rule=\"evenodd\" fill-opacity=\"1\" stroke=\"#000000\" stroke-opacity=\"1\" stroke-width=\"3.2\"/>\n",
       "<circle clip-path=\"url(#clip1602)\" cx=\"1616.32\" cy=\"467.54\" r=\"14\" fill=\"#e26f46\" fill-rule=\"evenodd\" fill-opacity=\"1\" stroke=\"#000000\" stroke-opacity=\"1\" stroke-width=\"3.2\"/>\n",
       "<circle clip-path=\"url(#clip1602)\" cx=\"1720.36\" cy=\"442.053\" r=\"14\" fill=\"#e26f46\" fill-rule=\"evenodd\" fill-opacity=\"1\" stroke=\"#000000\" stroke-opacity=\"1\" stroke-width=\"3.2\"/>\n",
       "<circle clip-path=\"url(#clip1602)\" cx=\"1664.79\" cy=\"428.682\" r=\"14\" fill=\"#e26f46\" fill-rule=\"evenodd\" fill-opacity=\"1\" stroke=\"#000000\" stroke-opacity=\"1\" stroke-width=\"3.2\"/>\n",
       "<circle clip-path=\"url(#clip1602)\" cx=\"1632.12\" cy=\"484.003\" r=\"14\" fill=\"#e26f46\" fill-rule=\"evenodd\" fill-opacity=\"1\" stroke=\"#000000\" stroke-opacity=\"1\" stroke-width=\"3.2\"/>\n",
       "<circle clip-path=\"url(#clip1602)\" cx=\"1701.24\" cy=\"444.202\" r=\"14\" fill=\"#e26f46\" fill-rule=\"evenodd\" fill-opacity=\"1\" stroke=\"#000000\" stroke-opacity=\"1\" stroke-width=\"3.2\"/>\n",
       "<circle clip-path=\"url(#clip1602)\" cx=\"1724.04\" cy=\"455.4\" r=\"14\" fill=\"#e26f46\" fill-rule=\"evenodd\" fill-opacity=\"1\" stroke=\"#000000\" stroke-opacity=\"1\" stroke-width=\"3.2\"/>\n",
       "<circle clip-path=\"url(#clip1602)\" cx=\"1631.29\" cy=\"435.027\" r=\"14\" fill=\"#e26f46\" fill-rule=\"evenodd\" fill-opacity=\"1\" stroke=\"#000000\" stroke-opacity=\"1\" stroke-width=\"3.2\"/>\n",
       "<circle clip-path=\"url(#clip1602)\" cx=\"1618.61\" cy=\"480.087\" r=\"14\" fill=\"#e26f46\" fill-rule=\"evenodd\" fill-opacity=\"1\" stroke=\"#000000\" stroke-opacity=\"1\" stroke-width=\"3.2\"/>\n",
       "<circle clip-path=\"url(#clip1602)\" cx=\"1664.79\" cy=\"428.682\" r=\"14\" fill=\"#e26f46\" fill-rule=\"evenodd\" fill-opacity=\"1\" stroke=\"#000000\" stroke-opacity=\"1\" stroke-width=\"3.2\"/>\n",
       "<circle clip-path=\"url(#clip1602)\" cx=\"1670.31\" cy=\"505.074\" r=\"14\" fill=\"#e26f46\" fill-rule=\"evenodd\" fill-opacity=\"1\" stroke=\"#000000\" stroke-opacity=\"1\" stroke-width=\"3.2\"/>\n",
       "<circle clip-path=\"url(#clip1602)\" cx=\"1726.65\" cy=\"472.931\" r=\"14\" fill=\"#e26f46\" fill-rule=\"evenodd\" fill-opacity=\"1\" stroke=\"#000000\" stroke-opacity=\"1\" stroke-width=\"3.2\"/>\n",
       "<circle clip-path=\"url(#clip1602)\" cx=\"1691.75\" cy=\"480.645\" r=\"14\" fill=\"#e26f46\" fill-rule=\"evenodd\" fill-opacity=\"1\" stroke=\"#000000\" stroke-opacity=\"1\" stroke-width=\"3.2\"/>\n",
       "<circle clip-path=\"url(#clip1602)\" cx=\"1691.41\" cy=\"496.078\" r=\"14\" fill=\"#e26f46\" fill-rule=\"evenodd\" fill-opacity=\"1\" stroke=\"#000000\" stroke-opacity=\"1\" stroke-width=\"3.2\"/>\n",
       "<circle clip-path=\"url(#clip1602)\" cx=\"1646.48\" cy=\"470.377\" r=\"14\" fill=\"#e26f46\" fill-rule=\"evenodd\" fill-opacity=\"1\" stroke=\"#000000\" stroke-opacity=\"1\" stroke-width=\"3.2\"/>\n",
       "<circle clip-path=\"url(#clip1602)\" cx=\"1737.57\" cy=\"471.855\" r=\"14\" fill=\"#e26f46\" fill-rule=\"evenodd\" fill-opacity=\"1\" stroke=\"#000000\" stroke-opacity=\"1\" stroke-width=\"3.2\"/>\n",
       "<circle clip-path=\"url(#clip1602)\" cx=\"1649.31\" cy=\"484.493\" r=\"14\" fill=\"#e26f46\" fill-rule=\"evenodd\" fill-opacity=\"1\" stroke=\"#000000\" stroke-opacity=\"1\" stroke-width=\"3.2\"/>\n",
       "<circle clip-path=\"url(#clip1602)\" cx=\"1637.43\" cy=\"458.544\" r=\"14\" fill=\"#e26f46\" fill-rule=\"evenodd\" fill-opacity=\"1\" stroke=\"#000000\" stroke-opacity=\"1\" stroke-width=\"3.2\"/>\n",
       "<circle clip-path=\"url(#clip1602)\" cx=\"1702.76\" cy=\"459.285\" r=\"14\" fill=\"#e26f46\" fill-rule=\"evenodd\" fill-opacity=\"1\" stroke=\"#000000\" stroke-opacity=\"1\" stroke-width=\"3.2\"/>\n",
       "<circle clip-path=\"url(#clip1602)\" cx=\"1667.59\" cy=\"461.381\" r=\"14\" fill=\"#e26f46\" fill-rule=\"evenodd\" fill-opacity=\"1\" stroke=\"#000000\" stroke-opacity=\"1\" stroke-width=\"3.2\"/>\n",
       "<circle clip-path=\"url(#clip1602)\" cx=\"1664.88\" cy=\"489.78\" r=\"14\" fill=\"#e26f46\" fill-rule=\"evenodd\" fill-opacity=\"1\" stroke=\"#000000\" stroke-opacity=\"1\" stroke-width=\"3.2\"/>\n",
       "<circle clip-path=\"url(#clip1602)\" cx=\"1714.71\" cy=\"477.848\" r=\"14\" fill=\"#e26f46\" fill-rule=\"evenodd\" fill-opacity=\"1\" stroke=\"#000000\" stroke-opacity=\"1\" stroke-width=\"3.2\"/>\n",
       "<circle clip-path=\"url(#clip1602)\" cx=\"1714.04\" cy=\"449.649\" r=\"14\" fill=\"#e26f46\" fill-rule=\"evenodd\" fill-opacity=\"1\" stroke=\"#000000\" stroke-opacity=\"1\" stroke-width=\"3.2\"/>\n",
       "<circle clip-path=\"url(#clip1602)\" cx=\"1682.92\" cy=\"464.518\" r=\"14\" fill=\"#e26f46\" fill-rule=\"evenodd\" fill-opacity=\"1\" stroke=\"#000000\" stroke-opacity=\"1\" stroke-width=\"3.2\"/>\n",
       "<circle clip-path=\"url(#clip1602)\" cx=\"1658.32\" cy=\"441.894\" r=\"14\" fill=\"#e26f46\" fill-rule=\"evenodd\" fill-opacity=\"1\" stroke=\"#000000\" stroke-opacity=\"1\" stroke-width=\"3.2\"/>\n",
       "<circle clip-path=\"url(#clip1602)\" cx=\"1678.75\" cy=\"439.399\" r=\"14\" fill=\"#e26f46\" fill-rule=\"evenodd\" fill-opacity=\"1\" stroke=\"#000000\" stroke-opacity=\"1\" stroke-width=\"3.2\"/>\n",
       "<circle clip-path=\"url(#clip1602)\" cx=\"1675.41\" cy=\"495.028\" r=\"14\" fill=\"#e26f46\" fill-rule=\"evenodd\" fill-opacity=\"1\" stroke=\"#000000\" stroke-opacity=\"1\" stroke-width=\"3.2\"/>\n",
       "<circle clip-path=\"url(#clip1602)\" cx=\"1674.8\" cy=\"434.433\" r=\"14\" fill=\"#e26f46\" fill-rule=\"evenodd\" fill-opacity=\"1\" stroke=\"#000000\" stroke-opacity=\"1\" stroke-width=\"3.2\"/>\n",
       "<circle clip-path=\"url(#clip1602)\" cx=\"1716.41\" cy=\"477.434\" r=\"14\" fill=\"#e26f46\" fill-rule=\"evenodd\" fill-opacity=\"1\" stroke=\"#000000\" stroke-opacity=\"1\" stroke-width=\"3.2\"/>\n",
       "<circle clip-path=\"url(#clip1602)\" cx=\"1714.04\" cy=\"449.649\" r=\"14\" fill=\"#e26f46\" fill-rule=\"evenodd\" fill-opacity=\"1\" stroke=\"#000000\" stroke-opacity=\"1\" stroke-width=\"3.2\"/>\n",
       "<circle clip-path=\"url(#clip1602)\" cx=\"1664.88\" cy=\"489.78\" r=\"14\" fill=\"#e26f46\" fill-rule=\"evenodd\" fill-opacity=\"1\" stroke=\"#000000\" stroke-opacity=\"1\" stroke-width=\"3.2\"/>\n",
       "<circle clip-path=\"url(#clip1602)\" cx=\"1713.23\" cy=\"461.115\" r=\"14\" fill=\"#e26f46\" fill-rule=\"evenodd\" fill-opacity=\"1\" stroke=\"#000000\" stroke-opacity=\"1\" stroke-width=\"3.2\"/>\n",
       "<circle clip-path=\"url(#clip1602)\" cx=\"1678.75\" cy=\"439.399\" r=\"14\" fill=\"#e26f46\" fill-rule=\"evenodd\" fill-opacity=\"1\" stroke=\"#000000\" stroke-opacity=\"1\" stroke-width=\"3.2\"/>\n",
       "<circle clip-path=\"url(#clip1602)\" cx=\"1682.92\" cy=\"464.518\" r=\"14\" fill=\"#e26f46\" fill-rule=\"evenodd\" fill-opacity=\"1\" stroke=\"#000000\" stroke-opacity=\"1\" stroke-width=\"3.2\"/>\n",
       "<circle clip-path=\"url(#clip1602)\" cx=\"1646.48\" cy=\"470.377\" r=\"14\" fill=\"#e26f46\" fill-rule=\"evenodd\" fill-opacity=\"1\" stroke=\"#000000\" stroke-opacity=\"1\" stroke-width=\"3.2\"/>\n",
       "<circle clip-path=\"url(#clip1602)\" cx=\"1635.83\" cy=\"452.279\" r=\"14\" fill=\"#e26f46\" fill-rule=\"evenodd\" fill-opacity=\"1\" stroke=\"#000000\" stroke-opacity=\"1\" stroke-width=\"3.2\"/>\n",
       "<circle clip-path=\"url(#clip1602)\" cx=\"1708.67\" cy=\"481.882\" r=\"14\" fill=\"#e26f46\" fill-rule=\"evenodd\" fill-opacity=\"1\" stroke=\"#000000\" stroke-opacity=\"1\" stroke-width=\"3.2\"/>\n",
       "<circle clip-path=\"url(#clip1602)\" cx=\"1658.31\" cy=\"483.094\" r=\"14\" fill=\"#e26f46\" fill-rule=\"evenodd\" fill-opacity=\"1\" stroke=\"#000000\" stroke-opacity=\"1\" stroke-width=\"3.2\"/>\n",
       "<circle clip-path=\"url(#clip1602)\" cx=\"1690.56\" cy=\"442.485\" r=\"14\" fill=\"#e26f46\" fill-rule=\"evenodd\" fill-opacity=\"1\" stroke=\"#000000\" stroke-opacity=\"1\" stroke-width=\"3.2\"/>\n",
       "<circle clip-path=\"url(#clip1602)\" cx=\"1690.56\" cy=\"442.485\" r=\"14\" fill=\"#e26f46\" fill-rule=\"evenodd\" fill-opacity=\"1\" stroke=\"#000000\" stroke-opacity=\"1\" stroke-width=\"3.2\"/>\n",
       "<circle clip-path=\"url(#clip1602)\" cx=\"1685.85\" cy=\"479.615\" r=\"14\" fill=\"#e26f46\" fill-rule=\"evenodd\" fill-opacity=\"1\" stroke=\"#000000\" stroke-opacity=\"1\" stroke-width=\"3.2\"/>\n",
       "<circle clip-path=\"url(#clip1602)\" cx=\"1649.87\" cy=\"507.569\" r=\"14\" fill=\"#e26f46\" fill-rule=\"evenodd\" fill-opacity=\"1\" stroke=\"#000000\" stroke-opacity=\"1\" stroke-width=\"3.2\"/>\n",
       "<circle clip-path=\"url(#clip1602)\" cx=\"1684.35\" cy=\"442.126\" r=\"14\" fill=\"#e26f46\" fill-rule=\"evenodd\" fill-opacity=\"1\" stroke=\"#000000\" stroke-opacity=\"1\" stroke-width=\"3.2\"/>\n",
       "<circle clip-path=\"url(#clip1602)\" cx=\"1654.51\" cy=\"475.427\" r=\"14\" fill=\"#e26f46\" fill-rule=\"evenodd\" fill-opacity=\"1\" stroke=\"#000000\" stroke-opacity=\"1\" stroke-width=\"3.2\"/>\n",
       "<circle clip-path=\"url(#clip1602)\" cx=\"1635.83\" cy=\"452.279\" r=\"14\" fill=\"#e26f46\" fill-rule=\"evenodd\" fill-opacity=\"1\" stroke=\"#000000\" stroke-opacity=\"1\" stroke-width=\"3.2\"/>\n",
       "<circle clip-path=\"url(#clip1602)\" cx=\"1713.23\" cy=\"461.115\" r=\"14\" fill=\"#e26f46\" fill-rule=\"evenodd\" fill-opacity=\"1\" stroke=\"#000000\" stroke-opacity=\"1\" stroke-width=\"3.2\"/>\n",
       "<circle clip-path=\"url(#clip1602)\" cx=\"1616.32\" cy=\"467.54\" r=\"14\" fill=\"#e26f46\" fill-rule=\"evenodd\" fill-opacity=\"1\" stroke=\"#000000\" stroke-opacity=\"1\" stroke-width=\"3.2\"/>\n",
       "<circle clip-path=\"url(#clip1602)\" cx=\"1651.63\" cy=\"468.742\" r=\"14\" fill=\"#e26f46\" fill-rule=\"evenodd\" fill-opacity=\"1\" stroke=\"#000000\" stroke-opacity=\"1\" stroke-width=\"3.2\"/>\n",
       "<circle clip-path=\"url(#clip1602)\" cx=\"1726.65\" cy=\"472.931\" r=\"14\" fill=\"#e26f46\" fill-rule=\"evenodd\" fill-opacity=\"1\" stroke=\"#000000\" stroke-opacity=\"1\" stroke-width=\"3.2\"/>\n",
       "<circle clip-path=\"url(#clip1602)\" cx=\"1670.31\" cy=\"505.074\" r=\"14\" fill=\"#e26f46\" fill-rule=\"evenodd\" fill-opacity=\"1\" stroke=\"#000000\" stroke-opacity=\"1\" stroke-width=\"3.2\"/>\n",
       "<circle clip-path=\"url(#clip1602)\" cx=\"1632.19\" cy=\"442.67\" r=\"14\" fill=\"#e26f46\" fill-rule=\"evenodd\" fill-opacity=\"1\" stroke=\"#000000\" stroke-opacity=\"1\" stroke-width=\"3.2\"/>\n",
       "<circle clip-path=\"url(#clip1602)\" cx=\"1708.67\" cy=\"481.882\" r=\"14\" fill=\"#e26f46\" fill-rule=\"evenodd\" fill-opacity=\"1\" stroke=\"#000000\" stroke-opacity=\"1\" stroke-width=\"3.2\"/>\n",
       "<circle clip-path=\"url(#clip1602)\" cx=\"1716.41\" cy=\"477.434\" r=\"14\" fill=\"#e26f46\" fill-rule=\"evenodd\" fill-opacity=\"1\" stroke=\"#000000\" stroke-opacity=\"1\" stroke-width=\"3.2\"/>\n",
       "<circle clip-path=\"url(#clip1602)\" cx=\"1701.24\" cy=\"444.202\" r=\"14\" fill=\"#e26f46\" fill-rule=\"evenodd\" fill-opacity=\"1\" stroke=\"#000000\" stroke-opacity=\"1\" stroke-width=\"3.2\"/>\n",
       "<circle clip-path=\"url(#clip1602)\" cx=\"1677.57\" cy=\"437.948\" r=\"14\" fill=\"#e26f46\" fill-rule=\"evenodd\" fill-opacity=\"1\" stroke=\"#000000\" stroke-opacity=\"1\" stroke-width=\"3.2\"/>\n",
       "<circle clip-path=\"url(#clip1602)\" cx=\"1724.04\" cy=\"455.4\" r=\"14\" fill=\"#e26f46\" fill-rule=\"evenodd\" fill-opacity=\"1\" stroke=\"#000000\" stroke-opacity=\"1\" stroke-width=\"3.2\"/>\n",
       "<circle clip-path=\"url(#clip1602)\" cx=\"1674.84\" cy=\"471.951\" r=\"14\" fill=\"#e26f46\" fill-rule=\"evenodd\" fill-opacity=\"1\" stroke=\"#000000\" stroke-opacity=\"1\" stroke-width=\"3.2\"/>\n",
       "<circle clip-path=\"url(#clip1602)\" cx=\"1658.32\" cy=\"441.894\" r=\"14\" fill=\"#e26f46\" fill-rule=\"evenodd\" fill-opacity=\"1\" stroke=\"#000000\" stroke-opacity=\"1\" stroke-width=\"3.2\"/>\n",
       "<circle clip-path=\"url(#clip1602)\" cx=\"1672.69\" cy=\"451.335\" r=\"14\" fill=\"#e26f46\" fill-rule=\"evenodd\" fill-opacity=\"1\" stroke=\"#000000\" stroke-opacity=\"1\" stroke-width=\"3.2\"/>\n",
       "<circle clip-path=\"url(#clip1602)\" cx=\"1720.36\" cy=\"442.053\" r=\"14\" fill=\"#e26f46\" fill-rule=\"evenodd\" fill-opacity=\"1\" stroke=\"#000000\" stroke-opacity=\"1\" stroke-width=\"3.2\"/>\n",
       "<circle clip-path=\"url(#clip1602)\" cx=\"1725.69\" cy=\"455.721\" r=\"14\" fill=\"#e26f46\" fill-rule=\"evenodd\" fill-opacity=\"1\" stroke=\"#000000\" stroke-opacity=\"1\" stroke-width=\"3.2\"/>\n",
       "<circle clip-path=\"url(#clip1602)\" cx=\"1677.57\" cy=\"437.948\" r=\"14\" fill=\"#e26f46\" fill-rule=\"evenodd\" fill-opacity=\"1\" stroke=\"#000000\" stroke-opacity=\"1\" stroke-width=\"3.2\"/>\n",
       "<circle clip-path=\"url(#clip1602)\" cx=\"1650.72\" cy=\"461.099\" r=\"14\" fill=\"#e26f46\" fill-rule=\"evenodd\" fill-opacity=\"1\" stroke=\"#000000\" stroke-opacity=\"1\" stroke-width=\"3.2\"/>\n",
       "<circle clip-path=\"url(#clip1602)\" cx=\"1658.31\" cy=\"483.094\" r=\"14\" fill=\"#e26f46\" fill-rule=\"evenodd\" fill-opacity=\"1\" stroke=\"#000000\" stroke-opacity=\"1\" stroke-width=\"3.2\"/>\n",
       "<circle clip-path=\"url(#clip1602)\" cx=\"1685.85\" cy=\"479.615\" r=\"14\" fill=\"#e26f46\" fill-rule=\"evenodd\" fill-opacity=\"1\" stroke=\"#000000\" stroke-opacity=\"1\" stroke-width=\"3.2\"/>\n",
       "<circle clip-path=\"url(#clip1602)\" cx=\"1702.76\" cy=\"459.285\" r=\"14\" fill=\"#e26f46\" fill-rule=\"evenodd\" fill-opacity=\"1\" stroke=\"#000000\" stroke-opacity=\"1\" stroke-width=\"3.2\"/>\n",
       "<circle clip-path=\"url(#clip1602)\" cx=\"1672.69\" cy=\"451.335\" r=\"14\" fill=\"#e26f46\" fill-rule=\"evenodd\" fill-opacity=\"1\" stroke=\"#000000\" stroke-opacity=\"1\" stroke-width=\"3.2\"/>\n",
       "<circle clip-path=\"url(#clip1602)\" cx=\"1714.71\" cy=\"477.848\" r=\"14\" fill=\"#e26f46\" fill-rule=\"evenodd\" fill-opacity=\"1\" stroke=\"#000000\" stroke-opacity=\"1\" stroke-width=\"3.2\"/>\n",
       "<circle clip-path=\"url(#clip1602)\" cx=\"1654.51\" cy=\"475.427\" r=\"14\" fill=\"#e26f46\" fill-rule=\"evenodd\" fill-opacity=\"1\" stroke=\"#000000\" stroke-opacity=\"1\" stroke-width=\"3.2\"/>\n",
       "<circle clip-path=\"url(#clip1602)\" cx=\"1674.8\" cy=\"434.433\" r=\"14\" fill=\"#e26f46\" fill-rule=\"evenodd\" fill-opacity=\"1\" stroke=\"#000000\" stroke-opacity=\"1\" stroke-width=\"3.2\"/>\n",
       "<circle clip-path=\"url(#clip1602)\" cx=\"1653.98\" cy=\"440.678\" r=\"14\" fill=\"#e26f46\" fill-rule=\"evenodd\" fill-opacity=\"1\" stroke=\"#000000\" stroke-opacity=\"1\" stroke-width=\"3.2\"/>\n",
       "<circle clip-path=\"url(#clip1602)\" cx=\"1690.89\" cy=\"443.151\" r=\"14\" fill=\"#e26f46\" fill-rule=\"evenodd\" fill-opacity=\"1\" stroke=\"#000000\" stroke-opacity=\"1\" stroke-width=\"3.2\"/>\n",
       "<circle clip-path=\"url(#clip1602)\" cx=\"1725.69\" cy=\"455.721\" r=\"14\" fill=\"#e26f46\" fill-rule=\"evenodd\" fill-opacity=\"1\" stroke=\"#000000\" stroke-opacity=\"1\" stroke-width=\"3.2\"/>\n",
       "<circle clip-path=\"url(#clip1602)\" cx=\"1650.72\" cy=\"461.099\" r=\"14\" fill=\"#e26f46\" fill-rule=\"evenodd\" fill-opacity=\"1\" stroke=\"#000000\" stroke-opacity=\"1\" stroke-width=\"3.2\"/>\n",
       "<circle clip-path=\"url(#clip1602)\" cx=\"1690.89\" cy=\"443.151\" r=\"14\" fill=\"#e26f46\" fill-rule=\"evenodd\" fill-opacity=\"1\" stroke=\"#000000\" stroke-opacity=\"1\" stroke-width=\"3.2\"/>\n",
       "<circle clip-path=\"url(#clip1602)\" cx=\"1667.59\" cy=\"461.381\" r=\"14\" fill=\"#e26f46\" fill-rule=\"evenodd\" fill-opacity=\"1\" stroke=\"#000000\" stroke-opacity=\"1\" stroke-width=\"3.2\"/>\n",
       "<circle clip-path=\"url(#clip1602)\" cx=\"1618.61\" cy=\"480.087\" r=\"14\" fill=\"#e26f46\" fill-rule=\"evenodd\" fill-opacity=\"1\" stroke=\"#000000\" stroke-opacity=\"1\" stroke-width=\"3.2\"/>\n",
       "<circle clip-path=\"url(#clip1602)\" cx=\"1674.09\" cy=\"495.374\" r=\"14\" fill=\"#e26f46\" fill-rule=\"evenodd\" fill-opacity=\"1\" stroke=\"#000000\" stroke-opacity=\"1\" stroke-width=\"3.2\"/>\n",
       "<circle clip-path=\"url(#clip1602)\" cx=\"1674.09\" cy=\"495.374\" r=\"14\" fill=\"#e26f46\" fill-rule=\"evenodd\" fill-opacity=\"1\" stroke=\"#000000\" stroke-opacity=\"1\" stroke-width=\"3.2\"/>\n",
       "<circle clip-path=\"url(#clip1602)\" cx=\"1653.98\" cy=\"440.678\" r=\"14\" fill=\"#e26f46\" fill-rule=\"evenodd\" fill-opacity=\"1\" stroke=\"#000000\" stroke-opacity=\"1\" stroke-width=\"3.2\"/>\n",
       "<circle clip-path=\"url(#clip1602)\" cx=\"1637.43\" cy=\"458.544\" r=\"14\" fill=\"#e26f46\" fill-rule=\"evenodd\" fill-opacity=\"1\" stroke=\"#000000\" stroke-opacity=\"1\" stroke-width=\"3.2\"/>\n",
       "<circle clip-path=\"url(#clip1602)\" cx=\"1651.63\" cy=\"468.742\" r=\"14\" fill=\"#e26f46\" fill-rule=\"evenodd\" fill-opacity=\"1\" stroke=\"#000000\" stroke-opacity=\"1\" stroke-width=\"3.2\"/>\n",
       "<circle clip-path=\"url(#clip1602)\" cx=\"1651.58\" cy=\"460.331\" r=\"14\" fill=\"#e26f46\" fill-rule=\"evenodd\" fill-opacity=\"1\" stroke=\"#000000\" stroke-opacity=\"1\" stroke-width=\"3.2\"/>\n",
       "<circle clip-path=\"url(#clip1602)\" cx=\"1651.58\" cy=\"460.331\" r=\"14\" fill=\"#e26f46\" fill-rule=\"evenodd\" fill-opacity=\"1\" stroke=\"#000000\" stroke-opacity=\"1\" stroke-width=\"3.2\"/>\n",
       "<circle clip-path=\"url(#clip1602)\" cx=\"1631.29\" cy=\"435.027\" r=\"14\" fill=\"#e26f46\" fill-rule=\"evenodd\" fill-opacity=\"1\" stroke=\"#000000\" stroke-opacity=\"1\" stroke-width=\"3.2\"/>\n",
       "<circle clip-path=\"url(#clip1602)\" cx=\"1691.41\" cy=\"496.078\" r=\"14\" fill=\"#e26f46\" fill-rule=\"evenodd\" fill-opacity=\"1\" stroke=\"#000000\" stroke-opacity=\"1\" stroke-width=\"3.2\"/>\n",
       "<circle clip-path=\"url(#clip1602)\" cx=\"1632.12\" cy=\"484.003\" r=\"14\" fill=\"#e26f46\" fill-rule=\"evenodd\" fill-opacity=\"1\" stroke=\"#000000\" stroke-opacity=\"1\" stroke-width=\"3.2\"/>\n",
       "<circle clip-path=\"url(#clip1602)\" cx=\"1675.41\" cy=\"495.028\" r=\"14\" fill=\"#e26f46\" fill-rule=\"evenodd\" fill-opacity=\"1\" stroke=\"#000000\" stroke-opacity=\"1\" stroke-width=\"3.2\"/>\n",
       "<circle clip-path=\"url(#clip1602)\" cx=\"1649.31\" cy=\"484.493\" r=\"14\" fill=\"#e26f46\" fill-rule=\"evenodd\" fill-opacity=\"1\" stroke=\"#000000\" stroke-opacity=\"1\" stroke-width=\"3.2\"/>\n",
       "<circle clip-path=\"url(#clip1602)\" cx=\"1632.19\" cy=\"442.67\" r=\"14\" fill=\"#e26f46\" fill-rule=\"evenodd\" fill-opacity=\"1\" stroke=\"#000000\" stroke-opacity=\"1\" stroke-width=\"3.2\"/>\n",
       "<circle clip-path=\"url(#clip1602)\" cx=\"1618.61\" cy=\"480.087\" r=\"14\" fill=\"#e26f46\" fill-rule=\"evenodd\" fill-opacity=\"1\" stroke=\"#000000\" stroke-opacity=\"1\" stroke-width=\"3.2\"/>\n",
       "<circle clip-path=\"url(#clip1602)\" cx=\"1618.61\" cy=\"480.087\" r=\"14\" fill=\"#e26f46\" fill-rule=\"evenodd\" fill-opacity=\"1\" stroke=\"#000000\" stroke-opacity=\"1\" stroke-width=\"3.2\"/>\n",
       "<circle clip-path=\"url(#clip1602)\" cx=\"1618.61\" cy=\"480.087\" r=\"14\" fill=\"#e26f46\" fill-rule=\"evenodd\" fill-opacity=\"1\" stroke=\"#000000\" stroke-opacity=\"1\" stroke-width=\"3.2\"/>\n",
       "<circle clip-path=\"url(#clip1602)\" cx=\"1632.12\" cy=\"484.003\" r=\"14\" fill=\"#e26f46\" fill-rule=\"evenodd\" fill-opacity=\"1\" stroke=\"#000000\" stroke-opacity=\"1\" stroke-width=\"3.2\"/>\n",
       "<circle clip-path=\"url(#clip1602)\" cx=\"1618.61\" cy=\"480.087\" r=\"14\" fill=\"#e26f46\" fill-rule=\"evenodd\" fill-opacity=\"1\" stroke=\"#000000\" stroke-opacity=\"1\" stroke-width=\"3.2\"/>\n",
       "<circle clip-path=\"url(#clip1602)\" cx=\"1618.61\" cy=\"480.087\" r=\"14\" fill=\"#e26f46\" fill-rule=\"evenodd\" fill-opacity=\"1\" stroke=\"#000000\" stroke-opacity=\"1\" stroke-width=\"3.2\"/>\n",
       "<circle clip-path=\"url(#clip1602)\" cx=\"1618.61\" cy=\"480.087\" r=\"14\" fill=\"#e26f46\" fill-rule=\"evenodd\" fill-opacity=\"1\" stroke=\"#000000\" stroke-opacity=\"1\" stroke-width=\"3.2\"/>\n",
       "<circle clip-path=\"url(#clip1602)\" cx=\"1618.61\" cy=\"480.087\" r=\"14\" fill=\"#e26f46\" fill-rule=\"evenodd\" fill-opacity=\"1\" stroke=\"#000000\" stroke-opacity=\"1\" stroke-width=\"3.2\"/>\n",
       "<circle clip-path=\"url(#clip1602)\" cx=\"1618.61\" cy=\"480.087\" r=\"14\" fill=\"#e26f46\" fill-rule=\"evenodd\" fill-opacity=\"1\" stroke=\"#000000\" stroke-opacity=\"1\" stroke-width=\"3.2\"/>\n",
       "<circle clip-path=\"url(#clip1602)\" cx=\"1618.61\" cy=\"480.087\" r=\"14\" fill=\"#e26f46\" fill-rule=\"evenodd\" fill-opacity=\"1\" stroke=\"#000000\" stroke-opacity=\"1\" stroke-width=\"3.2\"/>\n",
       "<circle clip-path=\"url(#clip1602)\" cx=\"1618.61\" cy=\"480.087\" r=\"14\" fill=\"#e26f46\" fill-rule=\"evenodd\" fill-opacity=\"1\" stroke=\"#000000\" stroke-opacity=\"1\" stroke-width=\"3.2\"/>\n",
       "<circle clip-path=\"url(#clip1602)\" cx=\"1618.61\" cy=\"480.087\" r=\"14\" fill=\"#e26f46\" fill-rule=\"evenodd\" fill-opacity=\"1\" stroke=\"#000000\" stroke-opacity=\"1\" stroke-width=\"3.2\"/>\n",
       "<circle clip-path=\"url(#clip1602)\" cx=\"1725.69\" cy=\"455.721\" r=\"14\" fill=\"#e26f46\" fill-rule=\"evenodd\" fill-opacity=\"1\" stroke=\"#000000\" stroke-opacity=\"1\" stroke-width=\"3.2\"/>\n",
       "<circle clip-path=\"url(#clip1602)\" cx=\"1649.87\" cy=\"507.569\" r=\"14\" fill=\"#e26f46\" fill-rule=\"evenodd\" fill-opacity=\"1\" stroke=\"#000000\" stroke-opacity=\"1\" stroke-width=\"3.2\"/>\n",
       "<circle clip-path=\"url(#clip1602)\" cx=\"1649.31\" cy=\"484.493\" r=\"14\" fill=\"#e26f46\" fill-rule=\"evenodd\" fill-opacity=\"1\" stroke=\"#000000\" stroke-opacity=\"1\" stroke-width=\"3.2\"/>\n",
       "<circle clip-path=\"url(#clip1602)\" cx=\"1701.24\" cy=\"444.202\" r=\"14\" fill=\"#e26f46\" fill-rule=\"evenodd\" fill-opacity=\"1\" stroke=\"#000000\" stroke-opacity=\"1\" stroke-width=\"3.2\"/>\n",
       "<circle clip-path=\"url(#clip1602)\" cx=\"1649.31\" cy=\"484.493\" r=\"14\" fill=\"#e26f46\" fill-rule=\"evenodd\" fill-opacity=\"1\" stroke=\"#000000\" stroke-opacity=\"1\" stroke-width=\"3.2\"/>\n",
       "<circle clip-path=\"url(#clip1602)\" cx=\"1653.98\" cy=\"440.678\" r=\"14\" fill=\"#e26f46\" fill-rule=\"evenodd\" fill-opacity=\"1\" stroke=\"#000000\" stroke-opacity=\"1\" stroke-width=\"3.2\"/>\n",
       "<circle clip-path=\"url(#clip1602)\" cx=\"1658.32\" cy=\"441.894\" r=\"14\" fill=\"#e26f46\" fill-rule=\"evenodd\" fill-opacity=\"1\" stroke=\"#000000\" stroke-opacity=\"1\" stroke-width=\"3.2\"/>\n",
       "<circle clip-path=\"url(#clip1602)\" cx=\"1726.65\" cy=\"472.931\" r=\"14\" fill=\"#e26f46\" fill-rule=\"evenodd\" fill-opacity=\"1\" stroke=\"#000000\" stroke-opacity=\"1\" stroke-width=\"3.2\"/>\n",
       "<circle clip-path=\"url(#clip1602)\" cx=\"1646.48\" cy=\"470.377\" r=\"14\" fill=\"#e26f46\" fill-rule=\"evenodd\" fill-opacity=\"1\" stroke=\"#000000\" stroke-opacity=\"1\" stroke-width=\"3.2\"/>\n",
       "<circle clip-path=\"url(#clip1602)\" cx=\"1726.65\" cy=\"472.931\" r=\"14\" fill=\"#e26f46\" fill-rule=\"evenodd\" fill-opacity=\"1\" stroke=\"#000000\" stroke-opacity=\"1\" stroke-width=\"3.2\"/>\n",
       "<circle clip-path=\"url(#clip1602)\" cx=\"1716.41\" cy=\"477.434\" r=\"14\" fill=\"#e26f46\" fill-rule=\"evenodd\" fill-opacity=\"1\" stroke=\"#000000\" stroke-opacity=\"1\" stroke-width=\"3.2\"/>\n",
       "<circle clip-path=\"url(#clip1602)\" cx=\"1637.43\" cy=\"458.544\" r=\"14\" fill=\"#e26f46\" fill-rule=\"evenodd\" fill-opacity=\"1\" stroke=\"#000000\" stroke-opacity=\"1\" stroke-width=\"3.2\"/>\n",
       "<circle clip-path=\"url(#clip1602)\" cx=\"1674.8\" cy=\"434.433\" r=\"14\" fill=\"#e26f46\" fill-rule=\"evenodd\" fill-opacity=\"1\" stroke=\"#000000\" stroke-opacity=\"1\" stroke-width=\"3.2\"/>\n",
       "<circle clip-path=\"url(#clip1602)\" cx=\"1654.51\" cy=\"475.427\" r=\"14\" fill=\"#e26f46\" fill-rule=\"evenodd\" fill-opacity=\"1\" stroke=\"#000000\" stroke-opacity=\"1\" stroke-width=\"3.2\"/>\n",
       "<circle clip-path=\"url(#clip1602)\" cx=\"1654.51\" cy=\"475.427\" r=\"14\" fill=\"#e26f46\" fill-rule=\"evenodd\" fill-opacity=\"1\" stroke=\"#000000\" stroke-opacity=\"1\" stroke-width=\"3.2\"/>\n",
       "<circle clip-path=\"url(#clip1602)\" cx=\"1674.8\" cy=\"434.433\" r=\"14\" fill=\"#e26f46\" fill-rule=\"evenodd\" fill-opacity=\"1\" stroke=\"#000000\" stroke-opacity=\"1\" stroke-width=\"3.2\"/>\n",
       "<circle clip-path=\"url(#clip1602)\" cx=\"1664.88\" cy=\"489.78\" r=\"14\" fill=\"#e26f46\" fill-rule=\"evenodd\" fill-opacity=\"1\" stroke=\"#000000\" stroke-opacity=\"1\" stroke-width=\"3.2\"/>\n",
       "<circle clip-path=\"url(#clip1602)\" cx=\"1677.57\" cy=\"437.948\" r=\"14\" fill=\"#e26f46\" fill-rule=\"evenodd\" fill-opacity=\"1\" stroke=\"#000000\" stroke-opacity=\"1\" stroke-width=\"3.2\"/>\n",
       "<circle clip-path=\"url(#clip1602)\" cx=\"1670.31\" cy=\"505.074\" r=\"14\" fill=\"#e26f46\" fill-rule=\"evenodd\" fill-opacity=\"1\" stroke=\"#000000\" stroke-opacity=\"1\" stroke-width=\"3.2\"/>\n",
       "<circle clip-path=\"url(#clip1602)\" cx=\"1670.31\" cy=\"505.074\" r=\"14\" fill=\"#e26f46\" fill-rule=\"evenodd\" fill-opacity=\"1\" stroke=\"#000000\" stroke-opacity=\"1\" stroke-width=\"3.2\"/>\n",
       "<circle clip-path=\"url(#clip1602)\" cx=\"1670.31\" cy=\"505.074\" r=\"14\" fill=\"#e26f46\" fill-rule=\"evenodd\" fill-opacity=\"1\" stroke=\"#000000\" stroke-opacity=\"1\" stroke-width=\"3.2\"/>\n",
       "<circle clip-path=\"url(#clip1602)\" cx=\"1677.57\" cy=\"437.948\" r=\"14\" fill=\"#e26f46\" fill-rule=\"evenodd\" fill-opacity=\"1\" stroke=\"#000000\" stroke-opacity=\"1\" stroke-width=\"3.2\"/>\n",
       "<circle clip-path=\"url(#clip1602)\" cx=\"1651.58\" cy=\"460.331\" r=\"14\" fill=\"#e26f46\" fill-rule=\"evenodd\" fill-opacity=\"1\" stroke=\"#000000\" stroke-opacity=\"1\" stroke-width=\"3.2\"/>\n",
       "<circle clip-path=\"url(#clip1602)\" cx=\"1667.59\" cy=\"461.381\" r=\"14\" fill=\"#e26f46\" fill-rule=\"evenodd\" fill-opacity=\"1\" stroke=\"#000000\" stroke-opacity=\"1\" stroke-width=\"3.2\"/>\n",
       "<circle clip-path=\"url(#clip1602)\" cx=\"1690.56\" cy=\"442.485\" r=\"14\" fill=\"#e26f46\" fill-rule=\"evenodd\" fill-opacity=\"1\" stroke=\"#000000\" stroke-opacity=\"1\" stroke-width=\"3.2\"/>\n",
       "<circle clip-path=\"url(#clip1602)\" cx=\"1632.19\" cy=\"442.67\" r=\"14\" fill=\"#e26f46\" fill-rule=\"evenodd\" fill-opacity=\"1\" stroke=\"#000000\" stroke-opacity=\"1\" stroke-width=\"3.2\"/>\n",
       "<circle clip-path=\"url(#clip1602)\" cx=\"1631.29\" cy=\"435.027\" r=\"14\" fill=\"#e26f46\" fill-rule=\"evenodd\" fill-opacity=\"1\" stroke=\"#000000\" stroke-opacity=\"1\" stroke-width=\"3.2\"/>\n",
       "<circle clip-path=\"url(#clip1602)\" cx=\"1664.79\" cy=\"428.682\" r=\"14\" fill=\"#e26f46\" fill-rule=\"evenodd\" fill-opacity=\"1\" stroke=\"#000000\" stroke-opacity=\"1\" stroke-width=\"3.2\"/>\n",
       "<circle clip-path=\"url(#clip1602)\" cx=\"1685.85\" cy=\"479.615\" r=\"14\" fill=\"#e26f46\" fill-rule=\"evenodd\" fill-opacity=\"1\" stroke=\"#000000\" stroke-opacity=\"1\" stroke-width=\"3.2\"/>\n",
       "</svg>\n"
      ]
     },
     "metadata": {},
     "output_type": "display_data"
    }
   ],
   "source": [
    "function plot_pop(P)\n",
    "    scatter([i.y[1] for i in P], [i.y[2] for i in P], xlims=(0.0, 1.0), ylims=(0.0, 1.0), legend=:none)\n",
    "    ND = filter(indiv -> indiv.rank == 1, P)\n",
    "    scatter!([i.y[1] for i in ND], [i.y[2] for i in ND], legend=:none)\n",
    "end\n",
    "\n",
    "nsga_max(popsize, nbgen, objective, init, fCV=constraint, fplot=plot_pop, plotevery=1, showprogress=false);"
   ]
  },
  {
   "cell_type": "markdown",
   "metadata": {
    "slideshow": {
     "slide_type": "slide"
    }
   },
   "source": [
    "This type of visualization, plotting one objective function as X and another as Y, allows us to see the Pareto front for 2 dimensions easily. However, once we increase the number of objectives, this plot is much less useful as we'll always be constrained to looking at 2 dimensions, or at best 3."
   ]
  },
  {
   "cell_type": "markdown",
   "metadata": {
    "slideshow": {
     "slide_type": "fragment"
    }
   },
   "source": [
    "<div class=\"alert alert-success\">\n",
    "    <b>Exercise 3</b>\n",
    "    <br/>\n",
    "    Change the number of objectives to 3. Then use a <tt>scatter3d</tt> plot instead of a <tt>scatter</tt> plot to plot the evolution over 3 objectives.\n",
    "    <br/>\n",
    "    <ul>\n",
    "        <li>Can you still observe the Pareto front?</li>\n",
    "        <li>Can you identify non-dominated individuals easily</li>\n",
    "        <li>Do you see the performance for each objective</li>\n",
    "    </ul>\n",
    "    <br/>\n",
    "</div>"
   ]
  },
  {
   "cell_type": "code",
   "execution_count": 159,
   "metadata": {},
   "outputs": [
    {
     "name": "stdout",
     "output_type": "stream",
     "text": [
      "NSGA-II : indiv([011111101111101...111101001101100] : (0.7517476724562075, 0.6968866452458776, 0.6541135708003003) | rank : 1)\n",
      "JuMP: 0.6416321194030771 0.8097574470030912 0.6258443358155914\n"
     ]
    },
    {
     "data": {
      "text/plain": [
       "73-element Array{Array{Float64,1},1}:\n",
       " [0.7517476724562075, 0.6968866452458776, 0.6541135708003003]\n",
       " [0.6863030318037943, 0.7409638217382101, 0.68779471792793]\n",
       " [0.7494887683180662, 0.7016575448068353, 0.6513250767820575]\n",
       " [0.6912698572318313, 0.7422705575669705, 0.6759878916727227]\n",
       " [0.7455346198641238, 0.6867457775284508, 0.6698616682118199]\n",
       " [0.7134586196850833, 0.7069463127802825, 0.7188769283771332]\n",
       " [0.7307362599781595, 0.6960363178656747, 0.702525897443864]\n",
       " [0.7348757980439021, 0.7207960245096091, 0.6586592997723184]\n",
       " [0.7045132115564524, 0.7222645507890589, 0.7076459178412542]\n",
       " [0.7412957128334574, 0.7179777956508561, 0.6675405450556826]\n",
       " [0.7216564973563295, 0.7212413728051866, 0.6952694490964468]\n",
       " [0.7349248225530813, 0.7038496164993787, 0.6940292200500617]\n",
       " [0.6957701505636826, 0.7373583182688416, 0.6909120718260604]\n",
       " ⋮\n",
       " [0.7176471822600052, 0.7147596114139866, 0.710380250983331]\n",
       " [0.7130043882752038, 0.7296862428891194, 0.6769558454291271]\n",
       " [0.7209342474556686, 0.7250968920276902, 0.6863195846092249]\n",
       " [0.7004272307364858, 0.7287609141020489, 0.6920566496380689]\n",
       " [0.7361610445448744, 0.7102011468490915, 0.6871680931010142]\n",
       " [0.7249084744502406, 0.7037073366484318, 0.7076294217873176]\n",
       " [0.7135099209042273, 0.7284090484635691, 0.6878749394458958]\n",
       " [0.7084724848080929, 0.7356916880895431, 0.6853596316187653]\n",
       " [0.7305262747157546, 0.7151118506365141, 0.6858213627902598]\n",
       " [0.7097940472884103, 0.7206082125456817, 0.7018398915091166]\n",
       " [0.7250541848641886, 0.7188698881887424, 0.6998730347474407]\n",
       " [0.7244109632834889, 0.6990979747315796, 0.7100180016515256]"
      ]
     },
     "execution_count": 159,
     "metadata": {},
     "output_type": "execute_result"
    }
   ],
   "source": [
    "n = 100 #nb items\n",
    "n_objectives = 3\n",
    "values = rand(n, n_objectives)\n",
    "\n",
    "values = values ./ sum(values, dims=1);\n",
    "sum(values, dims=1)\n",
    "\n",
    "weights = rand(n)\n",
    "weights = weights ./ sum(weights)\n",
    "max_weight = 0.5\n",
    "\n",
    "popsize = 100\n",
    "nbgen = 100\n",
    "init() = bitrand(n)\n",
    "non_dominated =  nsga_max(popsize, nbgen, objective, init, fCV=constraint)\n",
    "println(\"NSGA-II : \",non_dominated[1])\n",
    "\n",
    "#println(\"Ensemble non dominated : \", unique([collect(i.y) for i in non_dominated]))\n",
    "\n",
    "m = Model(GLPK.Optimizer)\n",
    "@variable(m, x[1:n], Bin)\n",
    "@objective(m, Max, dot(values[:, 1], x))\n",
    "@objective(m, Max, dot(values[:, 2], x))\n",
    "@constraint(m, dot(weights, x) <= max_weight)\n",
    "JuMP.optimize!(m)\n",
    "best_solution = [JuMP.value(x[i]) for i in 1:n]\n",
    "println(\"JuMP: \", dot(values[:, 1], best_solution), \" \", dot(values[:, 2], best_solution),\" \",dot(values[:, 3], best_solution))\n",
    "unique([collect(i.y) for i in non_dominated])"
   ]
  },
  {
   "cell_type": "code",
   "execution_count": 148,
   "metadata": {},
   "outputs": [
    {
     "data": {
      "image/svg+xml": [
       "<?xml version=\"1.0\" encoding=\"utf-8\"?>\n",
       "<svg xmlns=\"http://www.w3.org/2000/svg\" xmlns:xlink=\"http://www.w3.org/1999/xlink\" width=\"600\" height=\"400\" viewBox=\"0 0 2400 1600\">\n",
       "<defs>\n",
       "  <clipPath id=\"clip4800\">\n",
       "    <rect x=\"0\" y=\"0\" width=\"2400\" height=\"1600\"/>\n",
       "  </clipPath>\n",
       "</defs>\n",
       "<path clip-path=\"url(#clip4800)\" d=\"\n",
       "M0 1600 L2400 1600 L2400 0 L0 0  Z\n",
       "  \" fill=\"#ffffff\" fill-rule=\"evenodd\" fill-opacity=\"1\"/>\n",
       "<defs>\n",
       "  <clipPath id=\"clip4801\">\n",
       "    <rect x=\"480\" y=\"0\" width=\"1681\" height=\"1600\"/>\n",
       "  </clipPath>\n",
       "</defs>\n",
       "<defs>\n",
       "  <clipPath id=\"clip4802\">\n",
       "    <rect x=\"175\" y=\"47\" width=\"2179\" height=\"1440\"/>\n",
       "  </clipPath>\n",
       "</defs>\n",
       "<path clip-path=\"url(#clip4802)\" d=\"\n",
       "M175.186 1401.43 L175.186 302.298 L972.232 47.2441 L2352.76 132.262 L2352.76 1231.39 L1555.71 1486.45 L175.186 1401.43  Z\n",
       "  \" fill=\"#ffffff\" fill-rule=\"evenodd\" fill-opacity=\"1\"/>\n",
       "<polyline clip-path=\"url(#clip4802)\" style=\"stroke:#000000; stroke-width:2; stroke-opacity:0.1; fill:none\" points=\"\n",
       "  396.887,1415.08 1193.93,1160.03 \n",
       "  \"/>\n",
       "<polyline clip-path=\"url(#clip4802)\" style=\"stroke:#000000; stroke-width:2; stroke-opacity:0.1; fill:none\" points=\"\n",
       "  1193.93,1160.03 1193.93,60.8973 \n",
       "  \"/>\n",
       "<polyline clip-path=\"url(#clip4802)\" style=\"stroke:#000000; stroke-width:2; stroke-opacity:0.1; fill:none\" points=\"\n",
       "  628.135,1429.32 1425.18,1174.27 \n",
       "  \"/>\n",
       "<polyline clip-path=\"url(#clip4802)\" style=\"stroke:#000000; stroke-width:2; stroke-opacity:0.1; fill:none\" points=\"\n",
       "  1425.18,1174.27 1425.18,75.1385 \n",
       "  \"/>\n",
       "<polyline clip-path=\"url(#clip4802)\" style=\"stroke:#000000; stroke-width:2; stroke-opacity:0.1; fill:none\" points=\"\n",
       "  859.384,1443.57 1656.43,1188.51 \n",
       "  \"/>\n",
       "<polyline clip-path=\"url(#clip4802)\" style=\"stroke:#000000; stroke-width:2; stroke-opacity:0.1; fill:none\" points=\"\n",
       "  1656.43,1188.51 1656.43,89.3797 \n",
       "  \"/>\n",
       "<polyline clip-path=\"url(#clip4802)\" style=\"stroke:#000000; stroke-width:2; stroke-opacity:0.1; fill:none\" points=\"\n",
       "  1090.63,1457.81 1887.68,1202.75 \n",
       "  \"/>\n",
       "<polyline clip-path=\"url(#clip4802)\" style=\"stroke:#000000; stroke-width:2; stroke-opacity:0.1; fill:none\" points=\"\n",
       "  1887.68,1202.75 1887.68,103.621 \n",
       "  \"/>\n",
       "<polyline clip-path=\"url(#clip4802)\" style=\"stroke:#000000; stroke-width:2; stroke-opacity:0.1; fill:none\" points=\"\n",
       "  1321.88,1472.05 2118.93,1216.99 \n",
       "  \"/>\n",
       "<polyline clip-path=\"url(#clip4802)\" style=\"stroke:#000000; stroke-width:2; stroke-opacity:0.1; fill:none\" points=\"\n",
       "  2118.93,1216.99 2118.93,117.862 \n",
       "  \"/>\n",
       "<polyline clip-path=\"url(#clip4802)\" style=\"stroke:#000000; stroke-width:2; stroke-opacity:0.1; fill:none\" points=\"\n",
       "  1553.13,1486.29 2350.17,1231.23 \n",
       "  \"/>\n",
       "<polyline clip-path=\"url(#clip4802)\" style=\"stroke:#000000; stroke-width:2; stroke-opacity:0.1; fill:none\" points=\"\n",
       "  2350.17,1231.23 2350.17,132.103 \n",
       "  \"/>\n",
       "<polyline clip-path=\"url(#clip4802)\" style=\"stroke:#000000; stroke-width:2; stroke-opacity:0.1; fill:none\" points=\"\n",
       "  1647.93,1456.94 267.402,1371.92 \n",
       "  \"/>\n",
       "<polyline clip-path=\"url(#clip4802)\" style=\"stroke:#000000; stroke-width:2; stroke-opacity:0.1; fill:none\" points=\"\n",
       "  267.402,1371.92 267.402,272.789 \n",
       "  \"/>\n",
       "<polyline clip-path=\"url(#clip4802)\" style=\"stroke:#000000; stroke-width:2; stroke-opacity:0.1; fill:none\" points=\"\n",
       "  1839.76,1395.55 459.236,1310.53 \n",
       "  \"/>\n",
       "<polyline clip-path=\"url(#clip4802)\" style=\"stroke:#000000; stroke-width:2; stroke-opacity:0.1; fill:none\" points=\"\n",
       "  459.236,1310.53 459.236,211.403 \n",
       "  \"/>\n",
       "<polyline clip-path=\"url(#clip4802)\" style=\"stroke:#000000; stroke-width:2; stroke-opacity:0.1; fill:none\" points=\"\n",
       "  2031.59,1334.17 651.069,1249.15 \n",
       "  \"/>\n",
       "<polyline clip-path=\"url(#clip4802)\" style=\"stroke:#000000; stroke-width:2; stroke-opacity:0.1; fill:none\" points=\"\n",
       "  651.069,1249.15 651.069,150.016 \n",
       "  \"/>\n",
       "<polyline clip-path=\"url(#clip4802)\" style=\"stroke:#000000; stroke-width:2; stroke-opacity:0.1; fill:none\" points=\"\n",
       "  2223.43,1272.78 842.903,1187.76 \n",
       "  \"/>\n",
       "<polyline clip-path=\"url(#clip4802)\" style=\"stroke:#000000; stroke-width:2; stroke-opacity:0.1; fill:none\" points=\"\n",
       "  842.903,1187.76 842.903,88.6294 \n",
       "  \"/>\n",
       "<polyline clip-path=\"url(#clip4802)\" style=\"stroke:#000000; stroke-width:2; stroke-opacity:0.1; fill:none\" points=\"\n",
       "  175.186,1242.72 972.232,987.663 \n",
       "  \"/>\n",
       "<polyline clip-path=\"url(#clip4802)\" style=\"stroke:#000000; stroke-width:2; stroke-opacity:0.1; fill:none\" points=\"\n",
       "  972.232,987.663 2352.76,1072.68 \n",
       "  \"/>\n",
       "<polyline clip-path=\"url(#clip4802)\" style=\"stroke:#000000; stroke-width:2; stroke-opacity:0.1; fill:none\" points=\"\n",
       "  175.186,999.325 972.232,744.271 \n",
       "  \"/>\n",
       "<polyline clip-path=\"url(#clip4802)\" style=\"stroke:#000000; stroke-width:2; stroke-opacity:0.1; fill:none\" points=\"\n",
       "  972.232,744.271 2352.76,829.289 \n",
       "  \"/>\n",
       "<polyline clip-path=\"url(#clip4802)\" style=\"stroke:#000000; stroke-width:2; stroke-opacity:0.1; fill:none\" points=\"\n",
       "  175.186,755.933 972.232,500.879 \n",
       "  \"/>\n",
       "<polyline clip-path=\"url(#clip4802)\" style=\"stroke:#000000; stroke-width:2; stroke-opacity:0.1; fill:none\" points=\"\n",
       "  972.232,500.879 2352.76,585.897 \n",
       "  \"/>\n",
       "<polyline clip-path=\"url(#clip4802)\" style=\"stroke:#000000; stroke-width:2; stroke-opacity:0.1; fill:none\" points=\"\n",
       "  175.186,512.541 972.232,257.486 \n",
       "  \"/>\n",
       "<polyline clip-path=\"url(#clip4802)\" style=\"stroke:#000000; stroke-width:2; stroke-opacity:0.1; fill:none\" points=\"\n",
       "  972.232,257.486 2352.76,342.504 \n",
       "  \"/>\n",
       "<polyline clip-path=\"url(#clip4800)\" style=\"stroke:#000000; stroke-width:4; stroke-opacity:1; fill:none\" points=\"\n",
       "  175.186,1401.43 1555.71,1486.45 \n",
       "  \"/>\n",
       "<polyline clip-path=\"url(#clip4800)\" style=\"stroke:#000000; stroke-width:4; stroke-opacity:1; fill:none\" points=\"\n",
       "  1555.71,1486.45 2352.76,1231.39 \n",
       "  \"/>\n",
       "<polyline clip-path=\"url(#clip4800)\" style=\"stroke:#000000; stroke-width:4; stroke-opacity:1; fill:none\" points=\"\n",
       "  175.186,1401.43 175.186,302.298 \n",
       "  \"/>\n",
       "<polyline clip-path=\"url(#clip4800)\" style=\"stroke:#000000; stroke-width:4; stroke-opacity:1; fill:none\" points=\"\n",
       "  396.887,1415.08 406.451,1412.02 \n",
       "  \"/>\n",
       "<polyline clip-path=\"url(#clip4800)\" style=\"stroke:#000000; stroke-width:4; stroke-opacity:1; fill:none\" points=\"\n",
       "  628.135,1429.32 637.7,1426.26 \n",
       "  \"/>\n",
       "<polyline clip-path=\"url(#clip4800)\" style=\"stroke:#000000; stroke-width:4; stroke-opacity:1; fill:none\" points=\"\n",
       "  859.384,1443.57 868.948,1440.5 \n",
       "  \"/>\n",
       "<polyline clip-path=\"url(#clip4800)\" style=\"stroke:#000000; stroke-width:4; stroke-opacity:1; fill:none\" points=\"\n",
       "  1090.63,1457.81 1100.2,1454.75 \n",
       "  \"/>\n",
       "<polyline clip-path=\"url(#clip4800)\" style=\"stroke:#000000; stroke-width:4; stroke-opacity:1; fill:none\" points=\"\n",
       "  1321.88,1472.05 1331.45,1468.99 \n",
       "  \"/>\n",
       "<polyline clip-path=\"url(#clip4800)\" style=\"stroke:#000000; stroke-width:4; stroke-opacity:1; fill:none\" points=\"\n",
       "  1553.13,1486.29 1562.69,1483.23 \n",
       "  \"/>\n",
       "<polyline clip-path=\"url(#clip4800)\" style=\"stroke:#000000; stroke-width:4; stroke-opacity:1; fill:none\" points=\"\n",
       "  1647.93,1456.94 1631.36,1455.92 \n",
       "  \"/>\n",
       "<polyline clip-path=\"url(#clip4800)\" style=\"stroke:#000000; stroke-width:4; stroke-opacity:1; fill:none\" points=\"\n",
       "  1839.76,1395.55 1823.19,1394.53 \n",
       "  \"/>\n",
       "<polyline clip-path=\"url(#clip4800)\" style=\"stroke:#000000; stroke-width:4; stroke-opacity:1; fill:none\" points=\"\n",
       "  2031.59,1334.17 2015.03,1333.15 \n",
       "  \"/>\n",
       "<polyline clip-path=\"url(#clip4800)\" style=\"stroke:#000000; stroke-width:4; stroke-opacity:1; fill:none\" points=\"\n",
       "  2223.43,1272.78 2206.86,1271.76 \n",
       "  \"/>\n",
       "<polyline clip-path=\"url(#clip4800)\" style=\"stroke:#000000; stroke-width:4; stroke-opacity:1; fill:none\" points=\"\n",
       "  175.186,1242.72 184.751,1239.66 \n",
       "  \"/>\n",
       "<polyline clip-path=\"url(#clip4800)\" style=\"stroke:#000000; stroke-width:4; stroke-opacity:1; fill:none\" points=\"\n",
       "  175.186,999.325 184.751,996.264 \n",
       "  \"/>\n",
       "<polyline clip-path=\"url(#clip4800)\" style=\"stroke:#000000; stroke-width:4; stroke-opacity:1; fill:none\" points=\"\n",
       "  175.186,755.933 184.751,752.872 \n",
       "  \"/>\n",
       "<polyline clip-path=\"url(#clip4800)\" style=\"stroke:#000000; stroke-width:4; stroke-opacity:1; fill:none\" points=\"\n",
       "  175.186,512.541 184.751,509.48 \n",
       "  \"/>\n",
       "<path clip-path=\"url(#clip4800)\" d=\"M 0 0 M340.908 1437.07 Q337.297 1437.07 335.468 1440.64 Q333.663 1444.18 333.663 1451.31 Q333.663 1458.42 335.468 1461.98 Q337.297 1465.52 340.908 1465.52 Q344.542 1465.52 346.348 1461.98 Q348.176 1458.42 348.176 1451.31 Q348.176 1444.18 346.348 1440.64 Q344.542 1437.07 340.908 1437.07 M340.908 1433.37 Q346.718 1433.37 349.774 1437.98 Q352.852 1442.56 352.852 1451.31 Q352.852 1460.04 349.774 1464.64 Q346.718 1469.23 340.908 1469.23 Q335.098 1469.23 332.019 1464.64 Q328.964 1460.04 328.964 1451.31 Q328.964 1442.56 332.019 1437.98 Q335.098 1433.37 340.908 1433.37 Z\" fill=\"#000000\" fill-rule=\"evenodd\" fill-opacity=\"1\" /><path clip-path=\"url(#clip4800)\" d=\"M 0 0 M357.922 1462.68 L362.806 1462.68 L362.806 1468.55 L357.922 1468.55 L357.922 1462.68 Z\" fill=\"#000000\" fill-rule=\"evenodd\" fill-opacity=\"1\" /><path clip-path=\"url(#clip4800)\" d=\"M 0 0 M378.454 1449.41 Q375.306 1449.41 373.454 1451.56 Q371.625 1453.72 371.625 1457.47 Q371.625 1461.19 373.454 1463.37 Q375.306 1465.52 378.454 1465.52 Q381.602 1465.52 383.431 1463.37 Q385.283 1461.19 385.283 1457.47 Q385.283 1453.72 383.431 1451.56 Q381.602 1449.41 378.454 1449.41 M387.736 1434.76 L387.736 1439.02 Q385.977 1438.18 384.172 1437.74 Q382.389 1437.31 380.63 1437.31 Q376 1437.31 373.547 1440.43 Q371.116 1443.56 370.769 1449.87 Q372.135 1447.86 374.195 1446.8 Q376.255 1445.71 378.732 1445.71 Q383.94 1445.71 386.949 1448.88 Q389.982 1452.03 389.982 1457.47 Q389.982 1462.79 386.834 1466.01 Q383.685 1469.23 378.454 1469.23 Q372.459 1469.23 369.287 1464.64 Q366.116 1460.04 366.116 1451.31 Q366.116 1443.12 370.005 1438.25 Q373.894 1433.37 380.445 1433.37 Q382.204 1433.37 383.986 1433.72 Q385.792 1434.06 387.736 1434.76 Z\" fill=\"#000000\" fill-rule=\"evenodd\" fill-opacity=\"1\" /><path clip-path=\"url(#clip4800)\" d=\"M 0 0 M395.19 1467.84 L395.19 1463.58 Q396.949 1464.41 398.755 1464.85 Q400.56 1465.29 402.296 1465.29 Q406.926 1465.29 409.357 1462.19 Q411.81 1459.06 412.158 1452.72 Q410.815 1454.71 408.755 1455.78 Q406.695 1456.84 404.195 1456.84 Q399.009 1456.84 395.977 1453.72 Q392.968 1450.57 392.968 1445.13 Q392.968 1439.81 396.116 1436.59 Q399.264 1433.37 404.496 1433.37 Q410.491 1433.37 413.639 1437.98 Q416.81 1442.56 416.81 1451.31 Q416.81 1459.48 412.921 1464.37 Q409.056 1469.23 402.505 1469.23 Q400.746 1469.23 398.94 1468.88 Q397.134 1468.53 395.19 1467.84 M404.496 1453.18 Q407.644 1453.18 409.472 1451.03 Q411.324 1448.88 411.324 1445.13 Q411.324 1441.4 409.472 1439.25 Q407.644 1437.07 404.496 1437.07 Q401.347 1437.07 399.496 1439.25 Q397.667 1441.4 397.667 1445.13 Q397.667 1448.88 399.496 1451.03 Q401.347 1453.18 404.496 1453.18 Z\" fill=\"#000000\" fill-rule=\"evenodd\" fill-opacity=\"1\" /><path clip-path=\"url(#clip4800)\" d=\"M 0 0 M572.596 1451.31 Q568.985 1451.31 567.156 1454.88 Q565.351 1458.42 565.351 1465.55 Q565.351 1472.66 567.156 1476.22 Q568.985 1479.76 572.596 1479.76 Q576.23 1479.76 578.036 1476.22 Q579.865 1472.66 579.865 1465.55 Q579.865 1458.42 578.036 1454.88 Q576.23 1451.31 572.596 1451.31 M572.596 1447.61 Q578.406 1447.61 581.462 1452.22 Q584.541 1456.8 584.541 1465.55 Q584.541 1474.28 581.462 1478.88 Q578.406 1483.47 572.596 1483.47 Q566.786 1483.47 563.707 1478.88 Q560.652 1474.28 560.652 1465.55 Q560.652 1456.8 563.707 1452.22 Q566.786 1447.61 572.596 1447.61 Z\" fill=\"#000000\" fill-rule=\"evenodd\" fill-opacity=\"1\" /><path clip-path=\"url(#clip4800)\" d=\"M 0 0 M589.61 1476.92 L594.494 1476.92 L594.494 1482.8 L589.61 1482.8 L589.61 1476.92 Z\" fill=\"#000000\" fill-rule=\"evenodd\" fill-opacity=\"1\" /><path clip-path=\"url(#clip4800)\" d=\"M 0 0 M598.383 1448.24 L620.605 1448.24 L620.605 1450.23 L608.059 1482.8 L603.175 1482.8 L614.98 1452.17 L598.383 1452.17 L598.383 1448.24 Z\" fill=\"#000000\" fill-rule=\"evenodd\" fill-opacity=\"1\" /><path clip-path=\"url(#clip4800)\" d=\"M 0 0 M635.675 1451.31 Q632.063 1451.31 630.235 1454.88 Q628.429 1458.42 628.429 1465.55 Q628.429 1472.66 630.235 1476.22 Q632.063 1479.76 635.675 1479.76 Q639.309 1479.76 641.114 1476.22 Q642.943 1472.66 642.943 1465.55 Q642.943 1458.42 641.114 1454.88 Q639.309 1451.31 635.675 1451.31 M635.675 1447.61 Q641.485 1447.61 644.54 1452.22 Q647.619 1456.8 647.619 1465.55 Q647.619 1474.28 644.54 1478.88 Q641.485 1483.47 635.675 1483.47 Q629.864 1483.47 626.786 1478.88 Q623.73 1474.28 623.73 1465.55 Q623.73 1456.8 626.786 1452.22 Q629.864 1447.61 635.675 1447.61 Z\" fill=\"#000000\" fill-rule=\"evenodd\" fill-opacity=\"1\" /><path clip-path=\"url(#clip4800)\" d=\"M 0 0 M804.458 1465.56 Q800.847 1465.56 799.018 1469.12 Q797.213 1472.66 797.213 1479.79 Q797.213 1486.9 799.018 1490.46 Q800.847 1494 804.458 1494 Q808.092 1494 809.898 1490.46 Q811.726 1486.9 811.726 1479.79 Q811.726 1472.66 809.898 1469.12 Q808.092 1465.56 804.458 1465.56 M804.458 1461.85 Q810.268 1461.85 813.324 1466.46 Q816.402 1471.04 816.402 1479.79 Q816.402 1488.52 813.324 1493.13 Q810.268 1497.71 804.458 1497.71 Q798.648 1497.71 795.569 1493.13 Q792.514 1488.52 792.514 1479.79 Q792.514 1471.04 795.569 1466.46 Q798.648 1461.85 804.458 1461.85 Z\" fill=\"#000000\" fill-rule=\"evenodd\" fill-opacity=\"1\" /><path clip-path=\"url(#clip4800)\" d=\"M 0 0 M821.472 1491.16 L826.356 1491.16 L826.356 1497.04 L821.472 1497.04 L821.472 1491.16 Z\" fill=\"#000000\" fill-rule=\"evenodd\" fill-opacity=\"1\" /><path clip-path=\"url(#clip4800)\" d=\"M 0 0 M830.245 1462.48 L852.467 1462.48 L852.467 1464.47 L839.921 1497.04 L835.037 1497.04 L846.842 1466.41 L830.245 1466.41 L830.245 1462.48 Z\" fill=\"#000000\" fill-rule=\"evenodd\" fill-opacity=\"1\" /><path clip-path=\"url(#clip4800)\" d=\"M 0 0 M858.347 1493.1 L865.985 1493.1 L865.985 1466.74 L857.675 1468.4 L857.675 1464.14 L865.939 1462.48 L870.615 1462.48 L870.615 1493.1 L878.254 1493.1 L878.254 1497.04 L858.347 1497.04 L858.347 1493.1 Z\" fill=\"#000000\" fill-rule=\"evenodd\" fill-opacity=\"1\" /><path clip-path=\"url(#clip4800)\" d=\"M 0 0 M1035.89 1479.8 Q1032.28 1479.8 1030.45 1483.36 Q1028.65 1486.9 1028.65 1494.03 Q1028.65 1501.14 1030.45 1504.7 Q1032.28 1508.25 1035.89 1508.25 Q1039.53 1508.25 1041.33 1504.7 Q1043.16 1501.14 1043.16 1494.03 Q1043.16 1486.9 1041.33 1483.36 Q1039.53 1479.8 1035.89 1479.8 M1035.89 1476.09 Q1041.7 1476.09 1044.76 1480.7 Q1047.84 1485.28 1047.84 1494.03 Q1047.84 1502.76 1044.76 1507.37 Q1041.7 1511.95 1035.89 1511.95 Q1030.08 1511.95 1027 1507.37 Q1023.95 1502.76 1023.95 1494.03 Q1023.95 1485.28 1027 1480.7 Q1030.08 1476.09 1035.89 1476.09 Z\" fill=\"#000000\" fill-rule=\"evenodd\" fill-opacity=\"1\" /><path clip-path=\"url(#clip4800)\" d=\"M 0 0 M1052.91 1505.4 L1057.79 1505.4 L1057.79 1511.28 L1052.91 1511.28 L1052.91 1505.4 Z\" fill=\"#000000\" fill-rule=\"evenodd\" fill-opacity=\"1\" /><path clip-path=\"url(#clip4800)\" d=\"M 0 0 M1061.68 1476.72 L1083.9 1476.72 L1083.9 1478.71 L1071.35 1511.28 L1066.47 1511.28 L1078.28 1480.65 L1061.68 1480.65 L1061.68 1476.72 Z\" fill=\"#000000\" fill-rule=\"evenodd\" fill-opacity=\"1\" /><path clip-path=\"url(#clip4800)\" d=\"M 0 0 M1093 1507.34 L1109.32 1507.34 L1109.32 1511.28 L1087.37 1511.28 L1087.37 1507.34 Q1090.03 1504.59 1094.62 1499.96 Q1099.22 1495.31 1100.41 1493.96 Q1102.65 1491.44 1103.53 1489.7 Q1104.43 1487.95 1104.43 1486.26 Q1104.43 1483.5 1102.49 1481.76 Q1100.57 1480.03 1097.47 1480.03 Q1095.27 1480.03 1092.81 1480.79 Q1090.38 1481.56 1087.6 1483.11 L1087.6 1478.39 Q1090.43 1477.25 1092.88 1476.67 Q1095.34 1476.09 1097.37 1476.09 Q1102.74 1476.09 1105.94 1478.78 Q1109.13 1481.46 1109.13 1485.95 Q1109.13 1488.08 1108.32 1490.01 Q1107.53 1491.9 1105.43 1494.5 Q1104.85 1495.17 1101.75 1498.39 Q1098.65 1501.58 1093 1507.34 Z\" fill=\"#000000\" fill-rule=\"evenodd\" fill-opacity=\"1\" /><path clip-path=\"url(#clip4800)\" d=\"M 0 0 M1266.67 1494.04 Q1263.05 1494.04 1261.23 1497.6 Q1259.42 1501.14 1259.42 1508.27 Q1259.42 1515.38 1261.23 1518.95 Q1263.05 1522.49 1266.67 1522.49 Q1270.3 1522.49 1272.11 1518.95 Q1273.93 1515.38 1273.93 1508.27 Q1273.93 1501.14 1272.11 1497.6 Q1270.3 1494.04 1266.67 1494.04 M1266.67 1490.33 Q1272.48 1490.33 1275.53 1494.94 Q1278.61 1499.52 1278.61 1508.27 Q1278.61 1517 1275.53 1521.61 Q1272.48 1526.19 1266.67 1526.19 Q1260.86 1526.19 1257.78 1521.61 Q1254.72 1517 1254.72 1508.27 Q1254.72 1499.52 1257.78 1494.94 Q1260.86 1490.33 1266.67 1490.33 Z\" fill=\"#000000\" fill-rule=\"evenodd\" fill-opacity=\"1\" /><path clip-path=\"url(#clip4800)\" d=\"M 0 0 M1283.68 1519.64 L1288.56 1519.64 L1288.56 1525.52 L1283.68 1525.52 L1283.68 1519.64 Z\" fill=\"#000000\" fill-rule=\"evenodd\" fill-opacity=\"1\" /><path clip-path=\"url(#clip4800)\" d=\"M 0 0 M1292.45 1490.96 L1314.67 1490.96 L1314.67 1492.95 L1302.13 1525.52 L1297.24 1525.52 L1309.05 1494.89 L1292.45 1494.89 L1292.45 1490.96 Z\" fill=\"#000000\" fill-rule=\"evenodd\" fill-opacity=\"1\" /><path clip-path=\"url(#clip4800)\" d=\"M 0 0 M1333.91 1506.89 Q1337.27 1507.6 1339.14 1509.87 Q1341.04 1512.14 1341.04 1515.47 Q1341.04 1520.59 1337.52 1523.39 Q1334 1526.19 1327.52 1526.19 Q1325.35 1526.19 1323.03 1525.75 Q1320.74 1525.33 1318.29 1524.48 L1318.29 1519.96 Q1320.23 1521.1 1322.54 1521.68 Q1324.86 1522.26 1327.38 1522.26 Q1331.78 1522.26 1334.07 1520.52 Q1336.39 1518.78 1336.39 1515.47 Q1336.39 1512.42 1334.23 1510.71 Q1332.11 1508.97 1328.29 1508.97 L1324.26 1508.97 L1324.26 1505.13 L1328.47 1505.13 Q1331.92 1505.13 1333.75 1503.76 Q1335.58 1502.37 1335.58 1499.78 Q1335.58 1497.12 1333.68 1495.71 Q1331.8 1494.27 1328.29 1494.27 Q1326.36 1494.27 1324.17 1494.69 Q1321.97 1495.1 1319.33 1495.98 L1319.33 1491.82 Q1321.99 1491.08 1324.3 1490.71 Q1326.64 1490.33 1328.7 1490.33 Q1334.03 1490.33 1337.13 1492.77 Q1340.23 1495.17 1340.23 1499.29 Q1340.23 1502.16 1338.59 1504.15 Q1336.94 1506.12 1333.91 1506.89 Z\" fill=\"#000000\" fill-rule=\"evenodd\" fill-opacity=\"1\" /><path clip-path=\"url(#clip4800)\" d=\"M 0 0 M1497.35 1508.28 Q1493.74 1508.28 1491.91 1511.84 Q1490.1 1515.39 1490.1 1522.52 Q1490.1 1529.62 1491.91 1533.19 Q1493.74 1536.73 1497.35 1536.73 Q1500.98 1536.73 1502.79 1533.19 Q1504.62 1529.62 1504.62 1522.52 Q1504.62 1515.39 1502.79 1511.84 Q1500.98 1508.28 1497.35 1508.28 M1497.35 1504.58 Q1503.16 1504.58 1506.21 1509.18 Q1509.29 1513.77 1509.29 1522.52 Q1509.29 1531.24 1506.21 1535.85 Q1503.16 1540.43 1497.35 1540.43 Q1491.54 1540.43 1488.46 1535.85 Q1485.4 1531.24 1485.4 1522.52 Q1485.4 1513.77 1488.46 1509.18 Q1491.54 1504.58 1497.35 1504.58 Z\" fill=\"#000000\" fill-rule=\"evenodd\" fill-opacity=\"1\" /><path clip-path=\"url(#clip4800)\" d=\"M 0 0 M1514.36 1533.88 L1519.24 1533.88 L1519.24 1539.76 L1514.36 1539.76 L1514.36 1533.88 Z\" fill=\"#000000\" fill-rule=\"evenodd\" fill-opacity=\"1\" /><path clip-path=\"url(#clip4800)\" d=\"M 0 0 M1523.13 1505.2 L1545.36 1505.2 L1545.36 1507.19 L1532.81 1539.76 L1527.93 1539.76 L1539.73 1509.14 L1523.13 1509.14 L1523.13 1505.2 Z\" fill=\"#000000\" fill-rule=\"evenodd\" fill-opacity=\"1\" /><path clip-path=\"url(#clip4800)\" d=\"M 0 0 M1563.27 1509.27 L1551.47 1527.72 L1563.27 1527.72 L1563.27 1509.27 M1562.05 1505.2 L1567.93 1505.2 L1567.93 1527.72 L1572.86 1527.72 L1572.86 1531.61 L1567.93 1531.61 L1567.93 1539.76 L1563.27 1539.76 L1563.27 1531.61 L1547.67 1531.61 L1547.67 1527.1 L1562.05 1505.2 Z\" fill=\"#000000\" fill-rule=\"evenodd\" fill-opacity=\"1\" /><path clip-path=\"url(#clip4800)\" d=\"M 0 0 M1639.9 1478.93 Q1636.29 1478.93 1634.46 1482.49 Q1632.66 1486.04 1632.66 1493.17 Q1632.66 1500.27 1634.46 1503.84 Q1636.29 1507.38 1639.9 1507.38 Q1643.54 1507.38 1645.34 1503.84 Q1647.17 1500.27 1647.17 1493.17 Q1647.17 1486.04 1645.34 1482.49 Q1643.54 1478.93 1639.9 1478.93 M1639.9 1475.23 Q1645.71 1475.23 1648.77 1479.83 Q1651.85 1484.42 1651.85 1493.17 Q1651.85 1501.89 1648.77 1506.5 Q1645.71 1511.08 1639.9 1511.08 Q1634.09 1511.08 1631.01 1506.5 Q1627.96 1501.89 1627.96 1493.17 Q1627.96 1484.42 1631.01 1479.83 Q1634.09 1475.23 1639.9 1475.23 Z\" fill=\"#000000\" fill-rule=\"evenodd\" fill-opacity=\"1\" /><path clip-path=\"url(#clip4800)\" d=\"M 0 0 M1656.91 1504.53 L1661.8 1504.53 L1661.8 1510.41 L1656.91 1510.41 L1656.91 1504.53 Z\" fill=\"#000000\" fill-rule=\"evenodd\" fill-opacity=\"1\" /><path clip-path=\"url(#clip4800)\" d=\"M 0 0 M1677.45 1491.27 Q1674.3 1491.27 1672.45 1493.42 Q1670.62 1495.57 1670.62 1499.32 Q1670.62 1503.05 1672.45 1505.23 Q1674.3 1507.38 1677.45 1507.38 Q1680.6 1507.38 1682.42 1505.23 Q1684.28 1503.05 1684.28 1499.32 Q1684.28 1495.57 1682.42 1493.42 Q1680.6 1491.27 1677.45 1491.27 M1686.73 1476.61 L1686.73 1480.87 Q1684.97 1480.04 1683.16 1479.6 Q1681.38 1479.16 1679.62 1479.16 Q1674.99 1479.16 1672.54 1482.29 Q1670.11 1485.41 1669.76 1491.73 Q1671.13 1489.72 1673.19 1488.65 Q1675.25 1487.56 1677.72 1487.56 Q1682.93 1487.56 1685.94 1490.73 Q1688.97 1493.88 1688.97 1499.32 Q1688.97 1504.65 1685.83 1507.86 Q1682.68 1511.08 1677.45 1511.08 Q1671.45 1511.08 1668.28 1506.5 Q1665.11 1501.89 1665.11 1493.17 Q1665.11 1484.97 1669 1480.11 Q1672.89 1475.23 1679.44 1475.23 Q1681.2 1475.23 1682.98 1475.57 Q1684.79 1475.92 1686.73 1476.61 Z\" fill=\"#000000\" fill-rule=\"evenodd\" fill-opacity=\"1\" /><path clip-path=\"url(#clip4800)\" d=\"M 0 0 M1704.04 1494 Q1700.71 1494 1698.79 1495.78 Q1696.89 1497.56 1696.89 1500.69 Q1696.89 1503.81 1698.79 1505.6 Q1700.71 1507.38 1704.04 1507.38 Q1707.38 1507.38 1709.3 1505.6 Q1711.22 1503.79 1711.22 1500.69 Q1711.22 1497.56 1709.3 1495.78 Q1707.4 1494 1704.04 1494 M1699.37 1492.01 Q1696.36 1491.27 1694.67 1489.21 Q1693 1487.15 1693 1484.18 Q1693 1480.04 1695.94 1477.63 Q1698.91 1475.23 1704.04 1475.23 Q1709.21 1475.23 1712.15 1477.63 Q1715.09 1480.04 1715.09 1484.18 Q1715.09 1487.15 1713.4 1489.21 Q1711.73 1491.27 1708.74 1492.01 Q1712.12 1492.8 1714 1495.09 Q1715.9 1497.38 1715.9 1500.69 Q1715.9 1505.71 1712.82 1508.4 Q1709.76 1511.08 1704.04 1511.08 Q1698.33 1511.08 1695.25 1508.4 Q1692.19 1505.71 1692.19 1500.69 Q1692.19 1497.38 1694.09 1495.09 Q1695.99 1492.8 1699.37 1492.01 M1697.66 1484.62 Q1697.66 1487.31 1699.32 1488.81 Q1701.01 1490.32 1704.04 1490.32 Q1707.05 1490.32 1708.74 1488.81 Q1710.46 1487.31 1710.46 1484.62 Q1710.46 1481.94 1708.74 1480.43 Q1707.05 1478.93 1704.04 1478.93 Q1701.01 1478.93 1699.32 1480.43 Q1697.66 1481.94 1697.66 1484.62 Z\" fill=\"#000000\" fill-rule=\"evenodd\" fill-opacity=\"1\" /><path clip-path=\"url(#clip4800)\" d=\"M 0 0 M1832.22 1417.54 Q1828.61 1417.54 1826.78 1421.11 Q1824.98 1424.65 1824.98 1431.78 Q1824.98 1438.89 1826.78 1442.45 Q1828.61 1445.99 1832.22 1445.99 Q1835.85 1445.99 1837.66 1442.45 Q1839.49 1438.89 1839.49 1431.78 Q1839.49 1424.65 1837.66 1421.11 Q1835.85 1417.54 1832.22 1417.54 M1832.22 1413.84 Q1838.03 1413.84 1841.09 1418.45 Q1844.17 1423.03 1844.17 1431.78 Q1844.17 1440.51 1841.09 1445.11 Q1838.03 1449.7 1832.22 1449.7 Q1826.41 1449.7 1823.33 1445.11 Q1820.28 1440.51 1820.28 1431.78 Q1820.28 1423.03 1823.33 1418.45 Q1826.41 1413.84 1832.22 1413.84 Z\" fill=\"#000000\" fill-rule=\"evenodd\" fill-opacity=\"1\" /><path clip-path=\"url(#clip4800)\" d=\"M 0 0 M1849.23 1443.14 L1854.12 1443.14 L1854.12 1449.02 L1849.23 1449.02 L1849.23 1443.14 Z\" fill=\"#000000\" fill-rule=\"evenodd\" fill-opacity=\"1\" /><path clip-path=\"url(#clip4800)\" d=\"M 0 0 M1858.01 1414.46 L1880.23 1414.46 L1880.23 1416.45 L1867.68 1449.02 L1862.8 1449.02 L1874.6 1418.4 L1858.01 1418.4 L1858.01 1414.46 Z\" fill=\"#000000\" fill-rule=\"evenodd\" fill-opacity=\"1\" /><path clip-path=\"url(#clip4800)\" d=\"M 0 0 M1895.3 1417.54 Q1891.69 1417.54 1889.86 1421.11 Q1888.05 1424.65 1888.05 1431.78 Q1888.05 1438.89 1889.86 1442.45 Q1891.69 1445.99 1895.3 1445.99 Q1898.93 1445.99 1900.74 1442.45 Q1902.57 1438.89 1902.57 1431.78 Q1902.57 1424.65 1900.74 1421.11 Q1898.93 1417.54 1895.3 1417.54 M1895.3 1413.84 Q1901.11 1413.84 1904.16 1418.45 Q1907.24 1423.03 1907.24 1431.78 Q1907.24 1440.51 1904.16 1445.11 Q1901.11 1449.7 1895.3 1449.7 Q1889.49 1449.7 1886.41 1445.11 Q1883.35 1440.51 1883.35 1431.78 Q1883.35 1423.03 1886.41 1418.45 Q1889.49 1413.84 1895.3 1413.84 Z\" fill=\"#000000\" fill-rule=\"evenodd\" fill-opacity=\"1\" /><path clip-path=\"url(#clip4800)\" d=\"M 0 0 M2024.85 1356.16 Q2021.24 1356.16 2019.41 1359.72 Q2017.61 1363.26 2017.61 1370.39 Q2017.61 1377.5 2019.41 1381.06 Q2021.24 1384.61 2024.85 1384.61 Q2028.49 1384.61 2030.29 1381.06 Q2032.12 1377.5 2032.12 1370.39 Q2032.12 1363.26 2030.29 1359.72 Q2028.49 1356.16 2024.85 1356.16 M2024.85 1352.45 Q2030.66 1352.45 2033.72 1357.06 Q2036.8 1361.64 2036.8 1370.39 Q2036.8 1379.12 2033.72 1383.73 Q2030.66 1388.31 2024.85 1388.31 Q2019.04 1388.31 2015.96 1383.73 Q2012.91 1379.12 2012.91 1370.39 Q2012.91 1361.64 2015.96 1357.06 Q2019.04 1352.45 2024.85 1352.45 Z\" fill=\"#000000\" fill-rule=\"evenodd\" fill-opacity=\"1\" /><path clip-path=\"url(#clip4800)\" d=\"M 0 0 M2041.87 1381.76 L2046.75 1381.76 L2046.75 1387.64 L2041.87 1387.64 L2041.87 1381.76 Z\" fill=\"#000000\" fill-rule=\"evenodd\" fill-opacity=\"1\" /><path clip-path=\"url(#clip4800)\" d=\"M 0 0 M2050.64 1353.08 L2072.86 1353.08 L2072.86 1355.07 L2060.32 1387.64 L2055.43 1387.64 L2067.24 1357.01 L2050.64 1357.01 L2050.64 1353.08 Z\" fill=\"#000000\" fill-rule=\"evenodd\" fill-opacity=\"1\" /><path clip-path=\"url(#clip4800)\" d=\"M 0 0 M2081.96 1383.7 L2098.28 1383.7 L2098.28 1387.64 L2076.33 1387.64 L2076.33 1383.7 Q2079 1380.95 2083.58 1376.32 Q2088.19 1371.67 2089.37 1370.32 Q2091.61 1367.8 2092.49 1366.06 Q2093.39 1364.3 2093.39 1362.61 Q2093.39 1359.86 2091.45 1358.12 Q2089.53 1356.39 2086.43 1356.39 Q2084.23 1356.39 2081.77 1357.15 Q2079.34 1357.92 2076.57 1359.47 L2076.57 1354.74 Q2079.39 1353.61 2081.84 1353.03 Q2084.3 1352.45 2086.33 1352.45 Q2091.7 1352.45 2094.9 1355.14 Q2098.09 1357.82 2098.09 1362.31 Q2098.09 1364.44 2097.28 1366.36 Q2096.5 1368.26 2094.39 1370.86 Q2093.81 1371.53 2090.71 1374.74 Q2087.61 1377.94 2081.96 1383.7 Z\" fill=\"#000000\" fill-rule=\"evenodd\" fill-opacity=\"1\" /><path clip-path=\"url(#clip4800)\" d=\"M 0 0 M2215.64 1294.77 Q2212.03 1294.77 2210.2 1298.33 Q2208.4 1301.88 2208.4 1309.01 Q2208.4 1316.11 2210.2 1319.68 Q2212.03 1323.22 2215.64 1323.22 Q2219.28 1323.22 2221.08 1319.68 Q2222.91 1316.11 2222.91 1309.01 Q2222.91 1301.88 2221.08 1298.33 Q2219.28 1294.77 2215.64 1294.77 M2215.64 1291.07 Q2221.45 1291.07 2224.51 1295.67 Q2227.59 1300.26 2227.59 1309.01 Q2227.59 1317.73 2224.51 1322.34 Q2221.45 1326.92 2215.64 1326.92 Q2209.83 1326.92 2206.76 1322.34 Q2203.7 1317.73 2203.7 1309.01 Q2203.7 1300.26 2206.76 1295.67 Q2209.83 1291.07 2215.64 1291.07 Z\" fill=\"#000000\" fill-rule=\"evenodd\" fill-opacity=\"1\" /><path clip-path=\"url(#clip4800)\" d=\"M 0 0 M2232.66 1320.37 L2237.54 1320.37 L2237.54 1326.25 L2232.66 1326.25 L2232.66 1320.37 Z\" fill=\"#000000\" fill-rule=\"evenodd\" fill-opacity=\"1\" /><path clip-path=\"url(#clip4800)\" d=\"M 0 0 M2241.43 1291.69 L2263.65 1291.69 L2263.65 1293.68 L2251.11 1326.25 L2246.22 1326.25 L2258.03 1295.63 L2241.43 1295.63 L2241.43 1291.69 Z\" fill=\"#000000\" fill-rule=\"evenodd\" fill-opacity=\"1\" /><path clip-path=\"url(#clip4800)\" d=\"M 0 0 M2281.57 1295.76 L2269.76 1314.21 L2281.57 1314.21 L2281.57 1295.76 M2280.34 1291.69 L2286.22 1291.69 L2286.22 1314.21 L2291.15 1314.21 L2291.15 1318.1 L2286.22 1318.1 L2286.22 1326.25 L2281.57 1326.25 L2281.57 1318.1 L2265.97 1318.1 L2265.97 1313.59 L2280.34 1291.69 Z\" fill=\"#000000\" fill-rule=\"evenodd\" fill-opacity=\"1\" /><path clip-path=\"url(#clip4800)\" d=\"M 0 0 M74.9365 1228.52 Q71.3254 1228.52 69.4967 1232.08 Q67.6912 1235.62 67.6912 1242.75 Q67.6912 1249.86 69.4967 1253.42 Q71.3254 1256.96 74.9365 1256.96 Q78.5707 1256.96 80.3763 1253.42 Q82.205 1249.86 82.205 1242.75 Q82.205 1235.62 80.3763 1232.08 Q78.5707 1228.52 74.9365 1228.52 M74.9365 1224.81 Q80.7467 1224.81 83.8022 1229.42 Q86.8809 1234 86.8809 1242.75 Q86.8809 1251.48 83.8022 1256.09 Q80.7467 1260.67 74.9365 1260.67 Q69.1264 1260.67 66.0477 1256.09 Q62.9921 1251.48 62.9921 1242.75 Q62.9921 1234 66.0477 1229.42 Q69.1264 1224.81 74.9365 1224.81 Z\" fill=\"#000000\" fill-rule=\"evenodd\" fill-opacity=\"1\" /><path clip-path=\"url(#clip4800)\" d=\"M 0 0 M91.9503 1254.12 L96.8345 1254.12 L96.8345 1260 L91.9503 1260 L91.9503 1254.12 Z\" fill=\"#000000\" fill-rule=\"evenodd\" fill-opacity=\"1\" /><path clip-path=\"url(#clip4800)\" d=\"M 0 0 M112.483 1240.85 Q109.334 1240.85 107.483 1243.01 Q105.654 1245.16 105.654 1248.91 Q105.654 1252.64 107.483 1254.81 Q109.334 1256.96 112.483 1256.96 Q115.631 1256.96 117.459 1254.81 Q119.311 1252.64 119.311 1248.91 Q119.311 1245.16 117.459 1243.01 Q115.631 1240.85 112.483 1240.85 M121.765 1226.2 L121.765 1230.46 Q120.006 1229.63 118.2 1229.19 Q116.418 1228.75 114.659 1228.75 Q110.029 1228.75 107.575 1231.87 Q105.145 1235 104.797 1241.32 Q106.163 1239.3 108.223 1238.24 Q110.284 1237.15 112.76 1237.15 Q117.969 1237.15 120.978 1240.32 Q124.01 1243.47 124.01 1248.91 Q124.01 1254.23 120.862 1257.45 Q117.714 1260.67 112.483 1260.67 Q106.487 1260.67 103.316 1256.09 Q100.145 1251.48 100.145 1242.75 Q100.145 1234.56 104.034 1229.7 Q107.922 1224.81 114.473 1224.81 Q116.233 1224.81 118.015 1225.16 Q119.821 1225.51 121.765 1226.2 Z\" fill=\"#000000\" fill-rule=\"evenodd\" fill-opacity=\"1\" /><path clip-path=\"url(#clip4800)\" d=\"M 0 0 M139.658 1240.85 Q136.51 1240.85 134.658 1243.01 Q132.83 1245.16 132.83 1248.91 Q132.83 1252.64 134.658 1254.81 Q136.51 1256.96 139.658 1256.96 Q142.807 1256.96 144.635 1254.81 Q146.487 1252.64 146.487 1248.91 Q146.487 1245.16 144.635 1243.01 Q142.807 1240.85 139.658 1240.85 M148.941 1226.2 L148.941 1230.46 Q147.181 1229.63 145.376 1229.19 Q143.594 1228.75 141.834 1228.75 Q137.205 1228.75 134.751 1231.87 Q132.32 1235 131.973 1241.32 Q133.339 1239.3 135.399 1238.24 Q137.459 1237.15 139.936 1237.15 Q145.144 1237.15 148.154 1240.32 Q151.186 1243.47 151.186 1248.91 Q151.186 1254.23 148.038 1257.45 Q144.89 1260.67 139.658 1260.67 Q133.663 1260.67 130.492 1256.09 Q127.32 1251.48 127.32 1242.75 Q127.32 1234.56 131.209 1229.7 Q135.098 1224.81 141.649 1224.81 Q143.408 1224.81 145.191 1225.16 Q146.996 1225.51 148.941 1226.2 Z\" fill=\"#000000\" fill-rule=\"evenodd\" fill-opacity=\"1\" /><path clip-path=\"url(#clip4800)\" d=\"M 0 0 M75.1911 985.124 Q71.58 985.124 69.7513 988.689 Q67.9458 992.23 67.9458 999.36 Q67.9458 1006.47 69.7513 1010.03 Q71.58 1013.57 75.1911 1013.57 Q78.8254 1013.57 80.6309 1010.03 Q82.4596 1006.47 82.4596 999.36 Q82.4596 992.23 80.6309 988.689 Q78.8254 985.124 75.1911 985.124 M75.1911 981.42 Q81.0013 981.42 84.0568 986.027 Q87.1355 990.61 87.1355 999.36 Q87.1355 1008.09 84.0568 1012.69 Q81.0013 1017.28 75.1911 1017.28 Q69.381 1017.28 66.3023 1012.69 Q63.2468 1008.09 63.2468 999.36 Q63.2468 990.61 66.3023 986.027 Q69.381 981.42 75.1911 981.42 Z\" fill=\"#000000\" fill-rule=\"evenodd\" fill-opacity=\"1\" /><path clip-path=\"url(#clip4800)\" d=\"M 0 0 M92.2049 1010.73 L97.0892 1010.73 L97.0892 1016.61 L92.2049 1016.61 L92.2049 1010.73 Z\" fill=\"#000000\" fill-rule=\"evenodd\" fill-opacity=\"1\" /><path clip-path=\"url(#clip4800)\" d=\"M 0 0 M112.737 997.462 Q109.589 997.462 107.737 999.614 Q105.909 1001.77 105.909 1005.52 Q105.909 1009.24 107.737 1011.42 Q109.589 1013.57 112.737 1013.57 Q115.885 1013.57 117.714 1011.42 Q119.566 1009.24 119.566 1005.52 Q119.566 1001.77 117.714 999.614 Q115.885 997.462 112.737 997.462 M122.02 982.809 L122.02 987.068 Q120.26 986.235 118.455 985.795 Q116.672 985.355 114.913 985.355 Q110.284 985.355 107.83 988.48 Q105.399 991.605 105.052 997.925 Q106.418 995.911 108.478 994.846 Q110.538 993.758 113.015 993.758 Q118.223 993.758 121.233 996.929 Q124.265 1000.08 124.265 1005.52 Q124.265 1010.84 121.117 1014.06 Q117.969 1017.28 112.737 1017.28 Q106.742 1017.28 103.571 1012.69 Q100.399 1008.09 100.399 999.36 Q100.399 991.165 104.288 986.304 Q108.177 981.42 114.728 981.42 Q116.487 981.42 118.27 981.767 Q120.075 982.114 122.02 982.809 Z\" fill=\"#000000\" fill-rule=\"evenodd\" fill-opacity=\"1\" /><path clip-path=\"url(#clip4800)\" d=\"M 0 0 M139.334 1000.19 Q136.001 1000.19 134.08 1001.98 Q132.182 1003.76 132.182 1006.88 Q132.182 1010.01 134.08 1011.79 Q136.001 1013.57 139.334 1013.57 Q142.668 1013.57 144.589 1011.79 Q146.51 1009.98 146.51 1006.88 Q146.51 1003.76 144.589 1001.98 Q142.691 1000.19 139.334 1000.19 M134.658 998.202 Q131.649 997.462 129.959 995.401 Q128.293 993.341 128.293 990.378 Q128.293 986.235 131.233 983.827 Q134.195 981.42 139.334 981.42 Q144.496 981.42 147.436 983.827 Q150.376 986.235 150.376 990.378 Q150.376 993.341 148.686 995.401 Q147.019 997.462 144.033 998.202 Q147.413 998.989 149.288 1001.28 Q151.186 1003.57 151.186 1006.88 Q151.186 1011.91 148.107 1014.59 Q145.052 1017.28 139.334 1017.28 Q133.617 1017.28 130.538 1014.59 Q127.483 1011.91 127.483 1006.88 Q127.483 1003.57 129.381 1001.28 Q131.279 998.989 134.658 998.202 M132.945 990.818 Q132.945 993.503 134.612 995.008 Q136.302 996.513 139.334 996.513 Q142.344 996.513 144.033 995.008 Q145.746 993.503 145.746 990.818 Q145.746 988.133 144.033 986.628 Q142.344 985.124 139.334 985.124 Q136.302 985.124 134.612 986.628 Q132.945 988.133 132.945 990.818 Z\" fill=\"#000000\" fill-rule=\"evenodd\" fill-opacity=\"1\" /><path clip-path=\"url(#clip4800)\" d=\"M 0 0 M76.1634 741.732 Q72.5523 741.732 70.7236 745.296 Q68.918 748.838 68.918 755.968 Q68.918 763.074 70.7236 766.639 Q72.5523 770.18 76.1634 770.18 Q79.7976 770.18 81.6031 766.639 Q83.4318 763.074 83.4318 755.968 Q83.4318 748.838 81.6031 745.296 Q79.7976 741.732 76.1634 741.732 M76.1634 738.028 Q81.9735 738.028 85.029 742.634 Q88.1077 747.218 88.1077 755.968 Q88.1077 764.694 85.029 769.301 Q81.9735 773.884 76.1634 773.884 Q70.3532 773.884 67.2745 769.301 Q64.219 764.694 64.219 755.968 Q64.219 747.218 67.2745 742.634 Q70.3532 738.028 76.1634 738.028 Z\" fill=\"#000000\" fill-rule=\"evenodd\" fill-opacity=\"1\" /><path clip-path=\"url(#clip4800)\" d=\"M 0 0 M93.1771 767.333 L98.0614 767.333 L98.0614 773.213 L93.1771 773.213 L93.1771 767.333 Z\" fill=\"#000000\" fill-rule=\"evenodd\" fill-opacity=\"1\" /><path clip-path=\"url(#clip4800)\" d=\"M 0 0 M101.95 738.653 L124.172 738.653 L124.172 740.644 L111.626 773.213 L106.742 773.213 L118.547 742.588 L101.95 742.588 L101.95 738.653 Z\" fill=\"#000000\" fill-rule=\"evenodd\" fill-opacity=\"1\" /><path clip-path=\"url(#clip4800)\" d=\"M 0 0 M139.242 741.732 Q135.631 741.732 133.802 745.296 Q131.996 748.838 131.996 755.968 Q131.996 763.074 133.802 766.639 Q135.631 770.18 139.242 770.18 Q142.876 770.18 144.682 766.639 Q146.51 763.074 146.51 755.968 Q146.51 748.838 144.682 745.296 Q142.876 741.732 139.242 741.732 M139.242 738.028 Q145.052 738.028 148.107 742.634 Q151.186 747.218 151.186 755.968 Q151.186 764.694 148.107 769.301 Q145.052 773.884 139.242 773.884 Q133.432 773.884 130.353 769.301 Q127.297 764.694 127.297 755.968 Q127.297 747.218 130.353 742.634 Q133.432 738.028 139.242 738.028 Z\" fill=\"#000000\" fill-rule=\"evenodd\" fill-opacity=\"1\" /><path clip-path=\"url(#clip4800)\" d=\"M 0 0 M77.7606 498.339 Q74.1495 498.339 72.3208 501.904 Q70.5152 505.446 70.5152 512.575 Q70.5152 519.682 72.3208 523.247 Q74.1495 526.788 77.7606 526.788 Q81.3948 526.788 83.2004 523.247 Q85.029 519.682 85.029 512.575 Q85.029 505.446 83.2004 501.904 Q81.3948 498.339 77.7606 498.339 M77.7606 494.636 Q83.5707 494.636 86.6263 499.242 Q89.7049 503.825 89.7049 512.575 Q89.7049 521.302 86.6263 525.909 Q83.5707 530.492 77.7606 530.492 Q71.9504 530.492 68.8717 525.909 Q65.8162 521.302 65.8162 512.575 Q65.8162 503.825 68.8717 499.242 Q71.9504 494.636 77.7606 494.636 Z\" fill=\"#000000\" fill-rule=\"evenodd\" fill-opacity=\"1\" /><path clip-path=\"url(#clip4800)\" d=\"M 0 0 M94.7744 523.941 L99.6586 523.941 L99.6586 529.821 L94.7744 529.821 L94.7744 523.941 Z\" fill=\"#000000\" fill-rule=\"evenodd\" fill-opacity=\"1\" /><path clip-path=\"url(#clip4800)\" d=\"M 0 0 M103.547 495.261 L125.77 495.261 L125.77 497.251 L113.223 529.821 L108.339 529.821 L120.145 499.196 L103.547 499.196 L103.547 495.261 Z\" fill=\"#000000\" fill-rule=\"evenodd\" fill-opacity=\"1\" /><path clip-path=\"url(#clip4800)\" d=\"M 0 0 M134.867 525.885 L151.186 525.885 L151.186 529.821 L129.242 529.821 L129.242 525.885 Q131.904 523.131 136.487 518.501 Q141.094 513.849 142.274 512.506 Q144.519 509.983 145.399 508.247 Q146.302 506.487 146.302 504.798 Q146.302 502.043 144.357 500.307 Q142.436 498.571 139.334 498.571 Q137.135 498.571 134.682 499.335 Q132.251 500.099 129.473 501.65 L129.473 496.927 Q132.297 495.793 134.751 495.214 Q137.205 494.636 139.242 494.636 Q144.612 494.636 147.806 497.321 Q151.001 500.006 151.001 504.497 Q151.001 506.626 150.191 508.548 Q149.404 510.446 147.297 513.038 Q146.719 513.71 143.617 516.927 Q140.515 520.122 134.867 525.885 Z\" fill=\"#000000\" fill-rule=\"evenodd\" fill-opacity=\"1\" /><circle clip-path=\"url(#clip4802)\" cx=\"1819.57\" cy=\"902.926\" r=\"14\" fill=\"#009af9\" fill-rule=\"evenodd\" fill-opacity=\"1\" stroke=\"#000000\" stroke-opacity=\"1\" stroke-width=\"3.2\"/>\n",
       "<circle clip-path=\"url(#clip4802)\" cx=\"1001.92\" cy=\"254.959\" r=\"14\" fill=\"#009af9\" fill-rule=\"evenodd\" fill-opacity=\"1\" stroke=\"#000000\" stroke-opacity=\"1\" stroke-width=\"3.2\"/>\n",
       "<circle clip-path=\"url(#clip4802)\" cx=\"1430.6\" cy=\"647.251\" r=\"14\" fill=\"#009af9\" fill-rule=\"evenodd\" fill-opacity=\"1\" stroke=\"#000000\" stroke-opacity=\"1\" stroke-width=\"3.2\"/>\n",
       "<circle clip-path=\"url(#clip4802)\" cx=\"1943.3\" cy=\"988.025\" r=\"14\" fill=\"#009af9\" fill-rule=\"evenodd\" fill-opacity=\"1\" stroke=\"#000000\" stroke-opacity=\"1\" stroke-width=\"3.2\"/>\n",
       "<circle clip-path=\"url(#clip4802)\" cx=\"1336.65\" cy=\"607.537\" r=\"14\" fill=\"#009af9\" fill-rule=\"evenodd\" fill-opacity=\"1\" stroke=\"#000000\" stroke-opacity=\"1\" stroke-width=\"3.2\"/>\n",
       "<circle clip-path=\"url(#clip4802)\" cx=\"1023.27\" cy=\"192.545\" r=\"14\" fill=\"#009af9\" fill-rule=\"evenodd\" fill-opacity=\"1\" stroke=\"#000000\" stroke-opacity=\"1\" stroke-width=\"3.2\"/>\n",
       "<circle clip-path=\"url(#clip4802)\" cx=\"1207.04\" cy=\"574.268\" r=\"14\" fill=\"#009af9\" fill-rule=\"evenodd\" fill-opacity=\"1\" stroke=\"#000000\" stroke-opacity=\"1\" stroke-width=\"3.2\"/>\n",
       "<circle clip-path=\"url(#clip4802)\" cx=\"1698.18\" cy=\"1011.23\" r=\"14\" fill=\"#009af9\" fill-rule=\"evenodd\" fill-opacity=\"1\" stroke=\"#000000\" stroke-opacity=\"1\" stroke-width=\"3.2\"/>\n",
       "<circle clip-path=\"url(#clip4802)\" cx=\"1336.65\" cy=\"607.537\" r=\"14\" fill=\"#009af9\" fill-rule=\"evenodd\" fill-opacity=\"1\" stroke=\"#000000\" stroke-opacity=\"1\" stroke-width=\"3.2\"/>\n",
       "<circle clip-path=\"url(#clip4802)\" cx=\"1130.84\" cy=\"327.904\" r=\"14\" fill=\"#009af9\" fill-rule=\"evenodd\" fill-opacity=\"1\" stroke=\"#000000\" stroke-opacity=\"1\" stroke-width=\"3.2\"/>\n",
       "<circle clip-path=\"url(#clip4802)\" cx=\"1386.11\" cy=\"642.028\" r=\"14\" fill=\"#009af9\" fill-rule=\"evenodd\" fill-opacity=\"1\" stroke=\"#000000\" stroke-opacity=\"1\" stroke-width=\"3.2\"/>\n",
       "<circle clip-path=\"url(#clip4802)\" cx=\"1748.35\" cy=\"914.774\" r=\"14\" fill=\"#009af9\" fill-rule=\"evenodd\" fill-opacity=\"1\" stroke=\"#000000\" stroke-opacity=\"1\" stroke-width=\"3.2\"/>\n",
       "<circle clip-path=\"url(#clip4802)\" cx=\"1543.28\" cy=\"617.822\" r=\"14\" fill=\"#009af9\" fill-rule=\"evenodd\" fill-opacity=\"1\" stroke=\"#000000\" stroke-opacity=\"1\" stroke-width=\"3.2\"/>\n",
       "<circle clip-path=\"url(#clip4802)\" cx=\"1184.15\" cy=\"351.604\" r=\"14\" fill=\"#009af9\" fill-rule=\"evenodd\" fill-opacity=\"1\" stroke=\"#000000\" stroke-opacity=\"1\" stroke-width=\"3.2\"/>\n",
       "<circle clip-path=\"url(#clip4802)\" cx=\"1013.47\" cy=\"358.147\" r=\"14\" fill=\"#009af9\" fill-rule=\"evenodd\" fill-opacity=\"1\" stroke=\"#000000\" stroke-opacity=\"1\" stroke-width=\"3.2\"/>\n",
       "<circle clip-path=\"url(#clip4802)\" cx=\"1388.09\" cy=\"595.629\" r=\"14\" fill=\"#009af9\" fill-rule=\"evenodd\" fill-opacity=\"1\" stroke=\"#000000\" stroke-opacity=\"1\" stroke-width=\"3.2\"/>\n",
       "<circle clip-path=\"url(#clip4802)\" cx=\"1734.29\" cy=\"785.815\" r=\"14\" fill=\"#009af9\" fill-rule=\"evenodd\" fill-opacity=\"1\" stroke=\"#000000\" stroke-opacity=\"1\" stroke-width=\"3.2\"/>\n",
       "<circle clip-path=\"url(#clip4802)\" cx=\"1240.24\" cy=\"568.537\" r=\"14\" fill=\"#009af9\" fill-rule=\"evenodd\" fill-opacity=\"1\" stroke=\"#000000\" stroke-opacity=\"1\" stroke-width=\"3.2\"/>\n",
       "<circle clip-path=\"url(#clip4802)\" cx=\"1292.47\" cy=\"377.634\" r=\"14\" fill=\"#009af9\" fill-rule=\"evenodd\" fill-opacity=\"1\" stroke=\"#000000\" stroke-opacity=\"1\" stroke-width=\"3.2\"/>\n",
       "<circle clip-path=\"url(#clip4802)\" cx=\"1046.62\" cy=\"225.879\" r=\"14\" fill=\"#009af9\" fill-rule=\"evenodd\" fill-opacity=\"1\" stroke=\"#000000\" stroke-opacity=\"1\" stroke-width=\"3.2\"/>\n",
       "<circle clip-path=\"url(#clip4802)\" cx=\"998.991\" cy=\"290.66\" r=\"14\" fill=\"#009af9\" fill-rule=\"evenodd\" fill-opacity=\"1\" stroke=\"#000000\" stroke-opacity=\"1\" stroke-width=\"3.2\"/>\n",
       "<circle clip-path=\"url(#clip4802)\" cx=\"1287.5\" cy=\"444.438\" r=\"14\" fill=\"#009af9\" fill-rule=\"evenodd\" fill-opacity=\"1\" stroke=\"#000000\" stroke-opacity=\"1\" stroke-width=\"3.2\"/>\n",
       "<circle clip-path=\"url(#clip4802)\" cx=\"1067.97\" cy=\"196.538\" r=\"14\" fill=\"#009af9\" fill-rule=\"evenodd\" fill-opacity=\"1\" stroke=\"#000000\" stroke-opacity=\"1\" stroke-width=\"3.2\"/>\n",
       "<circle clip-path=\"url(#clip4802)\" cx=\"1337.16\" cy=\"381.627\" r=\"14\" fill=\"#009af9\" fill-rule=\"evenodd\" fill-opacity=\"1\" stroke=\"#000000\" stroke-opacity=\"1\" stroke-width=\"3.2\"/>\n",
       "<circle clip-path=\"url(#clip4802)\" cx=\"1698.18\" cy=\"1011.23\" r=\"14\" fill=\"#009af9\" fill-rule=\"evenodd\" fill-opacity=\"1\" stroke=\"#000000\" stroke-opacity=\"1\" stroke-width=\"3.2\"/>\n",
       "<circle clip-path=\"url(#clip4802)\" cx=\"1369.68\" cy=\"482.157\" r=\"14\" fill=\"#009af9\" fill-rule=\"evenodd\" fill-opacity=\"1\" stroke=\"#000000\" stroke-opacity=\"1\" stroke-width=\"3.2\"/>\n",
       "<circle clip-path=\"url(#clip4802)\" cx=\"1410.39\" cy=\"709.796\" r=\"14\" fill=\"#009af9\" fill-rule=\"evenodd\" fill-opacity=\"1\" stroke=\"#000000\" stroke-opacity=\"1\" stroke-width=\"3.2\"/>\n",
       "<circle clip-path=\"url(#clip4802)\" cx=\"1047.46\" cy=\"230.324\" r=\"14\" fill=\"#009af9\" fill-rule=\"evenodd\" fill-opacity=\"1\" stroke=\"#000000\" stroke-opacity=\"1\" stroke-width=\"3.2\"/>\n",
       "<circle clip-path=\"url(#clip4802)\" cx=\"1943.3\" cy=\"988.025\" r=\"14\" fill=\"#009af9\" fill-rule=\"evenodd\" fill-opacity=\"1\" stroke=\"#000000\" stroke-opacity=\"1\" stroke-width=\"3.2\"/>\n",
       "<circle clip-path=\"url(#clip4802)\" cx=\"1520.89\" cy=\"826.572\" r=\"14\" fill=\"#009af9\" fill-rule=\"evenodd\" fill-opacity=\"1\" stroke=\"#000000\" stroke-opacity=\"1\" stroke-width=\"3.2\"/>\n",
       "<circle clip-path=\"url(#clip4802)\" cx=\"1617.27\" cy=\"897.878\" r=\"14\" fill=\"#009af9\" fill-rule=\"evenodd\" fill-opacity=\"1\" stroke=\"#000000\" stroke-opacity=\"1\" stroke-width=\"3.2\"/>\n",
       "<circle clip-path=\"url(#clip4802)\" cx=\"1609.33\" cy=\"559.402\" r=\"14\" fill=\"#009af9\" fill-rule=\"evenodd\" fill-opacity=\"1\" stroke=\"#000000\" stroke-opacity=\"1\" stroke-width=\"3.2\"/>\n",
       "<circle clip-path=\"url(#clip4802)\" cx=\"1189.72\" cy=\"428.692\" r=\"14\" fill=\"#009af9\" fill-rule=\"evenodd\" fill-opacity=\"1\" stroke=\"#000000\" stroke-opacity=\"1\" stroke-width=\"3.2\"/>\n",
       "<circle clip-path=\"url(#clip4802)\" cx=\"1532.48\" cy=\"757.648\" r=\"14\" fill=\"#009af9\" fill-rule=\"evenodd\" fill-opacity=\"1\" stroke=\"#000000\" stroke-opacity=\"1\" stroke-width=\"3.2\"/>\n",
       "<circle clip-path=\"url(#clip4802)\" cx=\"1565.67\" cy=\"769.413\" r=\"14\" fill=\"#009af9\" fill-rule=\"evenodd\" fill-opacity=\"1\" stroke=\"#000000\" stroke-opacity=\"1\" stroke-width=\"3.2\"/>\n",
       "<circle clip-path=\"url(#clip4802)\" cx=\"1164.04\" cy=\"322.172\" r=\"14\" fill=\"#009af9\" fill-rule=\"evenodd\" fill-opacity=\"1\" stroke=\"#000000\" stroke-opacity=\"1\" stroke-width=\"3.2\"/>\n",
       "<circle clip-path=\"url(#clip4802)\" cx=\"1131.8\" cy=\"325.461\" r=\"14\" fill=\"#009af9\" fill-rule=\"evenodd\" fill-opacity=\"1\" stroke=\"#000000\" stroke-opacity=\"1\" stroke-width=\"3.2\"/>\n",
       "<circle clip-path=\"url(#clip4802)\" cx=\"1741.34\" cy=\"864.637\" r=\"14\" fill=\"#009af9\" fill-rule=\"evenodd\" fill-opacity=\"1\" stroke=\"#000000\" stroke-opacity=\"1\" stroke-width=\"3.2\"/>\n",
       "<circle clip-path=\"url(#clip4802)\" cx=\"1023.27\" cy=\"192.545\" r=\"14\" fill=\"#009af9\" fill-rule=\"evenodd\" fill-opacity=\"1\" stroke=\"#000000\" stroke-opacity=\"1\" stroke-width=\"3.2\"/>\n",
       "<circle clip-path=\"url(#clip4802)\" cx=\"1431.48\" cy=\"488.738\" r=\"14\" fill=\"#009af9\" fill-rule=\"evenodd\" fill-opacity=\"1\" stroke=\"#000000\" stroke-opacity=\"1\" stroke-width=\"3.2\"/>\n",
       "<circle clip-path=\"url(#clip4802)\" cx=\"1024.67\" cy=\"397.18\" r=\"14\" fill=\"#009af9\" fill-rule=\"evenodd\" fill-opacity=\"1\" stroke=\"#000000\" stroke-opacity=\"1\" stroke-width=\"3.2\"/>\n",
       "<circle clip-path=\"url(#clip4802)\" cx=\"1536.97\" cy=\"683.563\" r=\"14\" fill=\"#009af9\" fill-rule=\"evenodd\" fill-opacity=\"1\" stroke=\"#000000\" stroke-opacity=\"1\" stroke-width=\"3.2\"/>\n",
       "<circle clip-path=\"url(#clip4802)\" cx=\"1409.25\" cy=\"709.665\" r=\"14\" fill=\"#009af9\" fill-rule=\"evenodd\" fill-opacity=\"1\" stroke=\"#000000\" stroke-opacity=\"1\" stroke-width=\"3.2\"/>\n",
       "<circle clip-path=\"url(#clip4802)\" cx=\"966.156\" cy=\"355.709\" r=\"14\" fill=\"#009af9\" fill-rule=\"evenodd\" fill-opacity=\"1\" stroke=\"#000000\" stroke-opacity=\"1\" stroke-width=\"3.2\"/>\n",
       "<circle clip-path=\"url(#clip4802)\" cx=\"1452.75\" cy=\"526.992\" r=\"14\" fill=\"#009af9\" fill-rule=\"evenodd\" fill-opacity=\"1\" stroke=\"#000000\" stroke-opacity=\"1\" stroke-width=\"3.2\"/>\n",
       "<circle clip-path=\"url(#clip4802)\" cx=\"1784.16\" cy=\"836.381\" r=\"14\" fill=\"#009af9\" fill-rule=\"evenodd\" fill-opacity=\"1\" stroke=\"#000000\" stroke-opacity=\"1\" stroke-width=\"3.2\"/>\n",
       "<circle clip-path=\"url(#clip4802)\" cx=\"1448.06\" cy=\"568.989\" r=\"14\" fill=\"#009af9\" fill-rule=\"evenodd\" fill-opacity=\"1\" stroke=\"#000000\" stroke-opacity=\"1\" stroke-width=\"3.2\"/>\n",
       "<circle clip-path=\"url(#clip4802)\" cx=\"1097.8\" cy=\"453.283\" r=\"14\" fill=\"#009af9\" fill-rule=\"evenodd\" fill-opacity=\"1\" stroke=\"#000000\" stroke-opacity=\"1\" stroke-width=\"3.2\"/>\n",
       "<circle clip-path=\"url(#clip4802)\" cx=\"1691.48\" cy=\"814.071\" r=\"14\" fill=\"#009af9\" fill-rule=\"evenodd\" fill-opacity=\"1\" stroke=\"#000000\" stroke-opacity=\"1\" stroke-width=\"3.2\"/>\n",
       "<circle clip-path=\"url(#clip4802)\" cx=\"1047.46\" cy=\"230.324\" r=\"14\" fill=\"#009af9\" fill-rule=\"evenodd\" fill-opacity=\"1\" stroke=\"#000000\" stroke-opacity=\"1\" stroke-width=\"3.2\"/>\n",
       "<circle clip-path=\"url(#clip4802)\" cx=\"1611.89\" cy=\"678.635\" r=\"14\" fill=\"#009af9\" fill-rule=\"evenodd\" fill-opacity=\"1\" stroke=\"#000000\" stroke-opacity=\"1\" stroke-width=\"3.2\"/>\n",
       "<circle clip-path=\"url(#clip4802)\" cx=\"1748.35\" cy=\"914.774\" r=\"14\" fill=\"#009af9\" fill-rule=\"evenodd\" fill-opacity=\"1\" stroke=\"#000000\" stroke-opacity=\"1\" stroke-width=\"3.2\"/>\n",
       "<circle clip-path=\"url(#clip4802)\" cx=\"1769.7\" cy=\"852.36\" r=\"14\" fill=\"#009af9\" fill-rule=\"evenodd\" fill-opacity=\"1\" stroke=\"#000000\" stroke-opacity=\"1\" stroke-width=\"3.2\"/>\n",
       "<circle clip-path=\"url(#clip4802)\" cx=\"1448.06\" cy=\"568.989\" r=\"14\" fill=\"#009af9\" fill-rule=\"evenodd\" fill-opacity=\"1\" stroke=\"#000000\" stroke-opacity=\"1\" stroke-width=\"3.2\"/>\n",
       "<circle clip-path=\"url(#clip4802)\" cx=\"1015.54\" cy=\"317.705\" r=\"14\" fill=\"#009af9\" fill-rule=\"evenodd\" fill-opacity=\"1\" stroke=\"#000000\" stroke-opacity=\"1\" stroke-width=\"3.2\"/>\n",
       "<circle clip-path=\"url(#clip4802)\" cx=\"1528.82\" cy=\"633.801\" r=\"14\" fill=\"#009af9\" fill-rule=\"evenodd\" fill-opacity=\"1\" stroke=\"#000000\" stroke-opacity=\"1\" stroke-width=\"3.2\"/>\n",
       "<circle clip-path=\"url(#clip4802)\" cx=\"1294.47\" cy=\"473.382\" r=\"14\" fill=\"#009af9\" fill-rule=\"evenodd\" fill-opacity=\"1\" stroke=\"#000000\" stroke-opacity=\"1\" stroke-width=\"3.2\"/>\n",
       "<circle clip-path=\"url(#clip4802)\" cx=\"1398.89\" cy=\"455.802\" r=\"14\" fill=\"#009af9\" fill-rule=\"evenodd\" fill-opacity=\"1\" stroke=\"#000000\" stroke-opacity=\"1\" stroke-width=\"3.2\"/>\n",
       "<circle clip-path=\"url(#clip4802)\" cx=\"1264.15\" cy=\"411.104\" r=\"14\" fill=\"#009af9\" fill-rule=\"evenodd\" fill-opacity=\"1\" stroke=\"#000000\" stroke-opacity=\"1\" stroke-width=\"3.2\"/>\n",
       "<circle clip-path=\"url(#clip4802)\" cx=\"1315.82\" cy=\"410.968\" r=\"14\" fill=\"#009af9\" fill-rule=\"evenodd\" fill-opacity=\"1\" stroke=\"#000000\" stroke-opacity=\"1\" stroke-width=\"3.2\"/>\n",
       "<circle clip-path=\"url(#clip4802)\" cx=\"1289.33\" cy=\"445.558\" r=\"14\" fill=\"#009af9\" fill-rule=\"evenodd\" fill-opacity=\"1\" stroke=\"#000000\" stroke-opacity=\"1\" stroke-width=\"3.2\"/>\n",
       "<circle clip-path=\"url(#clip4802)\" cx=\"1207.04\" cy=\"574.268\" r=\"14\" fill=\"#009af9\" fill-rule=\"evenodd\" fill-opacity=\"1\" stroke=\"#000000\" stroke-opacity=\"1\" stroke-width=\"3.2\"/>\n",
       "<circle clip-path=\"url(#clip4802)\" cx=\"966.156\" cy=\"355.709\" r=\"14\" fill=\"#009af9\" fill-rule=\"evenodd\" fill-opacity=\"1\" stroke=\"#000000\" stroke-opacity=\"1\" stroke-width=\"3.2\"/>\n",
       "<circle clip-path=\"url(#clip4802)\" cx=\"1303.44\" cy=\"613.268\" r=\"14\" fill=\"#009af9\" fill-rule=\"evenodd\" fill-opacity=\"1\" stroke=\"#000000\" stroke-opacity=\"1\" stroke-width=\"3.2\"/>\n",
       "<circle clip-path=\"url(#clip4802)\" cx=\"1693.63\" cy=\"745.551\" r=\"14\" fill=\"#009af9\" fill-rule=\"evenodd\" fill-opacity=\"1\" stroke=\"#000000\" stroke-opacity=\"1\" stroke-width=\"3.2\"/>\n",
       "<circle clip-path=\"url(#clip4802)\" cx=\"1578.69\" cy=\"684.367\" r=\"14\" fill=\"#009af9\" fill-rule=\"evenodd\" fill-opacity=\"1\" stroke=\"#000000\" stroke-opacity=\"1\" stroke-width=\"3.2\"/>\n",
       "<circle clip-path=\"url(#clip4802)\" cx=\"1777.85\" cy=\"902.122\" r=\"14\" fill=\"#009af9\" fill-rule=\"evenodd\" fill-opacity=\"1\" stroke=\"#000000\" stroke-opacity=\"1\" stroke-width=\"3.2\"/>\n",
       "<circle clip-path=\"url(#clip4802)\" cx=\"1430.6\" cy=\"647.251\" r=\"14\" fill=\"#009af9\" fill-rule=\"evenodd\" fill-opacity=\"1\" stroke=\"#000000\" stroke-opacity=\"1\" stroke-width=\"3.2\"/>\n",
       "<circle clip-path=\"url(#clip4802)\" cx=\"1303.44\" cy=\"613.268\" r=\"14\" fill=\"#009af9\" fill-rule=\"evenodd\" fill-opacity=\"1\" stroke=\"#000000\" stroke-opacity=\"1\" stroke-width=\"3.2\"/>\n",
       "<circle clip-path=\"url(#clip4802)\" cx=\"1106.07\" cy=\"408.536\" r=\"14\" fill=\"#009af9\" fill-rule=\"evenodd\" fill-opacity=\"1\" stroke=\"#000000\" stroke-opacity=\"1\" stroke-width=\"3.2\"/>\n",
       "<circle clip-path=\"url(#clip4802)\" cx=\"1452.75\" cy=\"526.992\" r=\"14\" fill=\"#009af9\" fill-rule=\"evenodd\" fill-opacity=\"1\" stroke=\"#000000\" stroke-opacity=\"1\" stroke-width=\"3.2\"/>\n",
       "<circle clip-path=\"url(#clip4802)\" cx=\"1106.07\" cy=\"408.536\" r=\"14\" fill=\"#009af9\" fill-rule=\"evenodd\" fill-opacity=\"1\" stroke=\"#000000\" stroke-opacity=\"1\" stroke-width=\"3.2\"/>\n",
       "<circle clip-path=\"url(#clip4802)\" cx=\"1556.7\" cy=\"629.527\" r=\"14\" fill=\"#009af9\" fill-rule=\"evenodd\" fill-opacity=\"1\" stroke=\"#000000\" stroke-opacity=\"1\" stroke-width=\"3.2\"/>\n",
       "<circle clip-path=\"url(#clip4802)\" cx=\"1556.7\" cy=\"629.527\" r=\"14\" fill=\"#009af9\" fill-rule=\"evenodd\" fill-opacity=\"1\" stroke=\"#000000\" stroke-opacity=\"1\" stroke-width=\"3.2\"/>\n",
       "<circle clip-path=\"url(#clip4802)\" cx=\"1315.82\" cy=\"410.968\" r=\"14\" fill=\"#009af9\" fill-rule=\"evenodd\" fill-opacity=\"1\" stroke=\"#000000\" stroke-opacity=\"1\" stroke-width=\"3.2\"/>\n",
       "<circle clip-path=\"url(#clip4802)\" cx=\"1282.79\" cy=\"536.347\" r=\"14\" fill=\"#009af9\" fill-rule=\"evenodd\" fill-opacity=\"1\" stroke=\"#000000\" stroke-opacity=\"1\" stroke-width=\"3.2\"/>\n",
       "<circle clip-path=\"url(#clip4802)\" cx=\"1784.16\" cy=\"836.381\" r=\"14\" fill=\"#009af9\" fill-rule=\"evenodd\" fill-opacity=\"1\" stroke=\"#000000\" stroke-opacity=\"1\" stroke-width=\"3.2\"/>\n",
       "<circle clip-path=\"url(#clip4802)\" cx=\"1386.11\" cy=\"642.028\" r=\"14\" fill=\"#009af9\" fill-rule=\"evenodd\" fill-opacity=\"1\" stroke=\"#000000\" stroke-opacity=\"1\" stroke-width=\"3.2\"/>\n",
       "<circle clip-path=\"url(#clip4802)\" cx=\"1067.97\" cy=\"196.538\" r=\"14\" fill=\"#009af9\" fill-rule=\"evenodd\" fill-opacity=\"1\" stroke=\"#000000\" stroke-opacity=\"1\" stroke-width=\"3.2\"/>\n",
       "<circle clip-path=\"url(#clip4802)\" cx=\"1578.69\" cy=\"684.367\" r=\"14\" fill=\"#009af9\" fill-rule=\"evenodd\" fill-opacity=\"1\" stroke=\"#000000\" stroke-opacity=\"1\" stroke-width=\"3.2\"/>\n",
       "<circle clip-path=\"url(#clip4802)\" cx=\"1430.91\" cy=\"567.373\" r=\"14\" fill=\"#009af9\" fill-rule=\"evenodd\" fill-opacity=\"1\" stroke=\"#000000\" stroke-opacity=\"1\" stroke-width=\"3.2\"/>\n",
       "<circle clip-path=\"url(#clip4802)\" cx=\"1777.85\" cy=\"902.122\" r=\"14\" fill=\"#009af9\" fill-rule=\"evenodd\" fill-opacity=\"1\" stroke=\"#000000\" stroke-opacity=\"1\" stroke-width=\"3.2\"/>\n",
       "<circle clip-path=\"url(#clip4802)\" cx=\"1493.41\" cy=\"567.256\" r=\"14\" fill=\"#009af9\" fill-rule=\"evenodd\" fill-opacity=\"1\" stroke=\"#000000\" stroke-opacity=\"1\" stroke-width=\"3.2\"/>\n",
       "<circle clip-path=\"url(#clip4802)\" cx=\"1430.91\" cy=\"567.373\" r=\"14\" fill=\"#009af9\" fill-rule=\"evenodd\" fill-opacity=\"1\" stroke=\"#000000\" stroke-opacity=\"1\" stroke-width=\"3.2\"/>\n",
       "<circle clip-path=\"url(#clip4802)\" cx=\"1097.8\" cy=\"453.283\" r=\"14\" fill=\"#009af9\" fill-rule=\"evenodd\" fill-opacity=\"1\" stroke=\"#000000\" stroke-opacity=\"1\" stroke-width=\"3.2\"/>\n",
       "<circle clip-path=\"url(#clip4802)\" cx=\"1528.82\" cy=\"633.801\" r=\"14\" fill=\"#009af9\" fill-rule=\"evenodd\" fill-opacity=\"1\" stroke=\"#000000\" stroke-opacity=\"1\" stroke-width=\"3.2\"/>\n",
       "<circle clip-path=\"url(#clip4802)\" cx=\"1294.47\" cy=\"473.382\" r=\"14\" fill=\"#009af9\" fill-rule=\"evenodd\" fill-opacity=\"1\" stroke=\"#000000\" stroke-opacity=\"1\" stroke-width=\"3.2\"/>\n",
       "<circle clip-path=\"url(#clip4802)\" cx=\"1450.6\" cy=\"595.512\" r=\"14\" fill=\"#009af9\" fill-rule=\"evenodd\" fill-opacity=\"1\" stroke=\"#000000\" stroke-opacity=\"1\" stroke-width=\"3.2\"/>\n",
       "<circle clip-path=\"url(#clip4802)\" cx=\"1190.03\" cy=\"348.814\" r=\"14\" fill=\"#009af9\" fill-rule=\"evenodd\" fill-opacity=\"1\" stroke=\"#000000\" stroke-opacity=\"1\" stroke-width=\"3.2\"/>\n",
       "<circle clip-path=\"url(#clip4802)\" cx=\"1001.92\" cy=\"254.959\" r=\"14\" fill=\"#009af9\" fill-rule=\"evenodd\" fill-opacity=\"1\" stroke=\"#000000\" stroke-opacity=\"1\" stroke-width=\"3.2\"/>\n",
       "<circle clip-path=\"url(#clip4802)\" cx=\"1536.97\" cy=\"683.563\" r=\"14\" fill=\"#009af9\" fill-rule=\"evenodd\" fill-opacity=\"1\" stroke=\"#000000\" stroke-opacity=\"1\" stroke-width=\"3.2\"/>\n",
       "<circle clip-path=\"url(#clip4802)\" cx=\"1450.6\" cy=\"595.512\" r=\"14\" fill=\"#009af9\" fill-rule=\"evenodd\" fill-opacity=\"1\" stroke=\"#000000\" stroke-opacity=\"1\" stroke-width=\"3.2\"/>\n",
       "<circle clip-path=\"url(#clip4802)\" cx=\"1702.42\" cy=\"769.466\" r=\"14\" fill=\"#009af9\" fill-rule=\"evenodd\" fill-opacity=\"1\" stroke=\"#000000\" stroke-opacity=\"1\" stroke-width=\"3.2\"/>\n",
       "<circle clip-path=\"url(#clip4802)\" cx=\"1691.48\" cy=\"814.071\" r=\"14\" fill=\"#009af9\" fill-rule=\"evenodd\" fill-opacity=\"1\" stroke=\"#000000\" stroke-opacity=\"1\" stroke-width=\"3.2\"/>\n",
       "<circle clip-path=\"url(#clip4802)\" cx=\"1702.42\" cy=\"769.466\" r=\"14\" fill=\"#009af9\" fill-rule=\"evenodd\" fill-opacity=\"1\" stroke=\"#000000\" stroke-opacity=\"1\" stroke-width=\"3.2\"/>\n",
       "<circle clip-path=\"url(#clip4802)\" cx=\"1520.89\" cy=\"826.572\" r=\"14\" fill=\"#009af9\" fill-rule=\"evenodd\" fill-opacity=\"1\" stroke=\"#000000\" stroke-opacity=\"1\" stroke-width=\"3.2\"/>\n",
       "<circle clip-path=\"url(#clip4802)\" cx=\"1190.03\" cy=\"348.814\" r=\"14\" fill=\"#009af9\" fill-rule=\"evenodd\" fill-opacity=\"1\" stroke=\"#000000\" stroke-opacity=\"1\" stroke-width=\"3.2\"/>\n",
       "<circle clip-path=\"url(#clip4802)\" cx=\"1409.25\" cy=\"709.665\" r=\"14\" fill=\"#009af9\" fill-rule=\"evenodd\" fill-opacity=\"1\" stroke=\"#000000\" stroke-opacity=\"1\" stroke-width=\"3.2\"/>\n",
       "<circle clip-path=\"url(#clip4802)\" cx=\"1289.33\" cy=\"445.558\" r=\"14\" fill=\"#009af9\" fill-rule=\"evenodd\" fill-opacity=\"1\" stroke=\"#000000\" stroke-opacity=\"1\" stroke-width=\"3.2\"/>\n",
       "<circle clip-path=\"url(#clip4802)\" cx=\"1543.28\" cy=\"617.822\" r=\"14\" fill=\"#009af9\" fill-rule=\"evenodd\" fill-opacity=\"1\" stroke=\"#000000\" stroke-opacity=\"1\" stroke-width=\"3.2\"/>\n",
       "<circle clip-path=\"url(#clip4802)\" cx=\"1189.72\" cy=\"428.692\" r=\"14\" fill=\"#009af9\" fill-rule=\"evenodd\" fill-opacity=\"1\" stroke=\"#000000\" stroke-opacity=\"1\" stroke-width=\"3.2\"/>\n",
       "<circle clip-path=\"url(#clip4802)\" cx=\"1240.24\" cy=\"568.537\" r=\"14\" fill=\"#009af9\" fill-rule=\"evenodd\" fill-opacity=\"1\" stroke=\"#000000\" stroke-opacity=\"1\" stroke-width=\"3.2\"/>\n",
       "<circle clip-path=\"url(#clip4802)\" cx=\"1047.46\" cy=\"230.324\" r=\"14\" fill=\"#009af9\" fill-rule=\"evenodd\" fill-opacity=\"1\" stroke=\"#000000\" stroke-opacity=\"1\" stroke-width=\"3.2\"/>\n",
       "<circle clip-path=\"url(#clip4802)\" cx=\"1578.69\" cy=\"684.367\" r=\"14\" fill=\"#009af9\" fill-rule=\"evenodd\" fill-opacity=\"1\" stroke=\"#000000\" stroke-opacity=\"1\" stroke-width=\"3.2\"/>\n",
       "<circle clip-path=\"url(#clip4802)\" cx=\"1748.35\" cy=\"914.774\" r=\"14\" fill=\"#009af9\" fill-rule=\"evenodd\" fill-opacity=\"1\" stroke=\"#000000\" stroke-opacity=\"1\" stroke-width=\"3.2\"/>\n",
       "<circle clip-path=\"url(#clip4802)\" cx=\"1543.28\" cy=\"617.822\" r=\"14\" fill=\"#009af9\" fill-rule=\"evenodd\" fill-opacity=\"1\" stroke=\"#000000\" stroke-opacity=\"1\" stroke-width=\"3.2\"/>\n",
       "<circle clip-path=\"url(#clip4802)\" cx=\"1047.46\" cy=\"230.324\" r=\"14\" fill=\"#009af9\" fill-rule=\"evenodd\" fill-opacity=\"1\" stroke=\"#000000\" stroke-opacity=\"1\" stroke-width=\"3.2\"/>\n",
       "<circle clip-path=\"url(#clip4802)\" cx=\"1520.89\" cy=\"826.572\" r=\"14\" fill=\"#009af9\" fill-rule=\"evenodd\" fill-opacity=\"1\" stroke=\"#000000\" stroke-opacity=\"1\" stroke-width=\"3.2\"/>\n",
       "<circle clip-path=\"url(#clip4802)\" cx=\"1189.72\" cy=\"428.692\" r=\"14\" fill=\"#009af9\" fill-rule=\"evenodd\" fill-opacity=\"1\" stroke=\"#000000\" stroke-opacity=\"1\" stroke-width=\"3.2\"/>\n",
       "<circle clip-path=\"url(#clip4802)\" cx=\"1520.89\" cy=\"826.572\" r=\"14\" fill=\"#009af9\" fill-rule=\"evenodd\" fill-opacity=\"1\" stroke=\"#000000\" stroke-opacity=\"1\" stroke-width=\"3.2\"/>\n",
       "<circle clip-path=\"url(#clip4802)\" cx=\"1001.92\" cy=\"254.959\" r=\"14\" fill=\"#009af9\" fill-rule=\"evenodd\" fill-opacity=\"1\" stroke=\"#000000\" stroke-opacity=\"1\" stroke-width=\"3.2\"/>\n",
       "<circle clip-path=\"url(#clip4802)\" cx=\"1520.89\" cy=\"826.572\" r=\"14\" fill=\"#009af9\" fill-rule=\"evenodd\" fill-opacity=\"1\" stroke=\"#000000\" stroke-opacity=\"1\" stroke-width=\"3.2\"/>\n",
       "<circle clip-path=\"url(#clip4802)\" cx=\"1240.24\" cy=\"568.537\" r=\"14\" fill=\"#009af9\" fill-rule=\"evenodd\" fill-opacity=\"1\" stroke=\"#000000\" stroke-opacity=\"1\" stroke-width=\"3.2\"/>\n",
       "<circle clip-path=\"url(#clip4802)\" cx=\"1240.24\" cy=\"568.537\" r=\"14\" fill=\"#009af9\" fill-rule=\"evenodd\" fill-opacity=\"1\" stroke=\"#000000\" stroke-opacity=\"1\" stroke-width=\"3.2\"/>\n",
       "<circle clip-path=\"url(#clip4802)\" cx=\"1543.28\" cy=\"617.822\" r=\"14\" fill=\"#009af9\" fill-rule=\"evenodd\" fill-opacity=\"1\" stroke=\"#000000\" stroke-opacity=\"1\" stroke-width=\"3.2\"/>\n",
       "<circle clip-path=\"url(#clip4802)\" cx=\"1336.65\" cy=\"607.537\" r=\"14\" fill=\"#009af9\" fill-rule=\"evenodd\" fill-opacity=\"1\" stroke=\"#000000\" stroke-opacity=\"1\" stroke-width=\"3.2\"/>\n",
       "<circle clip-path=\"url(#clip4802)\" cx=\"1336.65\" cy=\"607.537\" r=\"14\" fill=\"#009af9\" fill-rule=\"evenodd\" fill-opacity=\"1\" stroke=\"#000000\" stroke-opacity=\"1\" stroke-width=\"3.2\"/>\n",
       "<circle clip-path=\"url(#clip4802)\" cx=\"1430.6\" cy=\"647.251\" r=\"14\" fill=\"#009af9\" fill-rule=\"evenodd\" fill-opacity=\"1\" stroke=\"#000000\" stroke-opacity=\"1\" stroke-width=\"3.2\"/>\n",
       "<circle clip-path=\"url(#clip4802)\" cx=\"1511.49\" cy=\"624.126\" r=\"14\" fill=\"#009af9\" fill-rule=\"evenodd\" fill-opacity=\"1\" stroke=\"#000000\" stroke-opacity=\"1\" stroke-width=\"3.2\"/>\n",
       "<circle clip-path=\"url(#clip4802)\" cx=\"1429.24\" cy=\"657.926\" r=\"14\" fill=\"#009af9\" fill-rule=\"evenodd\" fill-opacity=\"1\" stroke=\"#000000\" stroke-opacity=\"1\" stroke-width=\"3.2\"/>\n",
       "<circle clip-path=\"url(#clip4802)\" cx=\"1523.67\" cy=\"754.906\" r=\"14\" fill=\"#009af9\" fill-rule=\"evenodd\" fill-opacity=\"1\" stroke=\"#000000\" stroke-opacity=\"1\" stroke-width=\"3.2\"/>\n",
       "<circle clip-path=\"url(#clip4802)\" cx=\"909.236\" cy=\"232.648\" r=\"14\" fill=\"#009af9\" fill-rule=\"evenodd\" fill-opacity=\"1\" stroke=\"#000000\" stroke-opacity=\"1\" stroke-width=\"3.2\"/>\n",
       "<circle clip-path=\"url(#clip4802)\" cx=\"932.466\" cy=\"272.871\" r=\"14\" fill=\"#009af9\" fill-rule=\"evenodd\" fill-opacity=\"1\" stroke=\"#000000\" stroke-opacity=\"1\" stroke-width=\"3.2\"/>\n",
       "<circle clip-path=\"url(#clip4802)\" cx=\"1288.34\" cy=\"448.883\" r=\"14\" fill=\"#009af9\" fill-rule=\"evenodd\" fill-opacity=\"1\" stroke=\"#000000\" stroke-opacity=\"1\" stroke-width=\"3.2\"/>\n",
       "<circle clip-path=\"url(#clip4802)\" cx=\"932.466\" cy=\"272.871\" r=\"14\" fill=\"#009af9\" fill-rule=\"evenodd\" fill-opacity=\"1\" stroke=\"#000000\" stroke-opacity=\"1\" stroke-width=\"3.2\"/>\n",
       "<circle clip-path=\"url(#clip4802)\" cx=\"899.433\" cy=\"398.25\" r=\"14\" fill=\"#009af9\" fill-rule=\"evenodd\" fill-opacity=\"1\" stroke=\"#000000\" stroke-opacity=\"1\" stroke-width=\"3.2\"/>\n",
       "<circle clip-path=\"url(#clip4802)\" cx=\"1523.67\" cy=\"754.906\" r=\"14\" fill=\"#009af9\" fill-rule=\"evenodd\" fill-opacity=\"1\" stroke=\"#000000\" stroke-opacity=\"1\" stroke-width=\"3.2\"/>\n",
       "<circle clip-path=\"url(#clip4802)\" cx=\"1511.49\" cy=\"624.126\" r=\"14\" fill=\"#009af9\" fill-rule=\"evenodd\" fill-opacity=\"1\" stroke=\"#000000\" stroke-opacity=\"1\" stroke-width=\"3.2\"/>\n",
       "<circle clip-path=\"url(#clip4802)\" cx=\"982.335\" cy=\"323.437\" r=\"14\" fill=\"#009af9\" fill-rule=\"evenodd\" fill-opacity=\"1\" stroke=\"#000000\" stroke-opacity=\"1\" stroke-width=\"3.2\"/>\n",
       "<circle clip-path=\"url(#clip4802)\" cx=\"1507.47\" cy=\"696.215\" r=\"14\" fill=\"#009af9\" fill-rule=\"evenodd\" fill-opacity=\"1\" stroke=\"#000000\" stroke-opacity=\"1\" stroke-width=\"3.2\"/>\n",
       "<circle clip-path=\"url(#clip4802)\" cx=\"1507.47\" cy=\"696.215\" r=\"14\" fill=\"#009af9\" fill-rule=\"evenodd\" fill-opacity=\"1\" stroke=\"#000000\" stroke-opacity=\"1\" stroke-width=\"3.2\"/>\n",
       "<circle clip-path=\"url(#clip4802)\" cx=\"999.359\" cy=\"349.978\" r=\"14\" fill=\"#009af9\" fill-rule=\"evenodd\" fill-opacity=\"1\" stroke=\"#000000\" stroke-opacity=\"1\" stroke-width=\"3.2\"/>\n",
       "<circle clip-path=\"url(#clip4802)\" cx=\"932.466\" cy=\"272.871\" r=\"14\" fill=\"#009af9\" fill-rule=\"evenodd\" fill-opacity=\"1\" stroke=\"#000000\" stroke-opacity=\"1\" stroke-width=\"3.2\"/>\n",
       "<circle clip-path=\"url(#clip4802)\" cx=\"1511.49\" cy=\"624.126\" r=\"14\" fill=\"#009af9\" fill-rule=\"evenodd\" fill-opacity=\"1\" stroke=\"#000000\" stroke-opacity=\"1\" stroke-width=\"3.2\"/>\n",
       "<circle clip-path=\"url(#clip4802)\" cx=\"1565.58\" cy=\"830.566\" r=\"14\" fill=\"#009af9\" fill-rule=\"evenodd\" fill-opacity=\"1\" stroke=\"#000000\" stroke-opacity=\"1\" stroke-width=\"3.2\"/>\n",
       "<circle clip-path=\"url(#clip4802)\" cx=\"1159.52\" cy=\"632.161\" r=\"14\" fill=\"#009af9\" fill-rule=\"evenodd\" fill-opacity=\"1\" stroke=\"#000000\" stroke-opacity=\"1\" stroke-width=\"3.2\"/>\n",
       "<circle clip-path=\"url(#clip4802)\" cx=\"1550.94\" cy=\"1057.07\" r=\"14\" fill=\"#009af9\" fill-rule=\"evenodd\" fill-opacity=\"1\" stroke=\"#000000\" stroke-opacity=\"1\" stroke-width=\"3.2\"/>\n",
       "<circle clip-path=\"url(#clip4802)\" cx=\"983.768\" cy=\"493.387\" r=\"14\" fill=\"#009af9\" fill-rule=\"evenodd\" fill-opacity=\"1\" stroke=\"#000000\" stroke-opacity=\"1\" stroke-width=\"3.2\"/>\n",
       "<circle clip-path=\"url(#clip4802)\" cx=\"887.488\" cy=\"402.72\" r=\"14\" fill=\"#009af9\" fill-rule=\"evenodd\" fill-opacity=\"1\" stroke=\"#000000\" stroke-opacity=\"1\" stroke-width=\"3.2\"/>\n",
       "<circle clip-path=\"url(#clip4802)\" cx=\"1408.92\" cy=\"768.577\" r=\"14\" fill=\"#009af9\" fill-rule=\"evenodd\" fill-opacity=\"1\" stroke=\"#000000\" stroke-opacity=\"1\" stroke-width=\"3.2\"/>\n",
       "<circle clip-path=\"url(#clip4802)\" cx=\"938.416\" cy=\"616.722\" r=\"14\" fill=\"#009af9\" fill-rule=\"evenodd\" fill-opacity=\"1\" stroke=\"#000000\" stroke-opacity=\"1\" stroke-width=\"3.2\"/>\n",
       "<circle clip-path=\"url(#clip4802)\" cx=\"970.125\" cy=\"261.262\" r=\"14\" fill=\"#009af9\" fill-rule=\"evenodd\" fill-opacity=\"1\" stroke=\"#000000\" stroke-opacity=\"1\" stroke-width=\"3.2\"/>\n",
       "<circle clip-path=\"url(#clip4802)\" cx=\"876.033\" cy=\"238.38\" r=\"14\" fill=\"#009af9\" fill-rule=\"evenodd\" fill-opacity=\"1\" stroke=\"#000000\" stroke-opacity=\"1\" stroke-width=\"3.2\"/>\n",
       "<circle clip-path=\"url(#clip4802)\" cx=\"1406.85\" cy=\"866.676\" r=\"14\" fill=\"#009af9\" fill-rule=\"evenodd\" fill-opacity=\"1\" stroke=\"#000000\" stroke-opacity=\"1\" stroke-width=\"3.2\"/>\n",
       "<circle clip-path=\"url(#clip4802)\" cx=\"1420.41\" cy=\"811.621\" r=\"14\" fill=\"#009af9\" fill-rule=\"evenodd\" fill-opacity=\"1\" stroke=\"#000000\" stroke-opacity=\"1\" stroke-width=\"3.2\"/>\n",
       "<circle clip-path=\"url(#clip4802)\" cx=\"1258.65\" cy=\"670.427\" r=\"14\" fill=\"#009af9\" fill-rule=\"evenodd\" fill-opacity=\"1\" stroke=\"#000000\" stroke-opacity=\"1\" stroke-width=\"3.2\"/>\n",
       "<circle clip-path=\"url(#clip4802)\" cx=\"1031.19\" cy=\"463.573\" r=\"14\" fill=\"#009af9\" fill-rule=\"evenodd\" fill-opacity=\"1\" stroke=\"#000000\" stroke-opacity=\"1\" stroke-width=\"3.2\"/>\n",
       "<circle clip-path=\"url(#clip4802)\" cx=\"1395.47\" cy=\"710.629\" r=\"14\" fill=\"#009af9\" fill-rule=\"evenodd\" fill-opacity=\"1\" stroke=\"#000000\" stroke-opacity=\"1\" stroke-width=\"3.2\"/>\n",
       "<circle clip-path=\"url(#clip4802)\" cx=\"981.232\" cy=\"588.466\" r=\"14\" fill=\"#009af9\" fill-rule=\"evenodd\" fill-opacity=\"1\" stroke=\"#000000\" stroke-opacity=\"1\" stroke-width=\"3.2\"/>\n",
       "<circle clip-path=\"url(#clip4802)\" cx=\"1025.72\" cy=\"531.478\" r=\"14\" fill=\"#009af9\" fill-rule=\"evenodd\" fill-opacity=\"1\" stroke=\"#000000\" stroke-opacity=\"1\" stroke-width=\"3.2\"/>\n",
       "<circle clip-path=\"url(#clip4802)\" cx=\"1210.9\" cy=\"1416.53\" r=\"14\" fill=\"#009af9\" fill-rule=\"evenodd\" fill-opacity=\"1\" stroke=\"#000000\" stroke-opacity=\"1\" stroke-width=\"3.2\"/>\n",
       "<circle clip-path=\"url(#clip4802)\" cx=\"852.12\" cy=\"395.813\" r=\"14\" fill=\"#009af9\" fill-rule=\"evenodd\" fill-opacity=\"1\" stroke=\"#000000\" stroke-opacity=\"1\" stroke-width=\"3.2\"/>\n",
       "<circle clip-path=\"url(#clip4802)\" cx=\"752.279\" cy=\"450.044\" r=\"14\" fill=\"#009af9\" fill-rule=\"evenodd\" fill-opacity=\"1\" stroke=\"#000000\" stroke-opacity=\"1\" stroke-width=\"3.2\"/>\n",
       "<circle clip-path=\"url(#clip4802)\" cx=\"1009.84\" cy=\"525.987\" r=\"14\" fill=\"#009af9\" fill-rule=\"evenodd\" fill-opacity=\"1\" stroke=\"#000000\" stroke-opacity=\"1\" stroke-width=\"3.2\"/>\n",
       "<circle clip-path=\"url(#clip4802)\" cx=\"914.665\" cy=\"724.242\" r=\"14\" fill=\"#009af9\" fill-rule=\"evenodd\" fill-opacity=\"1\" stroke=\"#000000\" stroke-opacity=\"1\" stroke-width=\"3.2\"/>\n",
       "<circle clip-path=\"url(#clip4802)\" cx=\"634.018\" cy=\"466.207\" r=\"14\" fill=\"#009af9\" fill-rule=\"evenodd\" fill-opacity=\"1\" stroke=\"#000000\" stroke-opacity=\"1\" stroke-width=\"3.2\"/>\n",
       "<circle clip-path=\"url(#clip4802)\" cx=\"1325.88\" cy=\"1285.44\" r=\"14\" fill=\"#009af9\" fill-rule=\"evenodd\" fill-opacity=\"1\" stroke=\"#000000\" stroke-opacity=\"1\" stroke-width=\"3.2\"/>\n",
       "<circle clip-path=\"url(#clip4802)\" cx=\"740.047\" cy=\"449.785\" r=\"14\" fill=\"#009af9\" fill-rule=\"evenodd\" fill-opacity=\"1\" stroke=\"#000000\" stroke-opacity=\"1\" stroke-width=\"3.2\"/>\n",
       "<circle clip-path=\"url(#clip4802)\" cx=\"817.201\" cy=\"702.907\" r=\"14\" fill=\"#009af9\" fill-rule=\"evenodd\" fill-opacity=\"1\" stroke=\"#000000\" stroke-opacity=\"1\" stroke-width=\"3.2\"/>\n",
       "<circle clip-path=\"url(#clip4802)\" cx=\"879.958\" cy=\"1254.92\" r=\"14\" fill=\"#009af9\" fill-rule=\"evenodd\" fill-opacity=\"1\" stroke=\"#000000\" stroke-opacity=\"1\" stroke-width=\"3.2\"/>\n",
       "<circle clip-path=\"url(#clip4802)\" cx=\"1111.42\" cy=\"716.262\" r=\"14\" fill=\"#009af9\" fill-rule=\"evenodd\" fill-opacity=\"1\" stroke=\"#000000\" stroke-opacity=\"1\" stroke-width=\"3.2\"/>\n",
       "<circle clip-path=\"url(#clip4802)\" cx=\"891.852\" cy=\"685.313\" r=\"14\" fill=\"#009af9\" fill-rule=\"evenodd\" fill-opacity=\"1\" stroke=\"#000000\" stroke-opacity=\"1\" stroke-width=\"3.2\"/>\n",
       "<circle clip-path=\"url(#clip4802)\" cx=\"466.252\" cy=\"914.702\" r=\"14\" fill=\"#009af9\" fill-rule=\"evenodd\" fill-opacity=\"1\" stroke=\"#000000\" stroke-opacity=\"1\" stroke-width=\"3.2\"/>\n",
       "<circle clip-path=\"url(#clip4802)\" cx=\"979.179\" cy=\"927.145\" r=\"14\" fill=\"#009af9\" fill-rule=\"evenodd\" fill-opacity=\"1\" stroke=\"#000000\" stroke-opacity=\"1\" stroke-width=\"3.2\"/>\n",
       "<circle clip-path=\"url(#clip4802)\" cx=\"1207.04\" cy=\"574.268\" r=\"14\" fill=\"#009af9\" fill-rule=\"evenodd\" fill-opacity=\"1\" stroke=\"#000000\" stroke-opacity=\"1\" stroke-width=\"3.2\"/>\n",
       "<circle clip-path=\"url(#clip4802)\" cx=\"1023.27\" cy=\"192.545\" r=\"14\" fill=\"#009af9\" fill-rule=\"evenodd\" fill-opacity=\"1\" stroke=\"#000000\" stroke-opacity=\"1\" stroke-width=\"3.2\"/>\n",
       "<circle clip-path=\"url(#clip4802)\" cx=\"1445.68\" cy=\"817.797\" r=\"14\" fill=\"#009af9\" fill-rule=\"evenodd\" fill-opacity=\"1\" stroke=\"#000000\" stroke-opacity=\"1\" stroke-width=\"3.2\"/>\n",
       "<circle clip-path=\"url(#clip4802)\" cx=\"1303.44\" cy=\"613.268\" r=\"14\" fill=\"#009af9\" fill-rule=\"evenodd\" fill-opacity=\"1\" stroke=\"#000000\" stroke-opacity=\"1\" stroke-width=\"3.2\"/>\n",
       "<circle clip-path=\"url(#clip4802)\" cx=\"1507.47\" cy=\"696.215\" r=\"14\" fill=\"#009af9\" fill-rule=\"evenodd\" fill-opacity=\"1\" stroke=\"#000000\" stroke-opacity=\"1\" stroke-width=\"3.2\"/>\n",
       "<circle clip-path=\"url(#clip4802)\" cx=\"1207.04\" cy=\"574.268\" r=\"14\" fill=\"#009af9\" fill-rule=\"evenodd\" fill-opacity=\"1\" stroke=\"#000000\" stroke-opacity=\"1\" stroke-width=\"3.2\"/>\n",
       "<circle clip-path=\"url(#clip4802)\" cx=\"1009.84\" cy=\"525.987\" r=\"14\" fill=\"#009af9\" fill-rule=\"evenodd\" fill-opacity=\"1\" stroke=\"#000000\" stroke-opacity=\"1\" stroke-width=\"3.2\"/>\n",
       "<circle clip-path=\"url(#clip4802)\" cx=\"1189.72\" cy=\"428.692\" r=\"14\" fill=\"#009af9\" fill-rule=\"evenodd\" fill-opacity=\"1\" stroke=\"#000000\" stroke-opacity=\"1\" stroke-width=\"3.2\"/>\n",
       "<circle clip-path=\"url(#clip4802)\" cx=\"932.466\" cy=\"272.871\" r=\"14\" fill=\"#009af9\" fill-rule=\"evenodd\" fill-opacity=\"1\" stroke=\"#000000\" stroke-opacity=\"1\" stroke-width=\"3.2\"/>\n",
       "<circle clip-path=\"url(#clip4802)\" cx=\"909.236\" cy=\"232.648\" r=\"14\" fill=\"#009af9\" fill-rule=\"evenodd\" fill-opacity=\"1\" stroke=\"#000000\" stroke-opacity=\"1\" stroke-width=\"3.2\"/>\n",
       "<circle clip-path=\"url(#clip4802)\" cx=\"1543.28\" cy=\"617.822\" r=\"14\" fill=\"#009af9\" fill-rule=\"evenodd\" fill-opacity=\"1\" stroke=\"#000000\" stroke-opacity=\"1\" stroke-width=\"3.2\"/>\n",
       "<circle clip-path=\"url(#clip4802)\" cx=\"1204.63\" cy=\"450.645\" r=\"14\" fill=\"#009af9\" fill-rule=\"evenodd\" fill-opacity=\"1\" stroke=\"#000000\" stroke-opacity=\"1\" stroke-width=\"3.2\"/>\n",
       "<circle clip-path=\"url(#clip4802)\" cx=\"714.364\" cy=\"343.265\" r=\"14\" fill=\"#009af9\" fill-rule=\"evenodd\" fill-opacity=\"1\" stroke=\"#000000\" stroke-opacity=\"1\" stroke-width=\"3.2\"/>\n",
       "<circle clip-path=\"url(#clip4802)\" cx=\"1316.19\" cy=\"1160.24\" r=\"14\" fill=\"#009af9\" fill-rule=\"evenodd\" fill-opacity=\"1\" stroke=\"#000000\" stroke-opacity=\"1\" stroke-width=\"3.2\"/>\n",
       "<circle clip-path=\"url(#clip4802)\" cx=\"1024.67\" cy=\"397.18\" r=\"14\" fill=\"#009af9\" fill-rule=\"evenodd\" fill-opacity=\"1\" stroke=\"#000000\" stroke-opacity=\"1\" stroke-width=\"3.2\"/>\n",
       "<circle clip-path=\"url(#clip4802)\" cx=\"1819.57\" cy=\"902.926\" r=\"14\" fill=\"#009af9\" fill-rule=\"evenodd\" fill-opacity=\"1\" stroke=\"#000000\" stroke-opacity=\"1\" stroke-width=\"3.2\"/>\n",
       "<circle clip-path=\"url(#clip4802)\" cx=\"1265.55\" cy=\"615.739\" r=\"14\" fill=\"#009af9\" fill-rule=\"evenodd\" fill-opacity=\"1\" stroke=\"#000000\" stroke-opacity=\"1\" stroke-width=\"3.2\"/>\n",
       "<circle clip-path=\"url(#clip4802)\" cx=\"1240.24\" cy=\"568.537\" r=\"14\" fill=\"#009af9\" fill-rule=\"evenodd\" fill-opacity=\"1\" stroke=\"#000000\" stroke-opacity=\"1\" stroke-width=\"3.2\"/>\n",
       "<circle clip-path=\"url(#clip4802)\" cx=\"1079.96\" cy=\"779.168\" r=\"14\" fill=\"#009af9\" fill-rule=\"evenodd\" fill-opacity=\"1\" stroke=\"#000000\" stroke-opacity=\"1\" stroke-width=\"3.2\"/>\n",
       "<circle clip-path=\"url(#clip4802)\" cx=\"1698.18\" cy=\"1011.23\" r=\"14\" fill=\"#009af9\" fill-rule=\"evenodd\" fill-opacity=\"1\" stroke=\"#000000\" stroke-opacity=\"1\" stroke-width=\"3.2\"/>\n",
       "<circle clip-path=\"url(#clip4802)\" cx=\"1034.62\" cy=\"815.638\" r=\"14\" fill=\"#009af9\" fill-rule=\"evenodd\" fill-opacity=\"1\" stroke=\"#000000\" stroke-opacity=\"1\" stroke-width=\"3.2\"/>\n",
       "<circle clip-path=\"url(#clip4802)\" cx=\"1698.18\" cy=\"1011.23\" r=\"14\" fill=\"#009af9\" fill-rule=\"evenodd\" fill-opacity=\"1\" stroke=\"#000000\" stroke-opacity=\"1\" stroke-width=\"3.2\"/>\n",
       "<circle clip-path=\"url(#clip4802)\" cx=\"1691.48\" cy=\"814.071\" r=\"14\" fill=\"#009af9\" fill-rule=\"evenodd\" fill-opacity=\"1\" stroke=\"#000000\" stroke-opacity=\"1\" stroke-width=\"3.2\"/>\n",
       "<circle clip-path=\"url(#clip4802)\" cx=\"1288.34\" cy=\"448.883\" r=\"14\" fill=\"#009af9\" fill-rule=\"evenodd\" fill-opacity=\"1\" stroke=\"#000000\" stroke-opacity=\"1\" stroke-width=\"3.2\"/>\n",
       "<circle clip-path=\"url(#clip4802)\" cx=\"1628.25\" cy=\"1050.78\" r=\"14\" fill=\"#009af9\" fill-rule=\"evenodd\" fill-opacity=\"1\" stroke=\"#000000\" stroke-opacity=\"1\" stroke-width=\"3.2\"/>\n",
       "<circle clip-path=\"url(#clip4802)\" cx=\"1362.52\" cy=\"873.63\" r=\"14\" fill=\"#009af9\" fill-rule=\"evenodd\" fill-opacity=\"1\" stroke=\"#000000\" stroke-opacity=\"1\" stroke-width=\"3.2\"/>\n",
       "<circle clip-path=\"url(#clip4802)\" cx=\"1106.07\" cy=\"408.536\" r=\"14\" fill=\"#009af9\" fill-rule=\"evenodd\" fill-opacity=\"1\" stroke=\"#000000\" stroke-opacity=\"1\" stroke-width=\"3.2\"/>\n",
       "<circle clip-path=\"url(#clip4802)\" cx=\"1511.49\" cy=\"624.126\" r=\"14\" fill=\"#009af9\" fill-rule=\"evenodd\" fill-opacity=\"1\" stroke=\"#000000\" stroke-opacity=\"1\" stroke-width=\"3.2\"/>\n",
       "<circle clip-path=\"url(#clip4802)\" cx=\"1543.28\" cy=\"617.822\" r=\"14\" fill=\"#009af9\" fill-rule=\"evenodd\" fill-opacity=\"1\" stroke=\"#000000\" stroke-opacity=\"1\" stroke-width=\"3.2\"/>\n",
       "<circle clip-path=\"url(#clip4802)\" cx=\"1324.5\" cy=\"613.236\" r=\"14\" fill=\"#009af9\" fill-rule=\"evenodd\" fill-opacity=\"1\" stroke=\"#000000\" stroke-opacity=\"1\" stroke-width=\"3.2\"/>\n",
       "<circle clip-path=\"url(#clip4802)\" cx=\"1024.67\" cy=\"397.18\" r=\"14\" fill=\"#009af9\" fill-rule=\"evenodd\" fill-opacity=\"1\" stroke=\"#000000\" stroke-opacity=\"1\" stroke-width=\"3.2\"/>\n",
       "<circle clip-path=\"url(#clip4802)\" cx=\"1577.52\" cy=\"826.096\" r=\"14\" fill=\"#009af9\" fill-rule=\"evenodd\" fill-opacity=\"1\" stroke=\"#000000\" stroke-opacity=\"1\" stroke-width=\"3.2\"/>\n",
       "<circle clip-path=\"url(#clip4802)\" cx=\"1741.34\" cy=\"864.637\" r=\"14\" fill=\"#009af9\" fill-rule=\"evenodd\" fill-opacity=\"1\" stroke=\"#000000\" stroke-opacity=\"1\" stroke-width=\"3.2\"/>\n",
       "<circle clip-path=\"url(#clip4802)\" cx=\"966.156\" cy=\"355.709\" r=\"14\" fill=\"#009af9\" fill-rule=\"evenodd\" fill-opacity=\"1\" stroke=\"#000000\" stroke-opacity=\"1\" stroke-width=\"3.2\"/>\n",
       "<circle clip-path=\"url(#clip4802)\" cx=\"1001.92\" cy=\"254.959\" r=\"14\" fill=\"#009af9\" fill-rule=\"evenodd\" fill-opacity=\"1\" stroke=\"#000000\" stroke-opacity=\"1\" stroke-width=\"3.2\"/>\n",
       "<circle clip-path=\"url(#clip4802)\" cx=\"1543.28\" cy=\"617.822\" r=\"14\" fill=\"#009af9\" fill-rule=\"evenodd\" fill-opacity=\"1\" stroke=\"#000000\" stroke-opacity=\"1\" stroke-width=\"3.2\"/>\n",
       "<circle clip-path=\"url(#clip4802)\" cx=\"1819.57\" cy=\"902.926\" r=\"14\" fill=\"#e26f46\" fill-rule=\"evenodd\" fill-opacity=\"1\" stroke=\"#000000\" stroke-opacity=\"1\" stroke-width=\"3.2\"/>\n",
       "<circle clip-path=\"url(#clip4802)\" cx=\"1001.92\" cy=\"254.959\" r=\"14\" fill=\"#e26f46\" fill-rule=\"evenodd\" fill-opacity=\"1\" stroke=\"#000000\" stroke-opacity=\"1\" stroke-width=\"3.2\"/>\n",
       "<circle clip-path=\"url(#clip4802)\" cx=\"1430.6\" cy=\"647.251\" r=\"14\" fill=\"#e26f46\" fill-rule=\"evenodd\" fill-opacity=\"1\" stroke=\"#000000\" stroke-opacity=\"1\" stroke-width=\"3.2\"/>\n",
       "<circle clip-path=\"url(#clip4802)\" cx=\"1943.3\" cy=\"988.025\" r=\"14\" fill=\"#e26f46\" fill-rule=\"evenodd\" fill-opacity=\"1\" stroke=\"#000000\" stroke-opacity=\"1\" stroke-width=\"3.2\"/>\n",
       "<circle clip-path=\"url(#clip4802)\" cx=\"1336.65\" cy=\"607.537\" r=\"14\" fill=\"#e26f46\" fill-rule=\"evenodd\" fill-opacity=\"1\" stroke=\"#000000\" stroke-opacity=\"1\" stroke-width=\"3.2\"/>\n",
       "<circle clip-path=\"url(#clip4802)\" cx=\"1023.27\" cy=\"192.545\" r=\"14\" fill=\"#e26f46\" fill-rule=\"evenodd\" fill-opacity=\"1\" stroke=\"#000000\" stroke-opacity=\"1\" stroke-width=\"3.2\"/>\n",
       "<circle clip-path=\"url(#clip4802)\" cx=\"1207.04\" cy=\"574.268\" r=\"14\" fill=\"#e26f46\" fill-rule=\"evenodd\" fill-opacity=\"1\" stroke=\"#000000\" stroke-opacity=\"1\" stroke-width=\"3.2\"/>\n",
       "<circle clip-path=\"url(#clip4802)\" cx=\"1698.18\" cy=\"1011.23\" r=\"14\" fill=\"#e26f46\" fill-rule=\"evenodd\" fill-opacity=\"1\" stroke=\"#000000\" stroke-opacity=\"1\" stroke-width=\"3.2\"/>\n",
       "<circle clip-path=\"url(#clip4802)\" cx=\"1336.65\" cy=\"607.537\" r=\"14\" fill=\"#e26f46\" fill-rule=\"evenodd\" fill-opacity=\"1\" stroke=\"#000000\" stroke-opacity=\"1\" stroke-width=\"3.2\"/>\n",
       "<circle clip-path=\"url(#clip4802)\" cx=\"1130.84\" cy=\"327.904\" r=\"14\" fill=\"#e26f46\" fill-rule=\"evenodd\" fill-opacity=\"1\" stroke=\"#000000\" stroke-opacity=\"1\" stroke-width=\"3.2\"/>\n",
       "<circle clip-path=\"url(#clip4802)\" cx=\"1386.11\" cy=\"642.028\" r=\"14\" fill=\"#e26f46\" fill-rule=\"evenodd\" fill-opacity=\"1\" stroke=\"#000000\" stroke-opacity=\"1\" stroke-width=\"3.2\"/>\n",
       "<circle clip-path=\"url(#clip4802)\" cx=\"1748.35\" cy=\"914.774\" r=\"14\" fill=\"#e26f46\" fill-rule=\"evenodd\" fill-opacity=\"1\" stroke=\"#000000\" stroke-opacity=\"1\" stroke-width=\"3.2\"/>\n",
       "<circle clip-path=\"url(#clip4802)\" cx=\"1543.28\" cy=\"617.822\" r=\"14\" fill=\"#e26f46\" fill-rule=\"evenodd\" fill-opacity=\"1\" stroke=\"#000000\" stroke-opacity=\"1\" stroke-width=\"3.2\"/>\n",
       "<circle clip-path=\"url(#clip4802)\" cx=\"1184.15\" cy=\"351.604\" r=\"14\" fill=\"#e26f46\" fill-rule=\"evenodd\" fill-opacity=\"1\" stroke=\"#000000\" stroke-opacity=\"1\" stroke-width=\"3.2\"/>\n",
       "<circle clip-path=\"url(#clip4802)\" cx=\"1013.47\" cy=\"358.147\" r=\"14\" fill=\"#e26f46\" fill-rule=\"evenodd\" fill-opacity=\"1\" stroke=\"#000000\" stroke-opacity=\"1\" stroke-width=\"3.2\"/>\n",
       "<circle clip-path=\"url(#clip4802)\" cx=\"1388.09\" cy=\"595.629\" r=\"14\" fill=\"#e26f46\" fill-rule=\"evenodd\" fill-opacity=\"1\" stroke=\"#000000\" stroke-opacity=\"1\" stroke-width=\"3.2\"/>\n",
       "<circle clip-path=\"url(#clip4802)\" cx=\"1734.29\" cy=\"785.815\" r=\"14\" fill=\"#e26f46\" fill-rule=\"evenodd\" fill-opacity=\"1\" stroke=\"#000000\" stroke-opacity=\"1\" stroke-width=\"3.2\"/>\n",
       "<circle clip-path=\"url(#clip4802)\" cx=\"1240.24\" cy=\"568.537\" r=\"14\" fill=\"#e26f46\" fill-rule=\"evenodd\" fill-opacity=\"1\" stroke=\"#000000\" stroke-opacity=\"1\" stroke-width=\"3.2\"/>\n",
       "<circle clip-path=\"url(#clip4802)\" cx=\"1292.47\" cy=\"377.634\" r=\"14\" fill=\"#e26f46\" fill-rule=\"evenodd\" fill-opacity=\"1\" stroke=\"#000000\" stroke-opacity=\"1\" stroke-width=\"3.2\"/>\n",
       "<circle clip-path=\"url(#clip4802)\" cx=\"1046.62\" cy=\"225.879\" r=\"14\" fill=\"#e26f46\" fill-rule=\"evenodd\" fill-opacity=\"1\" stroke=\"#000000\" stroke-opacity=\"1\" stroke-width=\"3.2\"/>\n",
       "<circle clip-path=\"url(#clip4802)\" cx=\"998.991\" cy=\"290.66\" r=\"14\" fill=\"#e26f46\" fill-rule=\"evenodd\" fill-opacity=\"1\" stroke=\"#000000\" stroke-opacity=\"1\" stroke-width=\"3.2\"/>\n",
       "<circle clip-path=\"url(#clip4802)\" cx=\"1287.5\" cy=\"444.438\" r=\"14\" fill=\"#e26f46\" fill-rule=\"evenodd\" fill-opacity=\"1\" stroke=\"#000000\" stroke-opacity=\"1\" stroke-width=\"3.2\"/>\n",
       "<circle clip-path=\"url(#clip4802)\" cx=\"1067.97\" cy=\"196.538\" r=\"14\" fill=\"#e26f46\" fill-rule=\"evenodd\" fill-opacity=\"1\" stroke=\"#000000\" stroke-opacity=\"1\" stroke-width=\"3.2\"/>\n",
       "<circle clip-path=\"url(#clip4802)\" cx=\"1337.16\" cy=\"381.627\" r=\"14\" fill=\"#e26f46\" fill-rule=\"evenodd\" fill-opacity=\"1\" stroke=\"#000000\" stroke-opacity=\"1\" stroke-width=\"3.2\"/>\n",
       "<circle clip-path=\"url(#clip4802)\" cx=\"1698.18\" cy=\"1011.23\" r=\"14\" fill=\"#e26f46\" fill-rule=\"evenodd\" fill-opacity=\"1\" stroke=\"#000000\" stroke-opacity=\"1\" stroke-width=\"3.2\"/>\n",
       "<circle clip-path=\"url(#clip4802)\" cx=\"1369.68\" cy=\"482.157\" r=\"14\" fill=\"#e26f46\" fill-rule=\"evenodd\" fill-opacity=\"1\" stroke=\"#000000\" stroke-opacity=\"1\" stroke-width=\"3.2\"/>\n",
       "<circle clip-path=\"url(#clip4802)\" cx=\"1410.39\" cy=\"709.796\" r=\"14\" fill=\"#e26f46\" fill-rule=\"evenodd\" fill-opacity=\"1\" stroke=\"#000000\" stroke-opacity=\"1\" stroke-width=\"3.2\"/>\n",
       "<circle clip-path=\"url(#clip4802)\" cx=\"1047.46\" cy=\"230.324\" r=\"14\" fill=\"#e26f46\" fill-rule=\"evenodd\" fill-opacity=\"1\" stroke=\"#000000\" stroke-opacity=\"1\" stroke-width=\"3.2\"/>\n",
       "<circle clip-path=\"url(#clip4802)\" cx=\"1943.3\" cy=\"988.025\" r=\"14\" fill=\"#e26f46\" fill-rule=\"evenodd\" fill-opacity=\"1\" stroke=\"#000000\" stroke-opacity=\"1\" stroke-width=\"3.2\"/>\n",
       "<circle clip-path=\"url(#clip4802)\" cx=\"1520.89\" cy=\"826.572\" r=\"14\" fill=\"#e26f46\" fill-rule=\"evenodd\" fill-opacity=\"1\" stroke=\"#000000\" stroke-opacity=\"1\" stroke-width=\"3.2\"/>\n",
       "<circle clip-path=\"url(#clip4802)\" cx=\"1617.27\" cy=\"897.878\" r=\"14\" fill=\"#e26f46\" fill-rule=\"evenodd\" fill-opacity=\"1\" stroke=\"#000000\" stroke-opacity=\"1\" stroke-width=\"3.2\"/>\n",
       "<circle clip-path=\"url(#clip4802)\" cx=\"1609.33\" cy=\"559.402\" r=\"14\" fill=\"#e26f46\" fill-rule=\"evenodd\" fill-opacity=\"1\" stroke=\"#000000\" stroke-opacity=\"1\" stroke-width=\"3.2\"/>\n",
       "<circle clip-path=\"url(#clip4802)\" cx=\"1189.72\" cy=\"428.692\" r=\"14\" fill=\"#e26f46\" fill-rule=\"evenodd\" fill-opacity=\"1\" stroke=\"#000000\" stroke-opacity=\"1\" stroke-width=\"3.2\"/>\n",
       "<circle clip-path=\"url(#clip4802)\" cx=\"1532.48\" cy=\"757.648\" r=\"14\" fill=\"#e26f46\" fill-rule=\"evenodd\" fill-opacity=\"1\" stroke=\"#000000\" stroke-opacity=\"1\" stroke-width=\"3.2\"/>\n",
       "<circle clip-path=\"url(#clip4802)\" cx=\"1565.67\" cy=\"769.413\" r=\"14\" fill=\"#e26f46\" fill-rule=\"evenodd\" fill-opacity=\"1\" stroke=\"#000000\" stroke-opacity=\"1\" stroke-width=\"3.2\"/>\n",
       "<circle clip-path=\"url(#clip4802)\" cx=\"1164.04\" cy=\"322.172\" r=\"14\" fill=\"#e26f46\" fill-rule=\"evenodd\" fill-opacity=\"1\" stroke=\"#000000\" stroke-opacity=\"1\" stroke-width=\"3.2\"/>\n",
       "<circle clip-path=\"url(#clip4802)\" cx=\"1131.8\" cy=\"325.461\" r=\"14\" fill=\"#e26f46\" fill-rule=\"evenodd\" fill-opacity=\"1\" stroke=\"#000000\" stroke-opacity=\"1\" stroke-width=\"3.2\"/>\n",
       "<circle clip-path=\"url(#clip4802)\" cx=\"1741.34\" cy=\"864.637\" r=\"14\" fill=\"#e26f46\" fill-rule=\"evenodd\" fill-opacity=\"1\" stroke=\"#000000\" stroke-opacity=\"1\" stroke-width=\"3.2\"/>\n",
       "<circle clip-path=\"url(#clip4802)\" cx=\"1023.27\" cy=\"192.545\" r=\"14\" fill=\"#e26f46\" fill-rule=\"evenodd\" fill-opacity=\"1\" stroke=\"#000000\" stroke-opacity=\"1\" stroke-width=\"3.2\"/>\n",
       "<circle clip-path=\"url(#clip4802)\" cx=\"1431.48\" cy=\"488.738\" r=\"14\" fill=\"#e26f46\" fill-rule=\"evenodd\" fill-opacity=\"1\" stroke=\"#000000\" stroke-opacity=\"1\" stroke-width=\"3.2\"/>\n",
       "<circle clip-path=\"url(#clip4802)\" cx=\"1024.67\" cy=\"397.18\" r=\"14\" fill=\"#e26f46\" fill-rule=\"evenodd\" fill-opacity=\"1\" stroke=\"#000000\" stroke-opacity=\"1\" stroke-width=\"3.2\"/>\n",
       "<circle clip-path=\"url(#clip4802)\" cx=\"1536.97\" cy=\"683.563\" r=\"14\" fill=\"#e26f46\" fill-rule=\"evenodd\" fill-opacity=\"1\" stroke=\"#000000\" stroke-opacity=\"1\" stroke-width=\"3.2\"/>\n",
       "<circle clip-path=\"url(#clip4802)\" cx=\"1409.25\" cy=\"709.665\" r=\"14\" fill=\"#e26f46\" fill-rule=\"evenodd\" fill-opacity=\"1\" stroke=\"#000000\" stroke-opacity=\"1\" stroke-width=\"3.2\"/>\n",
       "<circle clip-path=\"url(#clip4802)\" cx=\"966.156\" cy=\"355.709\" r=\"14\" fill=\"#e26f46\" fill-rule=\"evenodd\" fill-opacity=\"1\" stroke=\"#000000\" stroke-opacity=\"1\" stroke-width=\"3.2\"/>\n",
       "<circle clip-path=\"url(#clip4802)\" cx=\"1452.75\" cy=\"526.992\" r=\"14\" fill=\"#e26f46\" fill-rule=\"evenodd\" fill-opacity=\"1\" stroke=\"#000000\" stroke-opacity=\"1\" stroke-width=\"3.2\"/>\n",
       "<circle clip-path=\"url(#clip4802)\" cx=\"1784.16\" cy=\"836.381\" r=\"14\" fill=\"#e26f46\" fill-rule=\"evenodd\" fill-opacity=\"1\" stroke=\"#000000\" stroke-opacity=\"1\" stroke-width=\"3.2\"/>\n",
       "<circle clip-path=\"url(#clip4802)\" cx=\"1448.06\" cy=\"568.989\" r=\"14\" fill=\"#e26f46\" fill-rule=\"evenodd\" fill-opacity=\"1\" stroke=\"#000000\" stroke-opacity=\"1\" stroke-width=\"3.2\"/>\n",
       "<circle clip-path=\"url(#clip4802)\" cx=\"1097.8\" cy=\"453.283\" r=\"14\" fill=\"#e26f46\" fill-rule=\"evenodd\" fill-opacity=\"1\" stroke=\"#000000\" stroke-opacity=\"1\" stroke-width=\"3.2\"/>\n",
       "<circle clip-path=\"url(#clip4802)\" cx=\"1691.48\" cy=\"814.071\" r=\"14\" fill=\"#e26f46\" fill-rule=\"evenodd\" fill-opacity=\"1\" stroke=\"#000000\" stroke-opacity=\"1\" stroke-width=\"3.2\"/>\n",
       "<circle clip-path=\"url(#clip4802)\" cx=\"1047.46\" cy=\"230.324\" r=\"14\" fill=\"#e26f46\" fill-rule=\"evenodd\" fill-opacity=\"1\" stroke=\"#000000\" stroke-opacity=\"1\" stroke-width=\"3.2\"/>\n",
       "<circle clip-path=\"url(#clip4802)\" cx=\"1611.89\" cy=\"678.635\" r=\"14\" fill=\"#e26f46\" fill-rule=\"evenodd\" fill-opacity=\"1\" stroke=\"#000000\" stroke-opacity=\"1\" stroke-width=\"3.2\"/>\n",
       "<circle clip-path=\"url(#clip4802)\" cx=\"1748.35\" cy=\"914.774\" r=\"14\" fill=\"#e26f46\" fill-rule=\"evenodd\" fill-opacity=\"1\" stroke=\"#000000\" stroke-opacity=\"1\" stroke-width=\"3.2\"/>\n",
       "<circle clip-path=\"url(#clip4802)\" cx=\"1769.7\" cy=\"852.36\" r=\"14\" fill=\"#e26f46\" fill-rule=\"evenodd\" fill-opacity=\"1\" stroke=\"#000000\" stroke-opacity=\"1\" stroke-width=\"3.2\"/>\n",
       "<circle clip-path=\"url(#clip4802)\" cx=\"1448.06\" cy=\"568.989\" r=\"14\" fill=\"#e26f46\" fill-rule=\"evenodd\" fill-opacity=\"1\" stroke=\"#000000\" stroke-opacity=\"1\" stroke-width=\"3.2\"/>\n",
       "<circle clip-path=\"url(#clip4802)\" cx=\"1015.54\" cy=\"317.705\" r=\"14\" fill=\"#e26f46\" fill-rule=\"evenodd\" fill-opacity=\"1\" stroke=\"#000000\" stroke-opacity=\"1\" stroke-width=\"3.2\"/>\n",
       "<circle clip-path=\"url(#clip4802)\" cx=\"1528.82\" cy=\"633.801\" r=\"14\" fill=\"#e26f46\" fill-rule=\"evenodd\" fill-opacity=\"1\" stroke=\"#000000\" stroke-opacity=\"1\" stroke-width=\"3.2\"/>\n",
       "<circle clip-path=\"url(#clip4802)\" cx=\"1294.47\" cy=\"473.382\" r=\"14\" fill=\"#e26f46\" fill-rule=\"evenodd\" fill-opacity=\"1\" stroke=\"#000000\" stroke-opacity=\"1\" stroke-width=\"3.2\"/>\n",
       "<circle clip-path=\"url(#clip4802)\" cx=\"1398.89\" cy=\"455.802\" r=\"14\" fill=\"#e26f46\" fill-rule=\"evenodd\" fill-opacity=\"1\" stroke=\"#000000\" stroke-opacity=\"1\" stroke-width=\"3.2\"/>\n",
       "<circle clip-path=\"url(#clip4802)\" cx=\"1264.15\" cy=\"411.104\" r=\"14\" fill=\"#e26f46\" fill-rule=\"evenodd\" fill-opacity=\"1\" stroke=\"#000000\" stroke-opacity=\"1\" stroke-width=\"3.2\"/>\n",
       "<circle clip-path=\"url(#clip4802)\" cx=\"1315.82\" cy=\"410.968\" r=\"14\" fill=\"#e26f46\" fill-rule=\"evenodd\" fill-opacity=\"1\" stroke=\"#000000\" stroke-opacity=\"1\" stroke-width=\"3.2\"/>\n",
       "<circle clip-path=\"url(#clip4802)\" cx=\"1289.33\" cy=\"445.558\" r=\"14\" fill=\"#e26f46\" fill-rule=\"evenodd\" fill-opacity=\"1\" stroke=\"#000000\" stroke-opacity=\"1\" stroke-width=\"3.2\"/>\n",
       "<circle clip-path=\"url(#clip4802)\" cx=\"1207.04\" cy=\"574.268\" r=\"14\" fill=\"#e26f46\" fill-rule=\"evenodd\" fill-opacity=\"1\" stroke=\"#000000\" stroke-opacity=\"1\" stroke-width=\"3.2\"/>\n",
       "<circle clip-path=\"url(#clip4802)\" cx=\"966.156\" cy=\"355.709\" r=\"14\" fill=\"#e26f46\" fill-rule=\"evenodd\" fill-opacity=\"1\" stroke=\"#000000\" stroke-opacity=\"1\" stroke-width=\"3.2\"/>\n",
       "<circle clip-path=\"url(#clip4802)\" cx=\"1303.44\" cy=\"613.268\" r=\"14\" fill=\"#e26f46\" fill-rule=\"evenodd\" fill-opacity=\"1\" stroke=\"#000000\" stroke-opacity=\"1\" stroke-width=\"3.2\"/>\n",
       "<circle clip-path=\"url(#clip4802)\" cx=\"1693.63\" cy=\"745.551\" r=\"14\" fill=\"#e26f46\" fill-rule=\"evenodd\" fill-opacity=\"1\" stroke=\"#000000\" stroke-opacity=\"1\" stroke-width=\"3.2\"/>\n",
       "<circle clip-path=\"url(#clip4802)\" cx=\"1578.69\" cy=\"684.367\" r=\"14\" fill=\"#e26f46\" fill-rule=\"evenodd\" fill-opacity=\"1\" stroke=\"#000000\" stroke-opacity=\"1\" stroke-width=\"3.2\"/>\n",
       "<circle clip-path=\"url(#clip4802)\" cx=\"1777.85\" cy=\"902.122\" r=\"14\" fill=\"#e26f46\" fill-rule=\"evenodd\" fill-opacity=\"1\" stroke=\"#000000\" stroke-opacity=\"1\" stroke-width=\"3.2\"/>\n",
       "<circle clip-path=\"url(#clip4802)\" cx=\"1430.6\" cy=\"647.251\" r=\"14\" fill=\"#e26f46\" fill-rule=\"evenodd\" fill-opacity=\"1\" stroke=\"#000000\" stroke-opacity=\"1\" stroke-width=\"3.2\"/>\n",
       "<circle clip-path=\"url(#clip4802)\" cx=\"1303.44\" cy=\"613.268\" r=\"14\" fill=\"#e26f46\" fill-rule=\"evenodd\" fill-opacity=\"1\" stroke=\"#000000\" stroke-opacity=\"1\" stroke-width=\"3.2\"/>\n",
       "<circle clip-path=\"url(#clip4802)\" cx=\"1106.07\" cy=\"408.536\" r=\"14\" fill=\"#e26f46\" fill-rule=\"evenodd\" fill-opacity=\"1\" stroke=\"#000000\" stroke-opacity=\"1\" stroke-width=\"3.2\"/>\n",
       "<circle clip-path=\"url(#clip4802)\" cx=\"1452.75\" cy=\"526.992\" r=\"14\" fill=\"#e26f46\" fill-rule=\"evenodd\" fill-opacity=\"1\" stroke=\"#000000\" stroke-opacity=\"1\" stroke-width=\"3.2\"/>\n",
       "<circle clip-path=\"url(#clip4802)\" cx=\"1106.07\" cy=\"408.536\" r=\"14\" fill=\"#e26f46\" fill-rule=\"evenodd\" fill-opacity=\"1\" stroke=\"#000000\" stroke-opacity=\"1\" stroke-width=\"3.2\"/>\n",
       "<circle clip-path=\"url(#clip4802)\" cx=\"1556.7\" cy=\"629.527\" r=\"14\" fill=\"#e26f46\" fill-rule=\"evenodd\" fill-opacity=\"1\" stroke=\"#000000\" stroke-opacity=\"1\" stroke-width=\"3.2\"/>\n",
       "<circle clip-path=\"url(#clip4802)\" cx=\"1556.7\" cy=\"629.527\" r=\"14\" fill=\"#e26f46\" fill-rule=\"evenodd\" fill-opacity=\"1\" stroke=\"#000000\" stroke-opacity=\"1\" stroke-width=\"3.2\"/>\n",
       "<circle clip-path=\"url(#clip4802)\" cx=\"1315.82\" cy=\"410.968\" r=\"14\" fill=\"#e26f46\" fill-rule=\"evenodd\" fill-opacity=\"1\" stroke=\"#000000\" stroke-opacity=\"1\" stroke-width=\"3.2\"/>\n",
       "<circle clip-path=\"url(#clip4802)\" cx=\"1282.79\" cy=\"536.347\" r=\"14\" fill=\"#e26f46\" fill-rule=\"evenodd\" fill-opacity=\"1\" stroke=\"#000000\" stroke-opacity=\"1\" stroke-width=\"3.2\"/>\n",
       "<circle clip-path=\"url(#clip4802)\" cx=\"1784.16\" cy=\"836.381\" r=\"14\" fill=\"#e26f46\" fill-rule=\"evenodd\" fill-opacity=\"1\" stroke=\"#000000\" stroke-opacity=\"1\" stroke-width=\"3.2\"/>\n",
       "<circle clip-path=\"url(#clip4802)\" cx=\"1386.11\" cy=\"642.028\" r=\"14\" fill=\"#e26f46\" fill-rule=\"evenodd\" fill-opacity=\"1\" stroke=\"#000000\" stroke-opacity=\"1\" stroke-width=\"3.2\"/>\n",
       "<circle clip-path=\"url(#clip4802)\" cx=\"1067.97\" cy=\"196.538\" r=\"14\" fill=\"#e26f46\" fill-rule=\"evenodd\" fill-opacity=\"1\" stroke=\"#000000\" stroke-opacity=\"1\" stroke-width=\"3.2\"/>\n",
       "<circle clip-path=\"url(#clip4802)\" cx=\"1578.69\" cy=\"684.367\" r=\"14\" fill=\"#e26f46\" fill-rule=\"evenodd\" fill-opacity=\"1\" stroke=\"#000000\" stroke-opacity=\"1\" stroke-width=\"3.2\"/>\n",
       "<circle clip-path=\"url(#clip4802)\" cx=\"1430.91\" cy=\"567.373\" r=\"14\" fill=\"#e26f46\" fill-rule=\"evenodd\" fill-opacity=\"1\" stroke=\"#000000\" stroke-opacity=\"1\" stroke-width=\"3.2\"/>\n",
       "<circle clip-path=\"url(#clip4802)\" cx=\"1777.85\" cy=\"902.122\" r=\"14\" fill=\"#e26f46\" fill-rule=\"evenodd\" fill-opacity=\"1\" stroke=\"#000000\" stroke-opacity=\"1\" stroke-width=\"3.2\"/>\n",
       "<circle clip-path=\"url(#clip4802)\" cx=\"1493.41\" cy=\"567.256\" r=\"14\" fill=\"#e26f46\" fill-rule=\"evenodd\" fill-opacity=\"1\" stroke=\"#000000\" stroke-opacity=\"1\" stroke-width=\"3.2\"/>\n",
       "<circle clip-path=\"url(#clip4802)\" cx=\"1430.91\" cy=\"567.373\" r=\"14\" fill=\"#e26f46\" fill-rule=\"evenodd\" fill-opacity=\"1\" stroke=\"#000000\" stroke-opacity=\"1\" stroke-width=\"3.2\"/>\n",
       "<circle clip-path=\"url(#clip4802)\" cx=\"1097.8\" cy=\"453.283\" r=\"14\" fill=\"#e26f46\" fill-rule=\"evenodd\" fill-opacity=\"1\" stroke=\"#000000\" stroke-opacity=\"1\" stroke-width=\"3.2\"/>\n",
       "<circle clip-path=\"url(#clip4802)\" cx=\"1528.82\" cy=\"633.801\" r=\"14\" fill=\"#e26f46\" fill-rule=\"evenodd\" fill-opacity=\"1\" stroke=\"#000000\" stroke-opacity=\"1\" stroke-width=\"3.2\"/>\n",
       "<circle clip-path=\"url(#clip4802)\" cx=\"1294.47\" cy=\"473.382\" r=\"14\" fill=\"#e26f46\" fill-rule=\"evenodd\" fill-opacity=\"1\" stroke=\"#000000\" stroke-opacity=\"1\" stroke-width=\"3.2\"/>\n",
       "<circle clip-path=\"url(#clip4802)\" cx=\"1450.6\" cy=\"595.512\" r=\"14\" fill=\"#e26f46\" fill-rule=\"evenodd\" fill-opacity=\"1\" stroke=\"#000000\" stroke-opacity=\"1\" stroke-width=\"3.2\"/>\n",
       "<circle clip-path=\"url(#clip4802)\" cx=\"1190.03\" cy=\"348.814\" r=\"14\" fill=\"#e26f46\" fill-rule=\"evenodd\" fill-opacity=\"1\" stroke=\"#000000\" stroke-opacity=\"1\" stroke-width=\"3.2\"/>\n",
       "<circle clip-path=\"url(#clip4802)\" cx=\"1001.92\" cy=\"254.959\" r=\"14\" fill=\"#e26f46\" fill-rule=\"evenodd\" fill-opacity=\"1\" stroke=\"#000000\" stroke-opacity=\"1\" stroke-width=\"3.2\"/>\n",
       "<circle clip-path=\"url(#clip4802)\" cx=\"1536.97\" cy=\"683.563\" r=\"14\" fill=\"#e26f46\" fill-rule=\"evenodd\" fill-opacity=\"1\" stroke=\"#000000\" stroke-opacity=\"1\" stroke-width=\"3.2\"/>\n",
       "<circle clip-path=\"url(#clip4802)\" cx=\"1450.6\" cy=\"595.512\" r=\"14\" fill=\"#e26f46\" fill-rule=\"evenodd\" fill-opacity=\"1\" stroke=\"#000000\" stroke-opacity=\"1\" stroke-width=\"3.2\"/>\n",
       "<circle clip-path=\"url(#clip4802)\" cx=\"1702.42\" cy=\"769.466\" r=\"14\" fill=\"#e26f46\" fill-rule=\"evenodd\" fill-opacity=\"1\" stroke=\"#000000\" stroke-opacity=\"1\" stroke-width=\"3.2\"/>\n",
       "<circle clip-path=\"url(#clip4802)\" cx=\"1691.48\" cy=\"814.071\" r=\"14\" fill=\"#e26f46\" fill-rule=\"evenodd\" fill-opacity=\"1\" stroke=\"#000000\" stroke-opacity=\"1\" stroke-width=\"3.2\"/>\n",
       "<circle clip-path=\"url(#clip4802)\" cx=\"1702.42\" cy=\"769.466\" r=\"14\" fill=\"#e26f46\" fill-rule=\"evenodd\" fill-opacity=\"1\" stroke=\"#000000\" stroke-opacity=\"1\" stroke-width=\"3.2\"/>\n",
       "<circle clip-path=\"url(#clip4802)\" cx=\"1520.89\" cy=\"826.572\" r=\"14\" fill=\"#e26f46\" fill-rule=\"evenodd\" fill-opacity=\"1\" stroke=\"#000000\" stroke-opacity=\"1\" stroke-width=\"3.2\"/>\n",
       "<circle clip-path=\"url(#clip4802)\" cx=\"1190.03\" cy=\"348.814\" r=\"14\" fill=\"#e26f46\" fill-rule=\"evenodd\" fill-opacity=\"1\" stroke=\"#000000\" stroke-opacity=\"1\" stroke-width=\"3.2\"/>\n",
       "<circle clip-path=\"url(#clip4802)\" cx=\"1409.25\" cy=\"709.665\" r=\"14\" fill=\"#e26f46\" fill-rule=\"evenodd\" fill-opacity=\"1\" stroke=\"#000000\" stroke-opacity=\"1\" stroke-width=\"3.2\"/>\n",
       "<circle clip-path=\"url(#clip4802)\" cx=\"1289.33\" cy=\"445.558\" r=\"14\" fill=\"#e26f46\" fill-rule=\"evenodd\" fill-opacity=\"1\" stroke=\"#000000\" stroke-opacity=\"1\" stroke-width=\"3.2\"/>\n",
       "<circle clip-path=\"url(#clip4802)\" cx=\"1543.28\" cy=\"617.822\" r=\"14\" fill=\"#e26f46\" fill-rule=\"evenodd\" fill-opacity=\"1\" stroke=\"#000000\" stroke-opacity=\"1\" stroke-width=\"3.2\"/>\n",
       "<circle clip-path=\"url(#clip4802)\" cx=\"1189.72\" cy=\"428.692\" r=\"14\" fill=\"#e26f46\" fill-rule=\"evenodd\" fill-opacity=\"1\" stroke=\"#000000\" stroke-opacity=\"1\" stroke-width=\"3.2\"/>\n",
       "<circle clip-path=\"url(#clip4802)\" cx=\"1240.24\" cy=\"568.537\" r=\"14\" fill=\"#e26f46\" fill-rule=\"evenodd\" fill-opacity=\"1\" stroke=\"#000000\" stroke-opacity=\"1\" stroke-width=\"3.2\"/>\n",
       "<circle clip-path=\"url(#clip4802)\" cx=\"1047.46\" cy=\"230.324\" r=\"14\" fill=\"#e26f46\" fill-rule=\"evenodd\" fill-opacity=\"1\" stroke=\"#000000\" stroke-opacity=\"1\" stroke-width=\"3.2\"/>\n",
       "<circle clip-path=\"url(#clip4802)\" cx=\"1578.69\" cy=\"684.367\" r=\"14\" fill=\"#e26f46\" fill-rule=\"evenodd\" fill-opacity=\"1\" stroke=\"#000000\" stroke-opacity=\"1\" stroke-width=\"3.2\"/>\n",
       "<circle clip-path=\"url(#clip4802)\" cx=\"1748.35\" cy=\"914.774\" r=\"14\" fill=\"#e26f46\" fill-rule=\"evenodd\" fill-opacity=\"1\" stroke=\"#000000\" stroke-opacity=\"1\" stroke-width=\"3.2\"/>\n",
       "<circle clip-path=\"url(#clip4802)\" cx=\"1543.28\" cy=\"617.822\" r=\"14\" fill=\"#e26f46\" fill-rule=\"evenodd\" fill-opacity=\"1\" stroke=\"#000000\" stroke-opacity=\"1\" stroke-width=\"3.2\"/>\n",
       "<circle clip-path=\"url(#clip4802)\" cx=\"1047.46\" cy=\"230.324\" r=\"14\" fill=\"#e26f46\" fill-rule=\"evenodd\" fill-opacity=\"1\" stroke=\"#000000\" stroke-opacity=\"1\" stroke-width=\"3.2\"/>\n",
       "<circle clip-path=\"url(#clip4802)\" cx=\"1520.89\" cy=\"826.572\" r=\"14\" fill=\"#e26f46\" fill-rule=\"evenodd\" fill-opacity=\"1\" stroke=\"#000000\" stroke-opacity=\"1\" stroke-width=\"3.2\"/>\n",
       "<circle clip-path=\"url(#clip4802)\" cx=\"1189.72\" cy=\"428.692\" r=\"14\" fill=\"#e26f46\" fill-rule=\"evenodd\" fill-opacity=\"1\" stroke=\"#000000\" stroke-opacity=\"1\" stroke-width=\"3.2\"/>\n",
       "<circle clip-path=\"url(#clip4802)\" cx=\"1520.89\" cy=\"826.572\" r=\"14\" fill=\"#e26f46\" fill-rule=\"evenodd\" fill-opacity=\"1\" stroke=\"#000000\" stroke-opacity=\"1\" stroke-width=\"3.2\"/>\n",
       "<circle clip-path=\"url(#clip4802)\" cx=\"1001.92\" cy=\"254.959\" r=\"14\" fill=\"#e26f46\" fill-rule=\"evenodd\" fill-opacity=\"1\" stroke=\"#000000\" stroke-opacity=\"1\" stroke-width=\"3.2\"/>\n",
       "<circle clip-path=\"url(#clip4802)\" cx=\"1520.89\" cy=\"826.572\" r=\"14\" fill=\"#e26f46\" fill-rule=\"evenodd\" fill-opacity=\"1\" stroke=\"#000000\" stroke-opacity=\"1\" stroke-width=\"3.2\"/>\n",
       "<circle clip-path=\"url(#clip4802)\" cx=\"1240.24\" cy=\"568.537\" r=\"14\" fill=\"#e26f46\" fill-rule=\"evenodd\" fill-opacity=\"1\" stroke=\"#000000\" stroke-opacity=\"1\" stroke-width=\"3.2\"/>\n",
       "<circle clip-path=\"url(#clip4802)\" cx=\"1240.24\" cy=\"568.537\" r=\"14\" fill=\"#e26f46\" fill-rule=\"evenodd\" fill-opacity=\"1\" stroke=\"#000000\" stroke-opacity=\"1\" stroke-width=\"3.2\"/>\n",
       "<circle clip-path=\"url(#clip4802)\" cx=\"1543.28\" cy=\"617.822\" r=\"14\" fill=\"#e26f46\" fill-rule=\"evenodd\" fill-opacity=\"1\" stroke=\"#000000\" stroke-opacity=\"1\" stroke-width=\"3.2\"/>\n",
       "<circle clip-path=\"url(#clip4802)\" cx=\"1336.65\" cy=\"607.537\" r=\"14\" fill=\"#e26f46\" fill-rule=\"evenodd\" fill-opacity=\"1\" stroke=\"#000000\" stroke-opacity=\"1\" stroke-width=\"3.2\"/>\n",
       "<circle clip-path=\"url(#clip4802)\" cx=\"1336.65\" cy=\"607.537\" r=\"14\" fill=\"#e26f46\" fill-rule=\"evenodd\" fill-opacity=\"1\" stroke=\"#000000\" stroke-opacity=\"1\" stroke-width=\"3.2\"/>\n",
       "<circle clip-path=\"url(#clip4802)\" cx=\"1430.6\" cy=\"647.251\" r=\"14\" fill=\"#e26f46\" fill-rule=\"evenodd\" fill-opacity=\"1\" stroke=\"#000000\" stroke-opacity=\"1\" stroke-width=\"3.2\"/>\n",
       "</svg>\n"
      ]
     },
     "metadata": {},
     "output_type": "display_data"
    }
   ],
   "source": [
    "function plot_pop3d(P)\n",
    "    scatter3d([i.y[1] for i in P], [i.y[2] for i in P],[i.y[3] for i in P], xlims=(1.0,0.0,0.0), ylims=(0.0,1.0,0.0),zlims=(0.0,0.0,1.0), legend=:none)\n",
    "    ND = filter(indiv -> indiv.rank == 1, P)\n",
    "    scatter3d!([i.y[1] for i in ND], [i.y[2] for i in ND], [i.y[3] for i in ND], legend=:none)\n",
    "end\n",
    "\n",
    "nsga_max(popsize, nbgen, objective, init, fCV=constraint, fplot=plot_pop3d, plotevery=1, showprogress=false);"
   ]
  },
  {
   "cell_type": "markdown",
   "metadata": {
    "slideshow": {
     "slide_type": "slide"
    }
   },
   "source": [
    "Another way to look at the different objectives is to plot the different objectives on the `x` axis and the fitness values on the `y` axis. Each individual in a population is then represented as a line. Let's try this method, increasing the number of objectives to 10."
   ]
  },
  {
   "cell_type": "code",
   "execution_count": 191,
   "metadata": {
    "slideshow": {
     "slide_type": "fragment"
    }
   },
   "outputs": [
    {
     "data": {
      "text/plain": [
       "init (generic function with 1 method)"
      ]
     },
     "execution_count": 191,
     "metadata": {},
     "output_type": "execute_result"
    }
   ],
   "source": [
    "n = 100\n",
    "n_objectives = 8\n",
    "values = rand(n, n_objectives)\n",
    "values = values ./ sum(values, dims=1)\n",
    "weights = rand(n)\n",
    "weights = weights ./ sum(weights)\n",
    "max_weight = 0.5\n",
    "popsize = 100\n",
    "nbgen = 50\n",
    "init() = bitrand(n)"
   ]
  },
  {
   "cell_type": "code",
   "execution_count": 223,
   "metadata": {
    "slideshow": {
     "slide_type": "slide"
    }
   },
   "outputs": [
    {
     "name": "stdout",
     "output_type": "stream",
     "text": [
      "93\n"
     ]
    }
   ],
   "source": [
    "ymin = Inf\n",
    "ymax = -Inf\n",
    "function plot_pop(P)\n",
    "    global ymin = min(ymin, minimum([minimum(i.y) for i in P]))\n",
    "    global ymax = max(ymax, maximum([maximum(i.y) for i in P]))\n",
    "    plot(xlims=(1, n_objectives), ylims=(ymin, ymax))\n",
    "    ND = filter(indiv -> indiv.rank == 1, P)\n",
    "    dominated1 = filter(indiv -> indiv.rank == 2, P)\n",
    "    dominated = filter(indiv->indiv.rank > 2, P)\n",
    "    for i in dominated\n",
    "        plot!(1:n_objectives, collect(i.y), legend=:none, color=:blue)\n",
    "    end\n",
    "    for i in dominated1\n",
    "        plot!(1:n_objectives, collect(i.y), legend=:none, color=:orange)\n",
    "    end\n",
    "    for i in ND\n",
    "        plot!(1:n_objectives, collect(i.y), legend=:none, color=:red)\n",
    "    end\n",
    "    sleep(2.0)\n",
    "end\n",
    "\n",
    "non_dominated = nsga_max(popsize, 50, objective, init, fCV=constraint,\n",
    "    fplot=plot_pop, plotevery=10, showprogress=false);\n",
    "\n",
    "println(length(unique([collect(i.y) for i in non_dominated])));"
   ]
  },
  {
   "cell_type": "markdown",
   "metadata": {
    "slideshow": {
     "slide_type": "slide"
    }
   },
   "source": [
    "<div class=\"alert alert-success\">\n",
    "    <b>Exercise 4</b>\n",
    "    <br/>\n",
    "Gradually increase $K$, the number of objectives, and watch the number of non-dominated individuals in the population over evolution. What do you notice as $K$ increases?\n",
    "    <br/>\n",
    "</div>"
   ]
  },
  {
   "cell_type": "code",
   "execution_count": 234,
   "metadata": {},
   "outputs": [
    {
     "name": "stdout",
     "output_type": "stream",
     "text": [
      "K 1 : 0.9999999999999999\n",
      "K 2 : 8.5\n",
      "K 3 : 16.8\n",
      "K 4 : 36.3\n",
      "K 5 : 67.6\n",
      "K 6 : 67.8\n",
      "K 7 : 95.1\n",
      "K 8 : 94.0\n",
      "K 9 : 92.2\n",
      "K 10 : 95.2\n",
      "K 11 : 98.9\n",
      "K 12 : 98.5\n",
      "K 13 : 98.10000000000001\n",
      "K 14 : 97.6\n",
      "K 15 : 99.10000000000001\n"
     ]
    },
    {
     "data": {
      "text/plain": [
       "99"
      ]
     },
     "execution_count": 234,
     "metadata": {},
     "output_type": "execute_result"
    }
   ],
   "source": [
    "id_moy=10\n",
    "n = 100\n",
    "max_weight = 0.5\n",
    "popsize = 100\n",
    "nbgen = 50\n",
    "moy=0\n",
    "for k in 1:1:15\n",
    "    moy=0\n",
    "    n_objectives = k\n",
    "    values = rand(n, n_objectives)\n",
    "    values = values ./ sum(values, dims=1)\n",
    "    weights = rand(n)\n",
    "    weights = weights ./ sum(weights)\n",
    "    init() = bitrand(n)\n",
    "    for i in 1:id_moy\n",
    "        non_dominated = nsga_max(popsize, 50, objective, init, fCV=constraint)\n",
    "        moy+=length(unique([collect(i.y) for i in non_dominated]))/id_moy\n",
    "    end\n",
    "    println(\"K \",k,\" : \",moy)\n",
    "end\n",
    "    length(unique([collect(i.y) for i in non_dominated]))"
   ]
  },
  {
   "cell_type": "markdown",
   "metadata": {},
   "source": [
    "Plus K est grand et plus il y a d'individus non dominés. Il devient plus dur de trouver de trouver des individus meilleurs que les autres sur plusieurs objectifs ..."
   ]
  }
 ],
 "metadata": {
  "celltoolbar": "Slideshow",
  "kernelspec": {
   "display_name": "Julia 1.4.1",
   "language": "julia",
   "name": "julia-1.4"
  },
  "language_info": {
   "file_extension": ".jl",
   "mimetype": "application/julia",
   "name": "julia",
   "version": "1.4.1"
  }
 },
 "nbformat": 4,
 "nbformat_minor": 2
}
